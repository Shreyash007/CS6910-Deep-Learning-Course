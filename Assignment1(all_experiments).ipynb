{
  "nbformat": 4,
  "nbformat_minor": 0,
  "metadata": {
    "colab": {
      "provenance": [],
      "authorship_tag": "ABX9TyOPuvSqDZkwheeKLlAGYTlw",
      "include_colab_link": true
    },
    "kernelspec": {
      "name": "python3",
      "display_name": "Python 3"
    },
    "language_info": {
      "name": "python"
    },
    "gpuClass": "standard",
    "widgets": {
      "application/vnd.jupyter.widget-state+json": {
        "2ac339daa33542d4a51ab9b4f617b88f": {
          "model_module": "@jupyter-widgets/controls",
          "model_name": "VBoxModel",
          "model_module_version": "1.5.0",
          "state": {
            "_dom_classes": [],
            "_model_module": "@jupyter-widgets/controls",
            "_model_module_version": "1.5.0",
            "_model_name": "VBoxModel",
            "_view_count": null,
            "_view_module": "@jupyter-widgets/controls",
            "_view_module_version": "1.5.0",
            "_view_name": "VBoxView",
            "box_style": "",
            "children": [
              "IPY_MODEL_60d6ca419aeb4bcbb1f6399ccffaf50d",
              "IPY_MODEL_1a667168a43b47c6ac60184022d50713"
            ],
            "layout": "IPY_MODEL_c850318162434a489054839324879a17"
          }
        },
        "60d6ca419aeb4bcbb1f6399ccffaf50d": {
          "model_module": "@jupyter-widgets/controls",
          "model_name": "LabelModel",
          "model_module_version": "1.5.0",
          "state": {
            "_dom_classes": [],
            "_model_module": "@jupyter-widgets/controls",
            "_model_module_version": "1.5.0",
            "_model_name": "LabelModel",
            "_view_count": null,
            "_view_module": "@jupyter-widgets/controls",
            "_view_module_version": "1.5.0",
            "_view_name": "LabelView",
            "description": "",
            "description_tooltip": null,
            "layout": "IPY_MODEL_9ccd0e04bd044e8bb36b93c5e3cf5ab8",
            "placeholder": "​",
            "style": "IPY_MODEL_b61950e304d34804a6f8e501e1401163",
            "value": "0.001 MB of 0.011 MB uploaded (0.000 MB deduped)\r"
          }
        },
        "1a667168a43b47c6ac60184022d50713": {
          "model_module": "@jupyter-widgets/controls",
          "model_name": "FloatProgressModel",
          "model_module_version": "1.5.0",
          "state": {
            "_dom_classes": [],
            "_model_module": "@jupyter-widgets/controls",
            "_model_module_version": "1.5.0",
            "_model_name": "FloatProgressModel",
            "_view_count": null,
            "_view_module": "@jupyter-widgets/controls",
            "_view_module_version": "1.5.0",
            "_view_name": "ProgressView",
            "bar_style": "",
            "description": "",
            "description_tooltip": null,
            "layout": "IPY_MODEL_c5a7da12d61d4f31b112d66b0deee13d",
            "max": 1,
            "min": 0,
            "orientation": "horizontal",
            "style": "IPY_MODEL_a47ea1f4fa954438bea40a1332ab0b1c",
            "value": 0.09438841479182829
          }
        },
        "c850318162434a489054839324879a17": {
          "model_module": "@jupyter-widgets/base",
          "model_name": "LayoutModel",
          "model_module_version": "1.2.0",
          "state": {
            "_model_module": "@jupyter-widgets/base",
            "_model_module_version": "1.2.0",
            "_model_name": "LayoutModel",
            "_view_count": null,
            "_view_module": "@jupyter-widgets/base",
            "_view_module_version": "1.2.0",
            "_view_name": "LayoutView",
            "align_content": null,
            "align_items": null,
            "align_self": null,
            "border": null,
            "bottom": null,
            "display": null,
            "flex": null,
            "flex_flow": null,
            "grid_area": null,
            "grid_auto_columns": null,
            "grid_auto_flow": null,
            "grid_auto_rows": null,
            "grid_column": null,
            "grid_gap": null,
            "grid_row": null,
            "grid_template_areas": null,
            "grid_template_columns": null,
            "grid_template_rows": null,
            "height": null,
            "justify_content": null,
            "justify_items": null,
            "left": null,
            "margin": null,
            "max_height": null,
            "max_width": null,
            "min_height": null,
            "min_width": null,
            "object_fit": null,
            "object_position": null,
            "order": null,
            "overflow": null,
            "overflow_x": null,
            "overflow_y": null,
            "padding": null,
            "right": null,
            "top": null,
            "visibility": null,
            "width": null
          }
        },
        "9ccd0e04bd044e8bb36b93c5e3cf5ab8": {
          "model_module": "@jupyter-widgets/base",
          "model_name": "LayoutModel",
          "model_module_version": "1.2.0",
          "state": {
            "_model_module": "@jupyter-widgets/base",
            "_model_module_version": "1.2.0",
            "_model_name": "LayoutModel",
            "_view_count": null,
            "_view_module": "@jupyter-widgets/base",
            "_view_module_version": "1.2.0",
            "_view_name": "LayoutView",
            "align_content": null,
            "align_items": null,
            "align_self": null,
            "border": null,
            "bottom": null,
            "display": null,
            "flex": null,
            "flex_flow": null,
            "grid_area": null,
            "grid_auto_columns": null,
            "grid_auto_flow": null,
            "grid_auto_rows": null,
            "grid_column": null,
            "grid_gap": null,
            "grid_row": null,
            "grid_template_areas": null,
            "grid_template_columns": null,
            "grid_template_rows": null,
            "height": null,
            "justify_content": null,
            "justify_items": null,
            "left": null,
            "margin": null,
            "max_height": null,
            "max_width": null,
            "min_height": null,
            "min_width": null,
            "object_fit": null,
            "object_position": null,
            "order": null,
            "overflow": null,
            "overflow_x": null,
            "overflow_y": null,
            "padding": null,
            "right": null,
            "top": null,
            "visibility": null,
            "width": null
          }
        },
        "b61950e304d34804a6f8e501e1401163": {
          "model_module": "@jupyter-widgets/controls",
          "model_name": "DescriptionStyleModel",
          "model_module_version": "1.5.0",
          "state": {
            "_model_module": "@jupyter-widgets/controls",
            "_model_module_version": "1.5.0",
            "_model_name": "DescriptionStyleModel",
            "_view_count": null,
            "_view_module": "@jupyter-widgets/base",
            "_view_module_version": "1.2.0",
            "_view_name": "StyleView",
            "description_width": ""
          }
        },
        "c5a7da12d61d4f31b112d66b0deee13d": {
          "model_module": "@jupyter-widgets/base",
          "model_name": "LayoutModel",
          "model_module_version": "1.2.0",
          "state": {
            "_model_module": "@jupyter-widgets/base",
            "_model_module_version": "1.2.0",
            "_model_name": "LayoutModel",
            "_view_count": null,
            "_view_module": "@jupyter-widgets/base",
            "_view_module_version": "1.2.0",
            "_view_name": "LayoutView",
            "align_content": null,
            "align_items": null,
            "align_self": null,
            "border": null,
            "bottom": null,
            "display": null,
            "flex": null,
            "flex_flow": null,
            "grid_area": null,
            "grid_auto_columns": null,
            "grid_auto_flow": null,
            "grid_auto_rows": null,
            "grid_column": null,
            "grid_gap": null,
            "grid_row": null,
            "grid_template_areas": null,
            "grid_template_columns": null,
            "grid_template_rows": null,
            "height": null,
            "justify_content": null,
            "justify_items": null,
            "left": null,
            "margin": null,
            "max_height": null,
            "max_width": null,
            "min_height": null,
            "min_width": null,
            "object_fit": null,
            "object_position": null,
            "order": null,
            "overflow": null,
            "overflow_x": null,
            "overflow_y": null,
            "padding": null,
            "right": null,
            "top": null,
            "visibility": null,
            "width": null
          }
        },
        "a47ea1f4fa954438bea40a1332ab0b1c": {
          "model_module": "@jupyter-widgets/controls",
          "model_name": "ProgressStyleModel",
          "model_module_version": "1.5.0",
          "state": {
            "_model_module": "@jupyter-widgets/controls",
            "_model_module_version": "1.5.0",
            "_model_name": "ProgressStyleModel",
            "_view_count": null,
            "_view_module": "@jupyter-widgets/base",
            "_view_module_version": "1.2.0",
            "_view_name": "StyleView",
            "bar_color": null,
            "description_width": ""
          }
        },
        "312cf2e620b742878bbc06209e948446": {
          "model_module": "@jupyter-widgets/controls",
          "model_name": "VBoxModel",
          "model_module_version": "1.5.0",
          "state": {
            "_dom_classes": [],
            "_model_module": "@jupyter-widgets/controls",
            "_model_module_version": "1.5.0",
            "_model_name": "VBoxModel",
            "_view_count": null,
            "_view_module": "@jupyter-widgets/controls",
            "_view_module_version": "1.5.0",
            "_view_name": "VBoxView",
            "box_style": "",
            "children": [
              "IPY_MODEL_5dc9d7347ff5435eae26ad5de95b3327",
              "IPY_MODEL_ca9ab3d39d2a4f3f8793197366bc88e9"
            ],
            "layout": "IPY_MODEL_6a28b4713f784349adbd369468245abb"
          }
        },
        "5dc9d7347ff5435eae26ad5de95b3327": {
          "model_module": "@jupyter-widgets/controls",
          "model_name": "LabelModel",
          "model_module_version": "1.5.0",
          "state": {
            "_dom_classes": [],
            "_model_module": "@jupyter-widgets/controls",
            "_model_module_version": "1.5.0",
            "_model_name": "LabelModel",
            "_view_count": null,
            "_view_module": "@jupyter-widgets/controls",
            "_view_module_version": "1.5.0",
            "_view_name": "LabelView",
            "description": "",
            "description_tooltip": null,
            "layout": "IPY_MODEL_c94ff0c5f4c54606a609fffcc2bc706a",
            "placeholder": "​",
            "style": "IPY_MODEL_6432a2ff941d4a14b67e3c3e3f95a01d",
            "value": "0.001 MB of 0.001 MB uploaded (0.000 MB deduped)\r"
          }
        },
        "ca9ab3d39d2a4f3f8793197366bc88e9": {
          "model_module": "@jupyter-widgets/controls",
          "model_name": "FloatProgressModel",
          "model_module_version": "1.5.0",
          "state": {
            "_dom_classes": [],
            "_model_module": "@jupyter-widgets/controls",
            "_model_module_version": "1.5.0",
            "_model_name": "FloatProgressModel",
            "_view_count": null,
            "_view_module": "@jupyter-widgets/controls",
            "_view_module_version": "1.5.0",
            "_view_name": "ProgressView",
            "bar_style": "",
            "description": "",
            "description_tooltip": null,
            "layout": "IPY_MODEL_0b61dafcb94a457498a9a166bb698cd4",
            "max": 1,
            "min": 0,
            "orientation": "horizontal",
            "style": "IPY_MODEL_fb590936a3514de6a37fb3d11a3061f6",
            "value": 1
          }
        },
        "6a28b4713f784349adbd369468245abb": {
          "model_module": "@jupyter-widgets/base",
          "model_name": "LayoutModel",
          "model_module_version": "1.2.0",
          "state": {
            "_model_module": "@jupyter-widgets/base",
            "_model_module_version": "1.2.0",
            "_model_name": "LayoutModel",
            "_view_count": null,
            "_view_module": "@jupyter-widgets/base",
            "_view_module_version": "1.2.0",
            "_view_name": "LayoutView",
            "align_content": null,
            "align_items": null,
            "align_self": null,
            "border": null,
            "bottom": null,
            "display": null,
            "flex": null,
            "flex_flow": null,
            "grid_area": null,
            "grid_auto_columns": null,
            "grid_auto_flow": null,
            "grid_auto_rows": null,
            "grid_column": null,
            "grid_gap": null,
            "grid_row": null,
            "grid_template_areas": null,
            "grid_template_columns": null,
            "grid_template_rows": null,
            "height": null,
            "justify_content": null,
            "justify_items": null,
            "left": null,
            "margin": null,
            "max_height": null,
            "max_width": null,
            "min_height": null,
            "min_width": null,
            "object_fit": null,
            "object_position": null,
            "order": null,
            "overflow": null,
            "overflow_x": null,
            "overflow_y": null,
            "padding": null,
            "right": null,
            "top": null,
            "visibility": null,
            "width": null
          }
        },
        "c94ff0c5f4c54606a609fffcc2bc706a": {
          "model_module": "@jupyter-widgets/base",
          "model_name": "LayoutModel",
          "model_module_version": "1.2.0",
          "state": {
            "_model_module": "@jupyter-widgets/base",
            "_model_module_version": "1.2.0",
            "_model_name": "LayoutModel",
            "_view_count": null,
            "_view_module": "@jupyter-widgets/base",
            "_view_module_version": "1.2.0",
            "_view_name": "LayoutView",
            "align_content": null,
            "align_items": null,
            "align_self": null,
            "border": null,
            "bottom": null,
            "display": null,
            "flex": null,
            "flex_flow": null,
            "grid_area": null,
            "grid_auto_columns": null,
            "grid_auto_flow": null,
            "grid_auto_rows": null,
            "grid_column": null,
            "grid_gap": null,
            "grid_row": null,
            "grid_template_areas": null,
            "grid_template_columns": null,
            "grid_template_rows": null,
            "height": null,
            "justify_content": null,
            "justify_items": null,
            "left": null,
            "margin": null,
            "max_height": null,
            "max_width": null,
            "min_height": null,
            "min_width": null,
            "object_fit": null,
            "object_position": null,
            "order": null,
            "overflow": null,
            "overflow_x": null,
            "overflow_y": null,
            "padding": null,
            "right": null,
            "top": null,
            "visibility": null,
            "width": null
          }
        },
        "6432a2ff941d4a14b67e3c3e3f95a01d": {
          "model_module": "@jupyter-widgets/controls",
          "model_name": "DescriptionStyleModel",
          "model_module_version": "1.5.0",
          "state": {
            "_model_module": "@jupyter-widgets/controls",
            "_model_module_version": "1.5.0",
            "_model_name": "DescriptionStyleModel",
            "_view_count": null,
            "_view_module": "@jupyter-widgets/base",
            "_view_module_version": "1.2.0",
            "_view_name": "StyleView",
            "description_width": ""
          }
        },
        "0b61dafcb94a457498a9a166bb698cd4": {
          "model_module": "@jupyter-widgets/base",
          "model_name": "LayoutModel",
          "model_module_version": "1.2.0",
          "state": {
            "_model_module": "@jupyter-widgets/base",
            "_model_module_version": "1.2.0",
            "_model_name": "LayoutModel",
            "_view_count": null,
            "_view_module": "@jupyter-widgets/base",
            "_view_module_version": "1.2.0",
            "_view_name": "LayoutView",
            "align_content": null,
            "align_items": null,
            "align_self": null,
            "border": null,
            "bottom": null,
            "display": null,
            "flex": null,
            "flex_flow": null,
            "grid_area": null,
            "grid_auto_columns": null,
            "grid_auto_flow": null,
            "grid_auto_rows": null,
            "grid_column": null,
            "grid_gap": null,
            "grid_row": null,
            "grid_template_areas": null,
            "grid_template_columns": null,
            "grid_template_rows": null,
            "height": null,
            "justify_content": null,
            "justify_items": null,
            "left": null,
            "margin": null,
            "max_height": null,
            "max_width": null,
            "min_height": null,
            "min_width": null,
            "object_fit": null,
            "object_position": null,
            "order": null,
            "overflow": null,
            "overflow_x": null,
            "overflow_y": null,
            "padding": null,
            "right": null,
            "top": null,
            "visibility": null,
            "width": null
          }
        },
        "fb590936a3514de6a37fb3d11a3061f6": {
          "model_module": "@jupyter-widgets/controls",
          "model_name": "ProgressStyleModel",
          "model_module_version": "1.5.0",
          "state": {
            "_model_module": "@jupyter-widgets/controls",
            "_model_module_version": "1.5.0",
            "_model_name": "ProgressStyleModel",
            "_view_count": null,
            "_view_module": "@jupyter-widgets/base",
            "_view_module_version": "1.2.0",
            "_view_name": "StyleView",
            "bar_color": null,
            "description_width": ""
          }
        },
        "d025eb0f6eff48eea1513c7262ba056b": {
          "model_module": "@jupyter-widgets/controls",
          "model_name": "VBoxModel",
          "model_module_version": "1.5.0",
          "state": {
            "_dom_classes": [],
            "_model_module": "@jupyter-widgets/controls",
            "_model_module_version": "1.5.0",
            "_model_name": "VBoxModel",
            "_view_count": null,
            "_view_module": "@jupyter-widgets/controls",
            "_view_module_version": "1.5.0",
            "_view_name": "VBoxView",
            "box_style": "",
            "children": [
              "IPY_MODEL_557d1ae7493a40c78a7dbca491f2a309",
              "IPY_MODEL_38a95c8de45c42859c6664f32639925e"
            ],
            "layout": "IPY_MODEL_a1dc4a214f91405f8ebbc6d25e0d8f66"
          }
        },
        "557d1ae7493a40c78a7dbca491f2a309": {
          "model_module": "@jupyter-widgets/controls",
          "model_name": "LabelModel",
          "model_module_version": "1.5.0",
          "state": {
            "_dom_classes": [],
            "_model_module": "@jupyter-widgets/controls",
            "_model_module_version": "1.5.0",
            "_model_name": "LabelModel",
            "_view_count": null,
            "_view_module": "@jupyter-widgets/controls",
            "_view_module_version": "1.5.0",
            "_view_name": "LabelView",
            "description": "",
            "description_tooltip": null,
            "layout": "IPY_MODEL_8727b2735f3f435e86d92a478146cbe0",
            "placeholder": "​",
            "style": "IPY_MODEL_3099610dfd0442a8b04d21d3f0e29a35",
            "value": "0.002 MB of 0.009 MB uploaded (0.000 MB deduped)\r"
          }
        },
        "38a95c8de45c42859c6664f32639925e": {
          "model_module": "@jupyter-widgets/controls",
          "model_name": "FloatProgressModel",
          "model_module_version": "1.5.0",
          "state": {
            "_dom_classes": [],
            "_model_module": "@jupyter-widgets/controls",
            "_model_module_version": "1.5.0",
            "_model_name": "FloatProgressModel",
            "_view_count": null,
            "_view_module": "@jupyter-widgets/controls",
            "_view_module_version": "1.5.0",
            "_view_name": "ProgressView",
            "bar_style": "",
            "description": "",
            "description_tooltip": null,
            "layout": "IPY_MODEL_e4f025bb7ddf48068f4b278fa8db634f",
            "max": 1,
            "min": 0,
            "orientation": "horizontal",
            "style": "IPY_MODEL_41758d8eca664e8ca1345fbc960b2ec9",
            "value": 0.217206132879046
          }
        },
        "a1dc4a214f91405f8ebbc6d25e0d8f66": {
          "model_module": "@jupyter-widgets/base",
          "model_name": "LayoutModel",
          "model_module_version": "1.2.0",
          "state": {
            "_model_module": "@jupyter-widgets/base",
            "_model_module_version": "1.2.0",
            "_model_name": "LayoutModel",
            "_view_count": null,
            "_view_module": "@jupyter-widgets/base",
            "_view_module_version": "1.2.0",
            "_view_name": "LayoutView",
            "align_content": null,
            "align_items": null,
            "align_self": null,
            "border": null,
            "bottom": null,
            "display": null,
            "flex": null,
            "flex_flow": null,
            "grid_area": null,
            "grid_auto_columns": null,
            "grid_auto_flow": null,
            "grid_auto_rows": null,
            "grid_column": null,
            "grid_gap": null,
            "grid_row": null,
            "grid_template_areas": null,
            "grid_template_columns": null,
            "grid_template_rows": null,
            "height": null,
            "justify_content": null,
            "justify_items": null,
            "left": null,
            "margin": null,
            "max_height": null,
            "max_width": null,
            "min_height": null,
            "min_width": null,
            "object_fit": null,
            "object_position": null,
            "order": null,
            "overflow": null,
            "overflow_x": null,
            "overflow_y": null,
            "padding": null,
            "right": null,
            "top": null,
            "visibility": null,
            "width": null
          }
        },
        "8727b2735f3f435e86d92a478146cbe0": {
          "model_module": "@jupyter-widgets/base",
          "model_name": "LayoutModel",
          "model_module_version": "1.2.0",
          "state": {
            "_model_module": "@jupyter-widgets/base",
            "_model_module_version": "1.2.0",
            "_model_name": "LayoutModel",
            "_view_count": null,
            "_view_module": "@jupyter-widgets/base",
            "_view_module_version": "1.2.0",
            "_view_name": "LayoutView",
            "align_content": null,
            "align_items": null,
            "align_self": null,
            "border": null,
            "bottom": null,
            "display": null,
            "flex": null,
            "flex_flow": null,
            "grid_area": null,
            "grid_auto_columns": null,
            "grid_auto_flow": null,
            "grid_auto_rows": null,
            "grid_column": null,
            "grid_gap": null,
            "grid_row": null,
            "grid_template_areas": null,
            "grid_template_columns": null,
            "grid_template_rows": null,
            "height": null,
            "justify_content": null,
            "justify_items": null,
            "left": null,
            "margin": null,
            "max_height": null,
            "max_width": null,
            "min_height": null,
            "min_width": null,
            "object_fit": null,
            "object_position": null,
            "order": null,
            "overflow": null,
            "overflow_x": null,
            "overflow_y": null,
            "padding": null,
            "right": null,
            "top": null,
            "visibility": null,
            "width": null
          }
        },
        "3099610dfd0442a8b04d21d3f0e29a35": {
          "model_module": "@jupyter-widgets/controls",
          "model_name": "DescriptionStyleModel",
          "model_module_version": "1.5.0",
          "state": {
            "_model_module": "@jupyter-widgets/controls",
            "_model_module_version": "1.5.0",
            "_model_name": "DescriptionStyleModel",
            "_view_count": null,
            "_view_module": "@jupyter-widgets/base",
            "_view_module_version": "1.2.0",
            "_view_name": "StyleView",
            "description_width": ""
          }
        },
        "e4f025bb7ddf48068f4b278fa8db634f": {
          "model_module": "@jupyter-widgets/base",
          "model_name": "LayoutModel",
          "model_module_version": "1.2.0",
          "state": {
            "_model_module": "@jupyter-widgets/base",
            "_model_module_version": "1.2.0",
            "_model_name": "LayoutModel",
            "_view_count": null,
            "_view_module": "@jupyter-widgets/base",
            "_view_module_version": "1.2.0",
            "_view_name": "LayoutView",
            "align_content": null,
            "align_items": null,
            "align_self": null,
            "border": null,
            "bottom": null,
            "display": null,
            "flex": null,
            "flex_flow": null,
            "grid_area": null,
            "grid_auto_columns": null,
            "grid_auto_flow": null,
            "grid_auto_rows": null,
            "grid_column": null,
            "grid_gap": null,
            "grid_row": null,
            "grid_template_areas": null,
            "grid_template_columns": null,
            "grid_template_rows": null,
            "height": null,
            "justify_content": null,
            "justify_items": null,
            "left": null,
            "margin": null,
            "max_height": null,
            "max_width": null,
            "min_height": null,
            "min_width": null,
            "object_fit": null,
            "object_position": null,
            "order": null,
            "overflow": null,
            "overflow_x": null,
            "overflow_y": null,
            "padding": null,
            "right": null,
            "top": null,
            "visibility": null,
            "width": null
          }
        },
        "41758d8eca664e8ca1345fbc960b2ec9": {
          "model_module": "@jupyter-widgets/controls",
          "model_name": "ProgressStyleModel",
          "model_module_version": "1.5.0",
          "state": {
            "_model_module": "@jupyter-widgets/controls",
            "_model_module_version": "1.5.0",
            "_model_name": "ProgressStyleModel",
            "_view_count": null,
            "_view_module": "@jupyter-widgets/base",
            "_view_module_version": "1.2.0",
            "_view_name": "StyleView",
            "bar_color": null,
            "description_width": ""
          }
        }
      }
    }
  },
  "cells": [
    {
      "cell_type": "markdown",
      "metadata": {
        "id": "view-in-github",
        "colab_type": "text"
      },
      "source": [
        "<a href=\"https://colab.research.google.com/github/Shreyash007/CS6910-Deep-Learning-Course/blob/main/Assignment1(all_experiments).ipynb\" target=\"_parent\"><img src=\"https://colab.research.google.com/assets/colab-badge.svg\" alt=\"Open In Colab\"/></a>"
      ]
    },
    {
      "cell_type": "markdown",
      "source": [
        "# **Assignment 1 CS6910**\n",
        "Shreyash Gadgil (ED22S016)"
      ],
      "metadata": {
        "id": "9LINEVNo0Fo7"
      }
    },
    {
      "cell_type": "code",
      "source": [
        "!pip install --upgrade wandb\n",
        "!wandb login aa5afea12b4fda1e7f8310b597eb17c73d1176d2 #my API key for wandb login "
      ],
      "metadata": {
        "colab": {
          "base_uri": "https://localhost:8080/"
        },
        "id": "sC2z2tS8Ccxo",
        "outputId": "9ac8d1bb-0bcd-4398-a98d-80ce22124112"
      },
      "execution_count": 1,
      "outputs": [
        {
          "output_type": "stream",
          "name": "stdout",
          "text": [
            "Looking in indexes: https://pypi.org/simple, https://us-python.pkg.dev/colab-wheels/public/simple/\n",
            "Collecting wandb\n",
            "  Downloading wandb-0.14.0-py3-none-any.whl (2.0 MB)\n",
            "\u001b[2K     \u001b[90m━━━━━━━━━━━━━━━━━━━━━━━━━━━━━━━━━━━━━━━━\u001b[0m \u001b[32m2.0/2.0 MB\u001b[0m \u001b[31m14.5 MB/s\u001b[0m eta \u001b[36m0:00:00\u001b[0m\n",
            "\u001b[?25hRequirement already satisfied: setuptools in /usr/local/lib/python3.9/dist-packages (from wandb) (63.4.3)\n",
            "Collecting GitPython!=3.1.29,>=1.0.0\n",
            "  Downloading GitPython-3.1.31-py3-none-any.whl (184 kB)\n",
            "\u001b[2K     \u001b[90m━━━━━━━━━━━━━━━━━━━━━━━━━━━━━━━━━━━━━━\u001b[0m \u001b[32m184.3/184.3 KB\u001b[0m \u001b[31m16.8 MB/s\u001b[0m eta \u001b[36m0:00:00\u001b[0m\n",
            "\u001b[?25hRequirement already satisfied: psutil>=5.0.0 in /usr/local/lib/python3.9/dist-packages (from wandb) (5.9.4)\n",
            "Collecting docker-pycreds>=0.4.0\n",
            "  Downloading docker_pycreds-0.4.0-py2.py3-none-any.whl (9.0 kB)\n",
            "Requirement already satisfied: protobuf!=4.21.0,<5,>=3.15.0 in /usr/local/lib/python3.9/dist-packages (from wandb) (3.19.6)\n",
            "Requirement already satisfied: PyYAML in /usr/local/lib/python3.9/dist-packages (from wandb) (6.0)\n",
            "Requirement already satisfied: requests<3,>=2.0.0 in /usr/local/lib/python3.9/dist-packages (from wandb) (2.27.1)\n",
            "Collecting setproctitle\n",
            "  Downloading setproctitle-1.3.2-cp39-cp39-manylinux_2_5_x86_64.manylinux1_x86_64.manylinux_2_17_x86_64.manylinux2014_x86_64.whl (30 kB)\n",
            "Requirement already satisfied: typing-extensions in /usr/local/lib/python3.9/dist-packages (from wandb) (4.5.0)\n",
            "Collecting sentry-sdk>=1.0.0\n",
            "  Downloading sentry_sdk-1.17.0-py2.py3-none-any.whl (189 kB)\n",
            "\u001b[2K     \u001b[90m━━━━━━━━━━━━━━━━━━━━━━━━━━━━━━━━━━━━━━\u001b[0m \u001b[32m189.1/189.1 KB\u001b[0m \u001b[31m23.2 MB/s\u001b[0m eta \u001b[36m0:00:00\u001b[0m\n",
            "\u001b[?25hCollecting appdirs>=1.4.3\n",
            "  Downloading appdirs-1.4.4-py2.py3-none-any.whl (9.6 kB)\n",
            "Requirement already satisfied: Click!=8.0.0,>=7.0 in /usr/local/lib/python3.9/dist-packages (from wandb) (8.1.3)\n",
            "Collecting pathtools\n",
            "  Downloading pathtools-0.1.2.tar.gz (11 kB)\n",
            "  Preparing metadata (setup.py) ... \u001b[?25l\u001b[?25hdone\n",
            "Requirement already satisfied: six>=1.4.0 in /usr/local/lib/python3.9/dist-packages (from docker-pycreds>=0.4.0->wandb) (1.15.0)\n",
            "Collecting gitdb<5,>=4.0.1\n",
            "  Downloading gitdb-4.0.10-py3-none-any.whl (62 kB)\n",
            "\u001b[2K     \u001b[90m━━━━━━━━━━━━━━━━━━━━━━━━━━━━━━━━━━━━━━━━\u001b[0m \u001b[32m62.7/62.7 KB\u001b[0m \u001b[31m7.7 MB/s\u001b[0m eta \u001b[36m0:00:00\u001b[0m\n",
            "\u001b[?25hRequirement already satisfied: idna<4,>=2.5 in /usr/local/lib/python3.9/dist-packages (from requests<3,>=2.0.0->wandb) (3.4)\n",
            "Requirement already satisfied: charset-normalizer~=2.0.0 in /usr/local/lib/python3.9/dist-packages (from requests<3,>=2.0.0->wandb) (2.0.12)\n",
            "Requirement already satisfied: certifi>=2017.4.17 in /usr/local/lib/python3.9/dist-packages (from requests<3,>=2.0.0->wandb) (2022.12.7)\n",
            "Requirement already satisfied: urllib3<1.27,>=1.21.1 in /usr/local/lib/python3.9/dist-packages (from requests<3,>=2.0.0->wandb) (1.26.15)\n",
            "Collecting smmap<6,>=3.0.1\n",
            "  Downloading smmap-5.0.0-py3-none-any.whl (24 kB)\n",
            "Building wheels for collected packages: pathtools\n",
            "  Building wheel for pathtools (setup.py) ... \u001b[?25l\u001b[?25hdone\n",
            "  Created wheel for pathtools: filename=pathtools-0.1.2-py3-none-any.whl size=8807 sha256=367bca92aed12da5e4b50e5965ace43266903320fc5d6b0f50701e80741fd52e\n",
            "  Stored in directory: /root/.cache/pip/wheels/b7/0a/67/ada2a22079218c75a88361c0782855cc72aebc4d18d0289d05\n",
            "Successfully built pathtools\n",
            "Installing collected packages: pathtools, appdirs, smmap, setproctitle, sentry-sdk, docker-pycreds, gitdb, GitPython, wandb\n",
            "Successfully installed GitPython-3.1.31 appdirs-1.4.4 docker-pycreds-0.4.0 gitdb-4.0.10 pathtools-0.1.2 sentry-sdk-1.17.0 setproctitle-1.3.2 smmap-5.0.0 wandb-0.14.0\n",
            "\u001b[34m\u001b[1mwandb\u001b[0m: Appending key for api.wandb.ai to your netrc file: /root/.netrc\n"
          ]
        }
      ]
    },
    {
      "cell_type": "markdown",
      "source": [
        "#**Libraries used**\n",
        "1. numpy: For matrix calculations\n",
        "2. keras: For importing required dataset\n",
        "3. wandb: For logging the data\n",
        "4. tqdm: to create progress bar for loops\n",
        "5. sklearn: For random test-train split "
      ],
      "metadata": {
        "id": "G4iCjM7Q0SiV"
      }
    },
    {
      "cell_type": "code",
      "execution_count": 2,
      "metadata": {
        "id": "P0c3goK0vrQL"
      },
      "outputs": [],
      "source": [
        "from keras.datasets import fashion_mnist\n",
        "import numpy as np\n",
        "from sklearn.model_selection import train_test_split\n",
        "import wandb\n",
        "from tqdm import tqdm"
      ]
    },
    {
      "cell_type": "markdown",
      "source": [
        "# **Q1 Solution**\n",
        "Labelling dataset"
      ],
      "metadata": {
        "id": "a0Q5Mjvy0XZL"
      }
    },
    {
      "cell_type": "code",
      "source": [
        "(X_train, Y_train), (X_test, Y_test) = fashion_mnist.load_data()\n",
        "#importing dataset(add this in show_images function as variable)\n",
        "\n",
        "#checking size of training and test dataset\n",
        "print(\"Training dataset shape, X=\",X_train.shape,\", Y=\",Y_train.shape)\n",
        "print(\"Test dataset shape, X=\",X_test.shape,\", Y=\",Y_test.shape)\n",
        "\n",
        "n_img_classes=len(np.unique(Y_train)) #to find out number of unique images \n",
        "img_labels = ['T-shirt/top', 'Trouser', 'Pullover', 'Dress', 'Coat', 'Sandal', 'Shirt', 'Sneaker', 'Bag', 'Ankle boot'] #taken from keras documentation\n",
        "\n",
        "\n",
        "def show_images(n_img_classes,img_labels,X,Y):\n",
        "\n",
        "   setImgs = []\n",
        "   setLabels=[]\n",
        "\n",
        "   for i in range(len(X)):\n",
        "     if len(setImgs)==n_img_classes:\n",
        "       break\n",
        "     if img_labels[Y[i]] not in setLabels:\n",
        "      setImgs.append(X[i])\n",
        "      setLabels.append(img_labels[Y[i]])\n",
        "\n",
        "   run=wandb.init(project='CS-6910 A1',entity='shreyashgadgil007',reinit=True)\n",
        "   run.log({\"Sample from each class\":list(wandb.Image(img,caption= caption) for img,caption in zip(setImgs,setLabels))})\n",
        "   run.finish()\n",
        "#----------------------------------------------------------------------------------------------------------------------------------------------------------------------------------\n",
        "#--------------------------------------------------------------------------Q1 SOLUTION---------------------------------------------------------------------------------------------\n",
        "#---------------------------------------------------------------------------------------------------------------------------------------------------------------------------------\n",
        "#UNCOMMENT BELOW FUNCTION TO GET Q1 SOLUTION\n",
        "#show_images(n_img_classes,img_labels,X_test,Y_test)\n"
      ],
      "metadata": {
        "colab": {
          "base_uri": "https://localhost:8080/"
        },
        "id": "ZEPtktkP0cLG",
        "outputId": "1a50adbb-d0ab-411c-96a0-9f4c2265c128"
      },
      "execution_count": 3,
      "outputs": [
        {
          "output_type": "stream",
          "name": "stdout",
          "text": [
            "Downloading data from https://storage.googleapis.com/tensorflow/tf-keras-datasets/train-labels-idx1-ubyte.gz\n",
            "29515/29515 [==============================] - 0s 0us/step\n",
            "Downloading data from https://storage.googleapis.com/tensorflow/tf-keras-datasets/train-images-idx3-ubyte.gz\n",
            "26421880/26421880 [==============================] - 2s 0us/step\n",
            "Downloading data from https://storage.googleapis.com/tensorflow/tf-keras-datasets/t10k-labels-idx1-ubyte.gz\n",
            "5148/5148 [==============================] - 0s 0us/step\n",
            "Downloading data from https://storage.googleapis.com/tensorflow/tf-keras-datasets/t10k-images-idx3-ubyte.gz\n",
            "4422102/4422102 [==============================] - 0s 0us/step\n",
            "Training dataset shape, X= (60000, 28, 28) , Y= (60000,)\n",
            "Test dataset shape, X= (10000, 28, 28) , Y= (10000,)\n"
          ]
        }
      ]
    },
    {
      "cell_type": "markdown",
      "source": [
        "# **Preprocessing dataset for operations**\n",
        "1. Creating random training,test,validation split for dataset\n",
        "2. Reshaping image matrix and normalizing pixel values\n",
        "3. One hot encoding classifications\n"
      ],
      "metadata": {
        "id": "ySDC6Ck0GjBm"
      }
    },
    {
      "cell_type": "code",
      "source": [
        "def dataset_preprocess():\n",
        "  #change the code below to accept different dataset\n",
        "  (X_1, Y_1), (X_test, Y_test) = fashion_mnist.load_data()\n",
        "  \n",
        "  #importing dataset again and normalizing\n",
        "  X_1 = X_1.reshape(X_1.shape[0],-1)/255.0\n",
        "  X_test = X_test.reshape(X_test.shape[0],-1)/255.0\n",
        "\n",
        "  #training and validation split as specified in the question 10%\n",
        "  X_train, X_val, Y_train, Y_val= train_test_split(X_1,Y_1,test_size=0.1,random_state=0)\n",
        "  \n",
        "  #one hot encoding\n",
        "  Y_train_encoded=np.zeros((Y_train.shape[0],10))\n",
        "  for i in range(len(Y_train)):\n",
        "    Y_train_encoded[i][Y_train[i]]=1\n",
        "\n",
        "  Y_val_encoded=np.zeros((Y_val.shape[0],10))\n",
        "  for i in range(len(Y_val)):\n",
        "    Y_val_encoded[i][Y_val[i]]=1\n",
        "\n",
        "  Y_test_encoded=np.zeros((Y_test.shape[0],10))\n",
        "  for i in range(len(Y_test)):\n",
        "    Y_test_encoded[i][Y_test[i]]=1\n",
        "\n",
        "  return X_train.T,X_test.T,X_val.T,Y_train.T,Y_val.T,Y_test.T,Y_train_encoded.T,Y_val_encoded.T,Y_test_encoded.T\n",
        "\n",
        "#Below variables will be used in the entire code\n",
        "X_train,X_test,X_val,Y_train,Y_val,Y_test,Y_train_encoded,Y_val_encoded,Y_test_encoded=dataset_preprocess()\n",
        "\n",
        "print(Y_val_encoded.shape)\n",
        "print(X_test.shape)\n",
        "print(Y_train_encoded.shape)\n",
        "print(X_train.shape)\n",
        "print(Y_val.shape)\n",
        "print(Y_test_encoded.shape)"
      ],
      "metadata": {
        "colab": {
          "base_uri": "https://localhost:8080/"
        },
        "id": "IuMSSFIfGiZ_",
        "outputId": "9c8053b9-6f48-424d-ec19-4249956e5a7a"
      },
      "execution_count": 4,
      "outputs": [
        {
          "output_type": "stream",
          "name": "stdout",
          "text": [
            "(10, 6000)\n",
            "(784, 10000)\n",
            "(10, 54000)\n",
            "(784, 54000)\n",
            "(6000,)\n",
            "(10, 10000)\n"
          ]
        }
      ]
    },
    {
      "cell_type": "markdown",
      "source": [
        "# **Helper functions**\n",
        "1. Declared activation functions and their gradients\n",
        "2. Declared loss functions and their gradients\n",
        "3. Declared initialisation functions \n",
        "4. Declared a function to initialize weights and biases"
      ],
      "metadata": {
        "id": "XCmVKBiE362R"
      }
    },
    {
      "cell_type": "code",
      "source": [
        "#---------------------------------------------------------------ACTIVATION FUNCTIONS AND THEIR GRADIENTS-------------------------------------------------------------------------------\n",
        "def relu(X):\n",
        "  return np.maximum(0,X)\n",
        "\n",
        "def grad_relu(X):\n",
        "  return X>0\n",
        "\n",
        "def sigmoid(X):\n",
        "  return 1/(1+np.exp(-X))\n",
        "\n",
        "def grad_sigmoid(X):\n",
        "  return (sigmoid(X))*(1-sigmoid(X))\n",
        "\n",
        "def tanh(X):\n",
        "  return (np.exp(X)-np.exp(-X))/(np.exp(X)+np.exp(-X))\n",
        "\n",
        "def grad_tanh(X):\n",
        "  return 1-(tanh(X))**2\n",
        "\n",
        "def softmax(X):\n",
        "  e_X = np.exp(X - np.max(X, axis = 0))\n",
        "  return e_X / e_X.sum(axis = 0)\n",
        "\n",
        "\n",
        "activation_function={\n",
        "      'sigmoid':sigmoid,\n",
        "      'relu':relu,\n",
        "      'tanh':tanh\n",
        "}\n",
        "\n",
        "grad_activation_function={\n",
        "      'sigmoid':grad_sigmoid,\n",
        "      'relu':grad_relu,\n",
        "      'tanh':grad_tanh\n",
        "}\n",
        "#---------------------------------------------------------------------------LOSS FUNCTION---------------------------------------------------------------------------------------------\n",
        "def cross_entropy_loss(Y_encoded,Y,Y_pred,lambd,b):\n",
        " loss = (-np.sum(np.multiply(Y_encoded,np.log(Y_pred)))+((lambd/2.)*b))/Y.shape[0]\n",
        " return loss\n",
        " \n",
        "def squared_error_loss(Y_encoded,Y,Y_pred,lambd,b):\n",
        "  loss=((1/2)*(np.sum(Y_encoded-Y_pred))**2)/Y.shape[0]+(lambd*b*0)\n",
        "  return loss\n",
        "\n",
        "loss_function={\n",
        "       'cross_entropy':cross_entropy_loss,\n",
        "       'square_loss':squared_error_loss\n",
        "}   \n",
        "\n",
        "\n",
        "def grad_cross_entropy(Y,Y_pred):\n",
        "  return (Y_pred-Y)\n",
        "\n",
        "def grad_squared_error_loss(Y,Y_pred):  \n",
        "  return (Y_pred-Y)*(Y_pred)*(1-Y_pred)\n",
        "\n",
        "grad_loss_function={\n",
        "    'cross_entropy':grad_cross_entropy,\n",
        "    'square_loss':grad_squared_error_loss\n",
        "}\n",
        "\n",
        "#----------------------------------------------------------------------INITIALISATION FUNCTIONS---------------------------------------------------------------------------------------\n",
        "def random_initialisation(shape):\n",
        "  # Initialising a random matrix with given dimensions (shape) as tuple\n",
        "  np.random.seed(0)\n",
        "  return np.random.randn(*shape)*0.3 #multiplied by 0.5 to have smaller values, to have better initialisation weights\n",
        "\n",
        "def xavier_initialisation(shape):\n",
        "    # Calculate the number of inputs and outputs\n",
        "    n_in = shape[0]\n",
        "    n_out = shape[1]    \n",
        "    # Calculate the variance of the normal distribution\n",
        "    variance = 2.0 / (n_in + n_out)\n",
        "    # Initialize the weights with random values drawn from the normal distribution\n",
        "    np.random.seed(0)\n",
        "    weights = np.random.randn(n_in, n_out) * np.sqrt(variance)*2.0\n",
        "    \n",
        "    return weights\n",
        "\n",
        "initialisation_function={\n",
        "    'random':random_initialisation,\n",
        "    'xavier':xavier_initialisation\n",
        "}\n",
        "#------------------------------------------------------------------INITIALIZING WEIGHTS AND BIASES------------------------------------------------------------------------------------\n",
        "\n",
        "\n",
        "def initialize_w_b(input_layer,hidden_layer,output_layer,init):\n",
        "  weights=[]\n",
        "  biases=[]\n",
        "  layers=[input_layer]+hidden_layer+[output_layer]\n",
        "  for i in range(len(hidden_layer)+1): \n",
        "    weights.append(initialisation_function[init]((layers[i+1],layers[i])))\n",
        "    biases.append(np.random.randn(layers[i+1],1)*0.3)\n",
        "  return weights, biases\n",
        "\n",
        "'''\n",
        "#testing weights and biases output(for debugging shape size of matrix) \n",
        "output_layer = 10\n",
        "input_layer = X_test.shape[1]\n",
        "print(X_test.shape)\n",
        "hidden_layer = [64, 64]\n",
        "weights, biases = initialize_w_b(input_layer, hidden_layer, output_layer, 'xavier')\n",
        "for i in range(len(weights)):\n",
        "    print(weights[i].shape)\n",
        "    \n",
        "for i in range(len(biases)):\n",
        "    print(biases[i].shape)\n",
        "\n",
        "weights2, biases2 = initialize_w_b(input_layer, hidden_layer, output_layer, 'random')\n",
        "for i in range(len(weights2)):\n",
        "    print(weights2[i].shape)\n",
        "    \n",
        "for i in range(len(biases2)):\n",
        "    print(biases2[i].shape)\n",
        "'''"
      ],
      "metadata": {
        "colab": {
          "base_uri": "https://localhost:8080/",
          "height": 88
        },
        "id": "SIulf2iI377n",
        "outputId": "7757650b-e5e4-4762-ac62-824aa8482a42"
      },
      "execution_count": 5,
      "outputs": [
        {
          "output_type": "execute_result",
          "data": {
            "text/plain": [
              "\"\\n#testing weights and biases output(for debugging shape size of matrix) \\noutput_layer = 10\\ninput_layer = X_test.shape[1]\\nprint(X_test.shape)\\nhidden_layer = [64, 64]\\nweights, biases = initialize_w_b(input_layer, hidden_layer, output_layer, 'xavier')\\nfor i in range(len(weights)):\\n    print(weights[i].shape)\\n    \\nfor i in range(len(biases)):\\n    print(biases[i].shape)\\n\\nweights2, biases2 = initialize_w_b(input_layer, hidden_layer, output_layer, 'random')\\nfor i in range(len(weights2)):\\n    print(weights2[i].shape)\\n    \\nfor i in range(len(biases2)):\\n    print(biases2[i].shape)\\n\""
            ],
            "application/vnd.google.colaboratory.intrinsic+json": {
              "type": "string"
            }
          },
          "metadata": {},
          "execution_count": 5
        }
      ]
    },
    {
      "cell_type": "markdown",
      "source": [
        "# **Neural Network**\n",
        "1. With forward propagation\n",
        "2. Backward propagation with different optimizers\n",
        "3. A train function, which fits and trains the given set\n",
        "\n",
        "# Q3 IMPLEMENTED BELOW"
      ],
      "metadata": {
        "id": "L20aDODvd-I_"
      }
    },
    {
      "cell_type": "code",
      "source": [
        "class NeuralNet():\n",
        "\n",
        "  def __init__(self,input_layer,hidden_layer,output_layer,initialisation_func,act_function,loss_func,dropout_rate):\n",
        "     self.input_layer=input_layer\n",
        "     self.hidden_layer=hidden_layer\n",
        "     self.output_layer=output_layer\n",
        "     self.initialisation_func=initialisation_func\n",
        "     self.act_function=act_function\n",
        "     self.loss_func=loss_func\n",
        "     self.weights,self.biases = initialize_w_b(self.input_layer,self.hidden_layer,self.output_layer,self.initialisation_func)\n",
        "     self.layer_size=len(self.hidden_layer)\n",
        "     self.dropout_rate=dropout_rate\n",
        "\n",
        "\n",
        "  \n",
        "  def forward_propagation(self,X):\n",
        "     #pre-activation\n",
        "     self.a=[]\n",
        "     #post-activation\n",
        "     self.h=[]\n",
        "     self.D=[]\n",
        "     l=0\n",
        "     \n",
        "     #pre-activation and post-activation for input layer and first hidden layer\n",
        "     self.a.append((self.weights[l]@X)+self.biases[l])#WX+b\n",
        "     if(self.dropout_rate!=0):\n",
        "                    dropRate=(1-self.dropout_rate)\n",
        "                    d= np.random.rand(self.a[l].shape[0], self.a[l].shape[1])\n",
        "                    d=d<dropRate\n",
        "                    self.D.append(d)\n",
        "                    self.a[l]=self.a[l]*d\n",
        "                    self.a[l]=self.a[l]/dropRate\n",
        "     self.h.append(activation_function[self.act_function](self.a[l]))\n",
        "     \n",
        "     #pre-activation and post-activation between hidden layers\n",
        "     for l in range(1,self.layer_size):\n",
        "       self.a.append((self.weights[l]@self.h[l-1])+self.biases[l])\n",
        "       if(self.dropout_rate!=0):\n",
        "                    dropRate=(1-self.dropout_rate)\n",
        "                    d= np.random.rand(self.a[l].shape[0], self.a[l].shape[1])\n",
        "                    d=d<dropRate\n",
        "                    self.D.append(d)\n",
        "                    self.a[l]=self.a[l]*d\n",
        "                    self.a[l]=self.a[l]/dropRate\n",
        "       self.h.append(activation_function[self.act_function](self.a[l]))\n",
        "       \n",
        "     #pre-activation and post-activation between last hidden layer and output layer\n",
        "     l=self.layer_size \n",
        "     self.a.append((self.weights[l]@self.h[l-1])+self.biases[l])\n",
        "     self.h.append(softmax(self.a[l]))\n",
        "     \n",
        "     return self.h[-1]\n",
        "\n",
        "#-----------------------------------------------------------------------------------------------------------------------------------------------------------------------------\n",
        "#---------------------------------------------------Q3 BACK PROPPAGATION FRAMEWORK WITH OPTIMIZATION FUNCTIONS-----------------------------------------------------------------\n",
        "#------------------------------------------------------------------------------------------------------------------------------------------------------------------------------  \n",
        "  def back_propagation(self,X,Y):\n",
        "\n",
        "        g_a  = [0]*(self.layer_size+1)\n",
        "        g_h  = [0]*(self.layer_size+1)\n",
        "        g_w  = [0]*(len(self.weights))\n",
        "        g_b  = [0]*(len(self.biases))\n",
        "        batch_size = X.shape[1] \n",
        "\n",
        "        for k in reversed(range(self.layer_size+1)):\n",
        "            #calculating loss function gradients for weights and biases at output\n",
        "            if k == self.layer_size:\n",
        "              g_a[k]=grad_loss_function[self.loss_func](Y,self.h[k])\n",
        "            \n",
        "            #calculating gradients for hidden layers     \n",
        "            else:\n",
        "                g_h[k] = (1/batch_size)*((self.weights[k+1].T)@(g_a[k+1]))\n",
        "                g_a[k] = (1/batch_size)*((g_h[k])*(grad_activation_function[self.act_function](self.a[k])))#Here we use '*' operator for elementwise matrix multiplication\n",
        "                if(self.dropout_rate!=0):\n",
        "                    g_a[k]=g_a[k]* self.D[k-1]\n",
        "                    g_a[k]=g_a[k]/(1-self.dropout_rate)\n",
        "                \n",
        "            #calculating gradients of weights \n",
        "            if k == 0:\n",
        "                g_w[k] = (1/batch_size)*((g_a[k])@(X.T)) \n",
        "            else:\n",
        "                g_w[k] = (1/batch_size)*((g_a[k])@(self.h[k-1].T))\n",
        "            \n",
        "            #calculating gradients of biases\n",
        "            g_b[k]  = (1/batch_size)*np.sum(g_a[k], axis=1, keepdims = True)\n",
        "        return g_w,g_b\n",
        "#----------------------------------------------------------------------------------------------------------------------------------------------------------------------------------\n",
        "#-----------------------------------------------------STOCHASTIC GRADIENT DESCENT AND OTHER OPTIMIZERS-------------------------------------------------------------------------------\n",
        "#-----------------------------------------------------------------------------------------------------------------------------------------------------------------------------------  \n",
        "  def stochastic_gradient_descent(self,W,b,g_w,g_b,lr,lambd):\n",
        "      #Weights=Weights-(learning rate)*(grad weights)-(learning rate*lambda)*(Weights)(this is weight decay with L2 regularization)\n",
        "      W=W-np.multiply(lr,g_w)-np.multiply(lr*lambd,W)\n",
        "\n",
        "      #biases=biases-(learning rate)*(grad biases)\n",
        "      b=b-np.multiply(lr,g_b)\n",
        "      return W,b\n",
        "  \n",
        "  def momentum_based_gradient_descent(self,W,b,g_w,g_b, u_w_i, u_b_i, lr, lambd, gamma):\n",
        "      #u_t=(beta)*(u_t-1)+(grad weight)[u_0 is initialised as zero]\n",
        "      u_w=np.multiply(gamma,u_w_i)+g_w\n",
        "      #weights=weights-(lr)*(updated_weights)-(weight decay L2 regularization)\n",
        "      W=W-np.multiply(lr,u_w)-np.multiply(lr*lambd,W)\n",
        "      \n",
        "      #similarly for biases but without weight decay term\n",
        "      u_b=np.multiply(gamma,u_b_i)+g_b\n",
        "      b=b-np.multiply(lr,u_b)\n",
        "      return W,b,u_w,u_b\n",
        "  \n",
        "  def nesterov_accelerated_gradient_descent(self,W,b,g_w,g_b,lr,lambd,gamma,u_w_i, u_b_i,b_input,b_output):\n",
        "      w_t=W\n",
        "      b_t=b\n",
        "      #here we make changes to global variables as we need to update the weights(look ahead) for calculating gradients\n",
        "      self.weights = self.weights - np.multiply(gamma,u_w_i)\n",
        "      self.biases = self.biases - np.multiply(gamma,u_b_i)\n",
        "      output =  self.forward_propagation(b_input)\n",
        "      #in this step, gradients are recalculated in global variables with updated weight values \n",
        "      g_weights,g_biases = self.back_propagation(b_input,b_output)\n",
        "\n",
        "      #u_t=(gamma)*(u_(t-1))+gradient of(w_t-(gamma)*(u_(t-1)))\n",
        "      u_w=np.multiply(gamma,u_w_i)+g_weights\n",
        "      #weights=weights-(lr)*(updated_weights)-(weight decay L2 regularization)\n",
        "      w_t = w_t - u_w - np.multiply(lr*lambd,w_t)\n",
        "\n",
        "      #similarly for biases but without weight decay term\n",
        "      u_b=np.multiply(gamma,u_b_i)+g_b\n",
        "      b=b-np.multiply(lr,u_b) \n",
        "\n",
        "      return w_t,b,u_w,u_b\n",
        "  \n",
        "  def rmsprop(self,W,b,g_w,g_b,lr,lambd,beta,eps,vw,vb):\n",
        "      #V_t= (beta)*(V_t-1)+(1-beta)*(grad weight)^2 \n",
        "      vw = np.multiply(vw,beta) + np.multiply(1-beta,np.power(g_w,2))           \n",
        "      #similarly for biases\n",
        "      vb = np.multiply(vb,beta) + np.multiply(1-beta,np.power(g_b,2))\n",
        "      \n",
        "      #w_t= (w_t-1)-((lr)/(V_t+eps)^(1/2))*(grad weight)-(L2 regularization weight decay)\n",
        "      W = W - np.multiply(g_w,lr/np.power(vw+eps,1/2))- np.multiply(lr*lambd,W)\n",
        "      #similarly for biases\n",
        "      b = b - np.multiply(g_b,lr/np.power(vb+eps,1/2))\n",
        "      return W,b,vw,vb\n",
        "  \n",
        "  def adam(self,W,b,g_w,g_b,beta1,beta2,lr ,m_t_i ,v_t_i ,m_b_i ,v_b_i,eps,i,lambd):\n",
        "      \n",
        "      m_t = np.multiply(beta1,m_t_i) + np.multiply(1-beta1,g_w)\n",
        "      v_t = np.multiply(beta2,v_t_i) + np.multiply(1-beta2,np.power(g_w,2))\n",
        "      m_b = np.multiply(beta1,m_b_i) + np.multiply(1-beta1,g_b)\n",
        "      v_b = np.multiply(beta2,v_b_i) + np.multiply(1-beta2,np.power(g_b,2))\n",
        "                \n",
        "      #normalization of moment          \n",
        "      m_hat_w = m_t/(1 - np.power(beta1,i+1))\n",
        "      m_hat_b = m_b/(1 - np.power(beta1,i+1))\n",
        "\n",
        "      #normalization          \n",
        "      v_hat_w = v_t/(1 - np.power(beta2,i+1))\n",
        "      v_hat_b = v_b/(1 - np.power(beta2,i+1))\n",
        "      \n",
        "      W = W - ((lr / np.power(v_hat_w + eps, 1/2)) * m_hat_w) - np.multiply(lr*lambd,W)\n",
        "      \n",
        "      b = b - ((lr / np.power(v_hat_b + eps, 1/2)) * m_hat_b)\n",
        "      return W,b,m_t,v_t,m_b,v_b\n",
        "  \n",
        "  def nadam(self,W,b,g_w,g_b,beta1,beta2,lr ,m_t_i ,v_t_i ,m_b_i ,v_b_i,eps,i,lambd):\n",
        "      m_t =  np.multiply(beta1,m_t_i) + np.multiply(1 - beta1,g_w)\n",
        "      v_t =  np.multiply(beta2,v_t_i) + np.multiply(1 - beta2,np.power(g_w, 2))\n",
        "\n",
        "      m_b =  np.multiply(beta1,m_b_i) + np.multiply(1 - beta1,g_b)\n",
        "      v_b =  np.multiply(beta2,v_b_i) + np.multiply(1 - beta2,np.power(g_b, 2))\n",
        "                \n",
        "      m_hat_w = m_t / (1 - np.power(beta1, i+1)) \n",
        "      v_hat_t = v_t / (1 - np.power(beta2, i+1))\n",
        "\n",
        "      m_hat_b = m_b / (1 - np.power(beta1, i+1)) \n",
        "      v_hat_b = v_b / (1 - np.power(beta2, i+1))\n",
        "  \n",
        "      a1 = (1-beta1)/(1-np.power(beta1,i+1))\n",
        "      update_w = np.multiply(lr/(np.power(v_hat_t + eps,1/2)),(np.multiply(a1,g_w) + np.multiply(beta1,m_hat_w)))\n",
        "      update_b = np.multiply(lr/(np.power(v_hat_b + eps,1/2)),(np.multiply(a1,g_b)+np.multiply(beta1,m_hat_b) ))\n",
        "      W = W - update_w - np.multiply(lr*lambd,W)\n",
        "      b = b - update_b    \n",
        "      return W,b,m_t,v_t,m_b,v_b\n",
        "  \n",
        "\n",
        "  def predict(self, X,Y ):\n",
        "      output =  self.forward_propagation(X)\n",
        "      out_class=(np.argmax(output,axis=0))\n",
        "      accuracy = round(self.accuracy_score(X, Y))\n",
        "      return accuracy , out_class\n",
        "  \n",
        "  def accuracy_score(self, X, Y):\n",
        "    pred_labels = np.argmax(self.forward_propagation(X), axis=0)\n",
        "    return 100*(np.sum(pred_labels == Y) / len(Y))\n",
        "\n",
        "  \n",
        "  def predict_one_hot_encoded(self, X,Y ):\n",
        "      output =  self.forward_propagation(X)\n",
        "      accuracy = round(self.accuracy_score(X, Y))\n",
        "      return output,accuracy\n",
        "\n",
        "\n",
        "  def train(self,X_train,y_train,X_val ,y_val ,learning_rate,epochs, optimiser='gd',batch_size = 64,lambd=0.0005,WandB=False): \n",
        "\n",
        "      update_w = np.zeros(np.array(self.weights).shape)\n",
        "      update_b = np.zeros(np.array(self.biases).shape)\n",
        "      update_w_i = np.zeros(np.array(self.weights).shape)\n",
        "      update_b_i = np.zeros(np.array(self.biases).shape)\n",
        "      \n",
        "      vw_i, vb_i, m_t_i, v_t_i, m_b_i, v_b_i=0.0,0.0,0.0,0.0,0.0,0.0\n",
        "      m_t, v_t, m_hat_w, v_hat_w, m_b,v_b,m_hat_b,v_hat_b = 0.0,0.0,0.0,0.0,0.0,0.0,0.0,0.0 \n",
        "\n",
        "      #below values taken from lecture slides for stability\n",
        "      eps = 1e-8\n",
        "      gamma = 0.9\n",
        "      beta = 0.999\n",
        "      beta1 = 0.9\n",
        "      beta2 = 0.999\n",
        "      train_accuracy, val_accuracy, training_loss ,validation_loss = [] ,[] ,[] ,[]\n",
        "      \n",
        "      \n",
        "      for i in tqdm(range(epochs)):\n",
        "        for batch in range(0, X_train.shape[1], batch_size):\n",
        "\n",
        "          batch_images =  X_train[:,batch:batch+batch_size]\n",
        "          batch_output =  Y_train_encoded[:,batch:batch+batch_size]\n",
        "          output =  self.forward_propagation(batch_images)\n",
        "          g_weights,g_biases = self.back_propagation(batch_images,batch_output)\n",
        "          if optimiser == 'gd':\n",
        "              self.weights,self.biases=self.stochastic_gradient_descent(self.weights,self.biases,g_weights,g_biases,learning_rate,lambd)\n",
        "          \n",
        "          if optimiser == 'mgd':\n",
        "              self.weights,self.biases,update_w,update_b=self.momentum_based_gradient_descent(self.weights,self.biases,g_weights,g_biases,update_w_i,update_b_i,learning_rate,lambd,gamma)\n",
        "              update_w_i = update_w\n",
        "              update_b_i = update_b\n",
        "\n",
        "          if optimiser == 'ngd':\n",
        "              w_t,b_t,update_w,update_b=self.nesterov_accelerated_gradient_descent(self.weights,self.biases,g_weights,g_biases,learning_rate,lambd,gamma,update_w_i,update_b_i,batch_images,batch_output)\n",
        "              self.weights = w_t\n",
        "              self.biases = b_t\n",
        "              update_w_i = update_w\n",
        "              update_b_i = update_b\n",
        "\n",
        "          if optimiser == 'rmsprop': \n",
        "              self.weights,self.biases,vw,vb= self.rmsprop(self.weights,self.biases,g_weights,g_biases,learning_rate,lambd,beta,eps,vw_i,vb_i)\n",
        "              vw_i=vw\n",
        "              vb_i=vb\n",
        "\n",
        "          if optimiser == 'adam':\n",
        "              self.weights,self.biases,m_t,v_t,m_b,v_b=self.adam(self.weights,self.biases,g_weights,g_biases,beta1,beta2,learning_rate, m_t_i, v_t_i, m_b_i, v_b_i,eps,i,lambd)\n",
        "              m_t_i=m_t\n",
        "              v_t_i=v_t\n",
        "              m_b_i=m_b\n",
        "              v_b_i=v_b\n",
        "          \n",
        "          if optimiser == 'nadam':\n",
        "              self.weights,self.biases,m_t,v_t,m_b,v_b=self.nadam(self.weights,self.biases,g_weights,g_biases,beta1,beta2,learning_rate, m_t_i,v_t_i, m_b_i,v_b_i, eps, i, lambd)\n",
        "              m_t_i=m_t\n",
        "              v_t_i=v_t\n",
        "              m_b_i=m_b\n",
        "              v_b_i=v_b                         \n",
        "\n",
        "        #Calculating accuracies \n",
        "        acc1=self.accuracy_score(X_train,y_train)\n",
        "        train_accuracy.append(acc1)\n",
        "  \n",
        "        acc2=self.accuracy_score(X_val,y_val)\n",
        "        val_accuracy.append(acc2)\n",
        "\n",
        "        predicted_train = self.forward_propagation(X_train)\n",
        "        predicted_val = self.forward_propagation(X_val)\n",
        "\n",
        "        a =self.weights[1:len(self.hidden_layer)]\n",
        "        b = np.sum([(np.sum((a[i]**2).reshape(1,-1))) for i in range(len(a))])#this is done to update loss function for weight decay problem \n",
        "        \n",
        "        train_loss= loss_function[self.loss_func](Y_train_encoded, y_train, predicted_train, lambd,b )\n",
        "        val_loss= loss_function[self.loss_func](Y_val_encoded, y_val, predicted_val, lambd,b )\n",
        "\n",
        "        training_loss.append(train_loss)\n",
        "        validation_loss.append(val_loss)\n",
        "        #print(training_loss)\n",
        "        #print(val_loss)\n",
        "\n",
        "        print('Epoch {} : training_accuracy = {:.2f}, training_loss = {:.4f},Validation accuracy = {:.2f},Validation loss = {:.4f}'.format(i+1,acc1,train_loss, acc2,val_loss))\n",
        "        if WandB:\n",
        "          wandb.log({\"val_accuracy\": acc2,\"accuracy\": acc1,\"steps\":epochs,\"train_loss\":train_loss,\"val_loss\":val_loss},)\n",
        "\n",
        "      \n",
        "      return train_accuracy,val_accuracy,training_loss, validation_loss\n",
        "\n"
      ],
      "metadata": {
        "id": "4QHPBlX6Q5gF"
      },
      "execution_count": 6,
      "outputs": []
    },
    {
      "cell_type": "markdown",
      "source": [
        "A script for debugging and checking if all hyperparameters work properly."
      ],
      "metadata": {
        "id": "m6L1sGVV94l6"
      }
    },
    {
      "cell_type": "code",
      "source": [
        "n_class = 10\n",
        "\n",
        "model = NeuralNet(28*28,[256,256,256],n_class, initialisation_func = 'xavier', act_function='relu', loss_func = 'square_loss',dropout_rate=0)\n",
        "import warnings\n",
        "warnings.filterwarnings(\"ignore\", category=np.VisibleDeprecationWarning)\n",
        "acc1,acc2,train_loss, val_loss= model.train(X_train,Y_train,X_val ,Y_val ,learning_rate = 0.0001,epochs=3, optimiser='nadam',batch_size =32,lambd=0.0005)\n",
        "acc,Y_pred=model.predict(X_train,Y_train)"
      ],
      "metadata": {
        "colab": {
          "base_uri": "https://localhost:8080/"
        },
        "id": "fVHUzQYN7TOu",
        "outputId": "a66396bd-af2b-428c-db06-f91454ccac0d"
      },
      "execution_count": null,
      "outputs": [
        {
          "output_type": "stream",
          "name": "stderr",
          "text": [
            " 33%|███▎      | 1/3 [00:36<01:12, 36.13s/it]"
          ]
        },
        {
          "output_type": "stream",
          "name": "stdout",
          "text": [
            "Epoch 1 : training_accuracy = 68.39, training_loss = 0.0000,Validation accuracy = 68.23,Validation loss = 0.0000\n"
          ]
        },
        {
          "output_type": "stream",
          "name": "stderr",
          "text": [
            "\r 67%|██████▋   | 2/3 [01:12<00:36, 36.48s/it]"
          ]
        },
        {
          "output_type": "stream",
          "name": "stdout",
          "text": [
            "Epoch 2 : training_accuracy = 72.23, training_loss = 0.0000,Validation accuracy = 72.02,Validation loss = 0.0000\n"
          ]
        },
        {
          "output_type": "stream",
          "name": "stderr",
          "text": [
            "100%|██████████| 3/3 [01:51<00:00, 37.31s/it]"
          ]
        },
        {
          "output_type": "stream",
          "name": "stdout",
          "text": [
            "Epoch 3 : training_accuracy = 73.87, training_loss = 0.0000,Validation accuracy = 73.38,Validation loss = 0.0000\n"
          ]
        },
        {
          "output_type": "stream",
          "name": "stderr",
          "text": [
            "\n"
          ]
        }
      ]
    },
    {
      "cell_type": "markdown",
      "source": [
        "# **Q2 SOLVED BELOW**\n",
        "Forward propagation"
      ],
      "metadata": {
        "id": "UttSHvtTj7M-"
      }
    },
    {
      "cell_type": "code",
      "source": [
        "q1    = NeuralNet(X_train.shape[0],[64,64,64], 10,'xavier','sigmoid','cross_entropy',0)\n",
        "A=q1.forward_propagation(X_train)\n",
        "A=A.T\n",
        "print(A[0])\n",
        "print((Y_train_encoded.T)[0])"
      ],
      "metadata": {
        "colab": {
          "base_uri": "https://localhost:8080/"
        },
        "id": "RPh4aKLwnXfT",
        "outputId": "2b8cd4d0-b9ff-4206-a5fb-63f8d01fa913"
      },
      "execution_count": null,
      "outputs": [
        {
          "output_type": "stream",
          "name": "stdout",
          "text": [
            "[0.0492696  0.72493824 0.0113433  0.01699098 0.00191964 0.00223488\n",
            " 0.10496657 0.06102233 0.00334236 0.02397209]\n",
            "[0. 0. 1. 0. 0. 0. 0. 0. 0. 0.]\n"
          ]
        }
      ]
    },
    {
      "cell_type": "markdown",
      "source": [
        "# **Sweep 1**\n",
        "This sweep iterates over the hyperparameters, and the values are logged in wandb. I use **bayes** method, to iterate over hyperparameters as it decreases number of sweeps required. Bayesian optimization is computationally more expensive than random search, but it can be more efficient in terms of the number of iterations required to find the optimal set of hyperparameters.\n",
        "\n",
        "Declaration: For the sweeps done below, I have followed below tutorial. \n",
        "https://theaisummer.com/weights-and-biases-tutorial/\n"
      ],
      "metadata": {
        "id": "2Fj2Hcd953Ur"
      }
    },
    {
      "cell_type": "code",
      "source": [
        "sweep_config = {\n",
        "    'method': 'bayes', #grid, random,bayes\n",
        "    'metric': {\n",
        "      'name': 'val_accuracy',\n",
        "      'goal': 'maximize'  \n",
        "    },\n",
        "    'parameters': {\n",
        "        'epochs': {\n",
        "            'values': [10,20,30]\n",
        "        },\n",
        "        'learning_rate': {\n",
        "            'values': [0.001,0.0001]\n",
        "        },\n",
        "        'loss_function':{\n",
        "            'values':['cross_entropy']\n",
        "        },\n",
        "        'initilisation':{\n",
        "            'values':['random','xavier']\n",
        "        },\n",
        "        'batch_size':{\n",
        "            'values':[32,64,128]\n",
        "        },\n",
        "        'optimiser': {\n",
        "            'values': ['gd','mgd','ngd', 'rmsprop','adam','nadam']\n",
        "        },\n",
        "        'activation': {\n",
        "            'values': ['relu','tanh','sigmoid']\n",
        "        },\n",
        "        'hidden_layer': {\n",
        "            'values': [\n",
        "                       [64,64,64],[128,128,128],[256,256,256],\n",
        "                       [64,64,64,64],[64,64,64,64,64],\n",
        "                       [128,128,128,128],[128,128,128,128,128]]\n",
        "        },\n",
        "        \n",
        "        'weight_decay':{\n",
        "            'values':[0.0,0.0005]\n",
        "        },\n",
        "        'dropout_rate':{\n",
        "          'values':[0,0.1]  \n",
        "        }\n",
        "        \n",
        "    }\n",
        "}\n",
        "\n",
        "sweep_id = wandb.sweep(sweep_config, entity='shreyashgadgil007', project=\"CS-6910 A1\")\n",
        "\n",
        "def train1():\n",
        "  steps = 10\n",
        "  # Default values for hyper-parameters we're going to sweep over\n",
        "  config_defaults = {\n",
        "      'epochs': 5,\n",
        "      'input_layer': 784,\n",
        "      'output_layer': 10,\n",
        "      'batch_size':64,\n",
        "      'dropout_rate':0,\n",
        "      'weight_decay':0.005,\n",
        "      'learning_rate': 0.0001,\n",
        "      'hidden_layer':[16,16,16],\n",
        "      'optimiser':'mgd',\n",
        "      'activation':'sigmoid',\n",
        "      'initialisation':'xavier',\n",
        "      'loss_function':'cross_entropy'\n",
        "      \n",
        "  }\n",
        "\n",
        "  # Initialize a new wandb run\n",
        "  wandb.init(project='CS-6910 A1', entity='shreyashgadgil007',config=config_defaults)\n",
        "  wandb.run.name = 'b_s:'+str(wandb.config.batch_size)+',lr:'+ str(wandb.config.learning_rate)+'drop:'+str(wandb.config.dropout_rate)+',ep:'+str(wandb.config.epochs)+ ',opt:'+str(wandb.config.optimiser)+ ',hl:'+str(wandb.config.hidden_layer)+ ',act:'+str(wandb.config.activation)+',decay:'+str(wandb.config.weight_decay)+',init:'+str(wandb.config.initialisation)+',loss:'+str(wandb.config.loss_function)\n",
        "\n",
        "  \n",
        "  config = wandb.config\n",
        "  learning_rate = config.learning_rate\n",
        "  epochs = int(config.epochs)\n",
        "  hidden_layer = config.hidden_layer\n",
        "  activation = config.activation\n",
        "  optimiser = config.optimiser\n",
        "  input_layer = config.input_layer\n",
        "  output_layer = config.output_layer\n",
        "  batch_size = config.batch_size\n",
        "  weight_decay = config.weight_decay\n",
        "  loss_function = config.loss_function\n",
        "  initialisation = config.initilisation\n",
        "  dropout_rate=config.dropout_rate\n",
        "  # Model training here\n",
        "  sweep_network    = NeuralNet(input_layer, hidden_layer, output_layer,initialisation,activation,loss_function,dropout_rate)\n",
        "  acc1,acc2,train_loss,val_loss  = sweep_network.train(X_train,Y_train,X_val,Y_val,learning_rate,epochs,optimiser,batch_size,weight_decay,WandB=True)\n",
        "  # print('Acc',acc2)\n",
        "\n",
        "import warnings\n",
        "warnings.filterwarnings(\"ignore\", category=np.VisibleDeprecationWarning)\n",
        "wandb.agent(sweep_id, function=train1, count=150)\n"
      ],
      "metadata": {
        "colab": {
          "base_uri": "https://localhost:8080/",
          "height": 711
        },
        "id": "VEWqM8s_YY1C",
        "outputId": "1d91ef4e-0686-4f0a-92b4-9bf38c9d0ceb"
      },
      "execution_count": null,
      "outputs": [
        {
          "output_type": "stream",
          "name": "stdout",
          "text": [
            "Create sweep with ID: phxm1nua\n",
            "Sweep URL: https://wandb.ai/shreyashgadgil007/CS-6910%20A1/sweeps/phxm1nua\n"
          ]
        },
        {
          "output_type": "stream",
          "name": "stderr",
          "text": [
            "\u001b[34m\u001b[1mwandb\u001b[0m: Agent Starting Run: y04mxnws with config:\n",
            "\u001b[34m\u001b[1mwandb\u001b[0m: \tactivation: relu\n",
            "\u001b[34m\u001b[1mwandb\u001b[0m: \tbatch_size: 128\n",
            "\u001b[34m\u001b[1mwandb\u001b[0m: \tdropout_rate: 0.1\n",
            "\u001b[34m\u001b[1mwandb\u001b[0m: \tepochs: 10\n",
            "\u001b[34m\u001b[1mwandb\u001b[0m: \thidden_layer: [64, 64, 64, 64, 64]\n",
            "\u001b[34m\u001b[1mwandb\u001b[0m: \tinitilisation: random\n",
            "\u001b[34m\u001b[1mwandb\u001b[0m: \tlearning_rate: 0.0001\n",
            "\u001b[34m\u001b[1mwandb\u001b[0m: \tloss_function: cross_entropy\n",
            "\u001b[34m\u001b[1mwandb\u001b[0m: \toptimiser: nadam\n",
            "\u001b[34m\u001b[1mwandb\u001b[0m: \tweight_decay: 0\n",
            "\u001b[34m\u001b[1mwandb\u001b[0m: \u001b[33mWARNING\u001b[0m Ignored wandb.init() arg project when running a sweep.\n",
            "\u001b[34m\u001b[1mwandb\u001b[0m: \u001b[33mWARNING\u001b[0m Ignored wandb.init() arg entity when running a sweep.\n"
          ]
        },
        {
          "output_type": "display_data",
          "data": {
            "text/plain": [
              "<IPython.core.display.HTML object>"
            ],
            "text/html": [
              "Tracking run with wandb version 0.14.0"
            ]
          },
          "metadata": {}
        },
        {
          "output_type": "display_data",
          "data": {
            "text/plain": [
              "<IPython.core.display.HTML object>"
            ],
            "text/html": [
              "Run data is saved locally in <code>/content/wandb/run-20230318_051718-y04mxnws</code>"
            ]
          },
          "metadata": {}
        },
        {
          "output_type": "display_data",
          "data": {
            "text/plain": [
              "<IPython.core.display.HTML object>"
            ],
            "text/html": [
              "Syncing run <strong><a href='https://wandb.ai/shreyashgadgil007/CS-6910%20A1/runs/y04mxnws' target=\"_blank\">solar-sweep-1</a></strong> to <a href='https://wandb.ai/shreyashgadgil007/CS-6910%20A1' target=\"_blank\">Weights & Biases</a> (<a href='https://wandb.me/run' target=\"_blank\">docs</a>)<br/>Sweep page: <a href='https://wandb.ai/shreyashgadgil007/CS-6910%20A1/sweeps/phxm1nua' target=\"_blank\">https://wandb.ai/shreyashgadgil007/CS-6910%20A1/sweeps/phxm1nua</a>"
            ]
          },
          "metadata": {}
        },
        {
          "output_type": "display_data",
          "data": {
            "text/plain": [
              "<IPython.core.display.HTML object>"
            ],
            "text/html": [
              " View project at <a href='https://wandb.ai/shreyashgadgil007/CS-6910%20A1' target=\"_blank\">https://wandb.ai/shreyashgadgil007/CS-6910%20A1</a>"
            ]
          },
          "metadata": {}
        },
        {
          "output_type": "display_data",
          "data": {
            "text/plain": [
              "<IPython.core.display.HTML object>"
            ],
            "text/html": [
              " View sweep at <a href='https://wandb.ai/shreyashgadgil007/CS-6910%20A1/sweeps/phxm1nua' target=\"_blank\">https://wandb.ai/shreyashgadgil007/CS-6910%20A1/sweeps/phxm1nua</a>"
            ]
          },
          "metadata": {}
        },
        {
          "output_type": "display_data",
          "data": {
            "text/plain": [
              "<IPython.core.display.HTML object>"
            ],
            "text/html": [
              " View run at <a href='https://wandb.ai/shreyashgadgil007/CS-6910%20A1/runs/y04mxnws' target=\"_blank\">https://wandb.ai/shreyashgadgil007/CS-6910%20A1/runs/y04mxnws</a>"
            ]
          },
          "metadata": {}
        },
        {
          "output_type": "display_data",
          "data": {
            "text/plain": [
              "<IPython.core.display.HTML object>"
            ],
            "text/html": [
              "Waiting for W&B process to finish... <strong style=\"color:red\">(failed 1).</strong> Press Control-C to abort syncing."
            ]
          },
          "metadata": {}
        },
        {
          "output_type": "display_data",
          "data": {
            "text/plain": [
              "<IPython.core.display.HTML object>"
            ],
            "text/html": [
              " View run <strong style=\"color:#cdcd00\">solar-sweep-1</strong> at: <a href='https://wandb.ai/shreyashgadgil007/CS-6910%20A1/runs/y04mxnws' target=\"_blank\">https://wandb.ai/shreyashgadgil007/CS-6910%20A1/runs/y04mxnws</a><br/>Synced 4 W&B file(s), 0 media file(s), 0 artifact file(s) and 0 other file(s)"
            ]
          },
          "metadata": {}
        },
        {
          "output_type": "display_data",
          "data": {
            "text/plain": [
              "<IPython.core.display.HTML object>"
            ],
            "text/html": [
              "Find logs at: <code>./wandb/run-20230318_051718-y04mxnws/logs</code>"
            ]
          },
          "metadata": {}
        },
        {
          "output_type": "stream",
          "name": "stderr",
          "text": [
            "Run y04mxnws errored: NameError(\"name 'X_val' is not defined\")\n",
            "\u001b[34m\u001b[1mwandb\u001b[0m: \u001b[32m\u001b[41mERROR\u001b[0m Run y04mxnws errored: NameError(\"name 'X_val' is not defined\")\n",
            "\u001b[34m\u001b[1mwandb\u001b[0m: Agent Starting Run: i3r7x96h with config:\n",
            "\u001b[34m\u001b[1mwandb\u001b[0m: \tactivation: sigmoid\n",
            "\u001b[34m\u001b[1mwandb\u001b[0m: \tbatch_size: 32\n",
            "\u001b[34m\u001b[1mwandb\u001b[0m: \tdropout_rate: 0\n",
            "\u001b[34m\u001b[1mwandb\u001b[0m: \tepochs: 20\n",
            "\u001b[34m\u001b[1mwandb\u001b[0m: \thidden_layer: [128, 128, 128, 128, 128]\n",
            "\u001b[34m\u001b[1mwandb\u001b[0m: \tinitilisation: random\n",
            "\u001b[34m\u001b[1mwandb\u001b[0m: \tlearning_rate: 0.001\n",
            "\u001b[34m\u001b[1mwandb\u001b[0m: \tloss_function: cross_entropy\n",
            "\u001b[34m\u001b[1mwandb\u001b[0m: \toptimiser: gd\n",
            "\u001b[34m\u001b[1mwandb\u001b[0m: \tweight_decay: 0\n",
            "\u001b[34m\u001b[1mwandb\u001b[0m: Ctrl + C detected. Stopping sweep.\n"
          ]
        }
      ]
    },
    {
      "cell_type": "markdown",
      "source": [
        "# **Sweep2**\n",
        "This is done to create a confusion matrix for **test dataset**, by using hyperparameters which give highest validation accuracy  "
      ],
      "metadata": {
        "id": "-MrBZJXMgLVZ"
      }
    },
    {
      "cell_type": "code",
      "source": [
        "sweep_config = {\n",
        "    'method': 'grid', #grid, random,bayes\n",
        "    'metric': {\n",
        "      'name': 'val_accuracy',\n",
        "      'goal': 'maximize'  \n",
        "    },\n",
        "    'parameters': {\n",
        "        'epochs': {\n",
        "            'values': [30]\n",
        "        },\n",
        "        'learning_rate': {\n",
        "            'values': [0.0001]\n",
        "        },\n",
        "        'loss_function':{\n",
        "            'values':['cross_entropy']\n",
        "        },\n",
        "        'initilisation':{\n",
        "            'values':['xavier']\n",
        "        },\n",
        "        'batch_size':{\n",
        "            'values':[32]\n",
        "        },\n",
        "        'optimiser': {\n",
        "            'values': ['nadam']\n",
        "        },\n",
        "        'activation': {\n",
        "            'values': ['tanh']\n",
        "        },\n",
        "        'hidden_layer': {\n",
        "            'values': [[256,256,256]]\n",
        "        },\n",
        "        \n",
        "        'weight_decay':{\n",
        "            'values':[0.0005]\n",
        "        },\n",
        "          \n",
        "        'dropout_rate':{\n",
        "            'values':[0]\n",
        "        }\n",
        "        \n",
        "        \n",
        "    }\n",
        "}\n",
        "def get_confusion_matrix():\n",
        "#change the values to Best Prediction from Above run\n",
        "    config_defaults = {\n",
        "      'epochs': 5,\n",
        "      'input_layer': 784,\n",
        "      'output_layer': 10,\n",
        "      'batch_size':64,\n",
        "      'dropout_rate':0,\n",
        "      'weight_decay':0.005,\n",
        "      'learning_rate': 0.0001,\n",
        "      'hidden_layer':[16,16,16],\n",
        "      'optimiser':'mgd',\n",
        "      'activation':'sigmoid',\n",
        "      'initialisation':'xavier',\n",
        "      'loss_function':'cross_entropy'\n",
        "    }\n",
        "\n",
        "    wandb.init(config=config_defaults, magic=True)\n",
        "    wandb.run.name = 'b_s:'+str(wandb.config.batch_size)+',lr:'+ str(wandb.config.learning_rate)+'drop:'+str(wandb.config.dropout_rate)+',ep:'+str(wandb.config.epochs)+ ',opt:'+str(wandb.config.optimiser)+ ',hl:'+str(wandb.config.hidden_layer)+ ',act:'+str(wandb.config.activation)+',decay:'+str(wandb.config.weight_decay)+',init:'+str(wandb.config.initialisation)+',loss:'+str(wandb.config.loss_function)\n",
        "    class_names = ['T-shirt/top', 'Trouser', 'Pullover', 'Dress', 'Coat',\n",
        "                    'Sandal', 'Shirt', 'Sneaker', 'Bag', 'Ankle boot']\n",
        "    config = wandb.config\n",
        "    learning_rate = config.learning_rate\n",
        "    epochs = int(config.epochs)\n",
        "    hidden_layer = config.hidden_layer\n",
        "    activation = config.activation\n",
        "    optimiser = config.optimiser\n",
        "    input_layer = config.input_layer\n",
        "    output_layer = config.output_layer\n",
        "    batch_size = config.batch_size\n",
        "    weight_decay = config.weight_decay\n",
        "    loss_function = config.loss_function\n",
        "    initialisation = config.initilisation\n",
        "    dropout_rate=config.dropout_rate\n",
        "    # Model training here\n",
        "    sweep_network    = NeuralNet(input_layer, hidden_layer, output_layer,initialisation,activation,loss_function,dropout_rate)\n",
        "    acc1,acc2,train_loss,val_loss  = sweep_network.train(X_train,Y_train,X_val,Y_val,learning_rate,epochs,optimiser,batch_size,weight_decay,WandB=True)\n",
        "    acc,Y_pred=sweep_network.predict(X_test,Y_test)\n",
        "    wandb.log({\"conf_mat\" : wandb.plot.confusion_matrix(probs=None,\n",
        "                        y_true=Y_test, preds=Y_pred,\n",
        "                        class_names=class_names)})\n",
        "    \n",
        "sweep_id = wandb.sweep(sweep_config, entity='shreyashgadgil007', project=\"CS-6910 A1\")\n",
        "import warnings\n",
        "warnings.filterwarnings(\"ignore\", category=np.VisibleDeprecationWarning)\n",
        "wandb.agent(sweep_id, function=get_confusion_matrix,count=1)\n"
      ],
      "metadata": {
        "colab": {
          "base_uri": "https://localhost:8080/",
          "height": 1000,
          "referenced_widgets": [
            "d025eb0f6eff48eea1513c7262ba056b",
            "557d1ae7493a40c78a7dbca491f2a309",
            "38a95c8de45c42859c6664f32639925e",
            "a1dc4a214f91405f8ebbc6d25e0d8f66",
            "8727b2735f3f435e86d92a478146cbe0",
            "3099610dfd0442a8b04d21d3f0e29a35",
            "e4f025bb7ddf48068f4b278fa8db634f",
            "41758d8eca664e8ca1345fbc960b2ec9"
          ]
        },
        "id": "N-T-Be71B_Cj",
        "outputId": "928f0733-fef9-4ef4-9023-9e8c94e1b9ca"
      },
      "execution_count": 7,
      "outputs": [
        {
          "output_type": "stream",
          "name": "stdout",
          "text": [
            "Create sweep with ID: y2lghyfk\n",
            "Sweep URL: https://wandb.ai/shreyashgadgil007/CS-6910%20A1/sweeps/y2lghyfk\n"
          ]
        },
        {
          "output_type": "stream",
          "name": "stderr",
          "text": [
            "\u001b[34m\u001b[1mwandb\u001b[0m: Agent Starting Run: e44lq6k1 with config:\n",
            "\u001b[34m\u001b[1mwandb\u001b[0m: \tactivation: tanh\n",
            "\u001b[34m\u001b[1mwandb\u001b[0m: \tbatch_size: 32\n",
            "\u001b[34m\u001b[1mwandb\u001b[0m: \tdropout_rate: 0\n",
            "\u001b[34m\u001b[1mwandb\u001b[0m: \tepochs: 30\n",
            "\u001b[34m\u001b[1mwandb\u001b[0m: \thidden_layer: [256, 256, 256]\n",
            "\u001b[34m\u001b[1mwandb\u001b[0m: \tinitilisation: xavier\n",
            "\u001b[34m\u001b[1mwandb\u001b[0m: \tlearning_rate: 0.0001\n",
            "\u001b[34m\u001b[1mwandb\u001b[0m: \tloss_function: cross_entropy\n",
            "\u001b[34m\u001b[1mwandb\u001b[0m: \toptimiser: nadam\n",
            "\u001b[34m\u001b[1mwandb\u001b[0m: \tweight_decay: 0.0005\n",
            "\u001b[34m\u001b[1mwandb\u001b[0m: Currently logged in as: \u001b[33mshreyashgadgil007\u001b[0m. Use \u001b[1m`wandb login --relogin`\u001b[0m to force relogin\n"
          ]
        },
        {
          "output_type": "display_data",
          "data": {
            "text/plain": [
              "<IPython.core.display.HTML object>"
            ],
            "text/html": [
              "Tracking run with wandb version 0.14.0"
            ]
          },
          "metadata": {}
        },
        {
          "output_type": "display_data",
          "data": {
            "text/plain": [
              "<IPython.core.display.HTML object>"
            ],
            "text/html": [
              "Run data is saved locally in <code>/content/wandb/run-20230319_144111-e44lq6k1</code>"
            ]
          },
          "metadata": {}
        },
        {
          "output_type": "display_data",
          "data": {
            "text/plain": [
              "<IPython.core.display.HTML object>"
            ],
            "text/html": [
              "Syncing run <strong><a href='https://wandb.ai/shreyashgadgil007/CS-6910%20A1/runs/e44lq6k1' target=\"_blank\">curious-sweep-1</a></strong> to <a href='https://wandb.ai/shreyashgadgil007/CS-6910%20A1' target=\"_blank\">Weights & Biases</a> (<a href='https://wandb.me/run' target=\"_blank\">docs</a>)<br/>Sweep page: <a href='https://wandb.ai/shreyashgadgil007/CS-6910%20A1/sweeps/y2lghyfk' target=\"_blank\">https://wandb.ai/shreyashgadgil007/CS-6910%20A1/sweeps/y2lghyfk</a>"
            ]
          },
          "metadata": {}
        },
        {
          "output_type": "display_data",
          "data": {
            "text/plain": [
              "<IPython.core.display.HTML object>"
            ],
            "text/html": [
              " View project at <a href='https://wandb.ai/shreyashgadgil007/CS-6910%20A1' target=\"_blank\">https://wandb.ai/shreyashgadgil007/CS-6910%20A1</a>"
            ]
          },
          "metadata": {}
        },
        {
          "output_type": "display_data",
          "data": {
            "text/plain": [
              "<IPython.core.display.HTML object>"
            ],
            "text/html": [
              " View sweep at <a href='https://wandb.ai/shreyashgadgil007/CS-6910%20A1/sweeps/y2lghyfk' target=\"_blank\">https://wandb.ai/shreyashgadgil007/CS-6910%20A1/sweeps/y2lghyfk</a>"
            ]
          },
          "metadata": {}
        },
        {
          "output_type": "display_data",
          "data": {
            "text/plain": [
              "<IPython.core.display.HTML object>"
            ],
            "text/html": [
              " View run at <a href='https://wandb.ai/shreyashgadgil007/CS-6910%20A1/runs/e44lq6k1' target=\"_blank\">https://wandb.ai/shreyashgadgil007/CS-6910%20A1/runs/e44lq6k1</a>"
            ]
          },
          "metadata": {}
        },
        {
          "output_type": "display_data",
          "data": {
            "text/plain": [
              "<IPython.core.display.HTML object>"
            ],
            "text/html": [
              "Finishing last run (ID:e44lq6k1) before initializing another..."
            ]
          },
          "metadata": {}
        },
        {
          "output_type": "display_data",
          "data": {
            "text/plain": [
              "<IPython.core.display.HTML object>"
            ],
            "text/html": [
              "Waiting for W&B process to finish... <strong style=\"color:green\">(success).</strong>"
            ]
          },
          "metadata": {}
        },
        {
          "output_type": "display_data",
          "data": {
            "text/plain": [
              "VBox(children=(Label(value='0.002 MB of 0.009 MB uploaded (0.000 MB deduped)\\r'), FloatProgress(value=0.217206…"
            ],
            "application/vnd.jupyter.widget-view+json": {
              "version_major": 2,
              "version_minor": 0,
              "model_id": "d025eb0f6eff48eea1513c7262ba056b"
            }
          },
          "metadata": {}
        },
        {
          "output_type": "display_data",
          "data": {
            "text/plain": [
              "<IPython.core.display.HTML object>"
            ],
            "text/html": [
              " View run <strong style=\"color:#cdcd00\">curious-sweep-1</strong> at: <a href='https://wandb.ai/shreyashgadgil007/CS-6910%20A1/runs/e44lq6k1' target=\"_blank\">https://wandb.ai/shreyashgadgil007/CS-6910%20A1/runs/e44lq6k1</a><br/>Synced 4 W&B file(s), 0 media file(s), 0 artifact file(s) and 0 other file(s)"
            ]
          },
          "metadata": {}
        },
        {
          "output_type": "display_data",
          "data": {
            "text/plain": [
              "<IPython.core.display.HTML object>"
            ],
            "text/html": [
              "Find logs at: <code>./wandb/run-20230319_144111-e44lq6k1/logs</code>"
            ]
          },
          "metadata": {}
        },
        {
          "output_type": "display_data",
          "data": {
            "text/plain": [
              "<IPython.core.display.HTML object>"
            ],
            "text/html": [
              "Successfully finished last run (ID:e44lq6k1). Initializing new run:<br/>"
            ]
          },
          "metadata": {}
        },
        {
          "output_type": "display_data",
          "data": {
            "text/plain": [
              "<IPython.core.display.HTML object>"
            ],
            "text/html": [
              "Tracking run with wandb version 0.14.0"
            ]
          },
          "metadata": {}
        },
        {
          "output_type": "display_data",
          "data": {
            "text/plain": [
              "<IPython.core.display.HTML object>"
            ],
            "text/html": [
              "Run data is saved locally in <code>/content/wandb/run-20230319_144115-e44lq6k1</code>"
            ]
          },
          "metadata": {}
        },
        {
          "output_type": "display_data",
          "data": {
            "text/plain": [
              "<IPython.core.display.HTML object>"
            ],
            "text/html": [
              "Syncing run <strong><a href='https://wandb.ai/shreyashgadgil007/CS-6910%20A1/runs/e44lq6k1' target=\"_blank\">curious-sweep-1</a></strong> to <a href='https://wandb.ai/shreyashgadgil007/CS-6910%20A1' target=\"_blank\">Weights & Biases</a> (<a href='https://wandb.me/run' target=\"_blank\">docs</a>)<br/>Sweep page: <a href='https://wandb.ai/shreyashgadgil007/CS-6910%20A1/sweeps/y2lghyfk' target=\"_blank\">https://wandb.ai/shreyashgadgil007/CS-6910%20A1/sweeps/y2lghyfk</a>"
            ]
          },
          "metadata": {}
        },
        {
          "output_type": "display_data",
          "data": {
            "text/plain": [
              "<IPython.core.display.HTML object>"
            ],
            "text/html": [
              " View project at <a href='https://wandb.ai/shreyashgadgil007/CS-6910%20A1' target=\"_blank\">https://wandb.ai/shreyashgadgil007/CS-6910%20A1</a>"
            ]
          },
          "metadata": {}
        },
        {
          "output_type": "display_data",
          "data": {
            "text/plain": [
              "<IPython.core.display.HTML object>"
            ],
            "text/html": [
              " View sweep at <a href='https://wandb.ai/shreyashgadgil007/CS-6910%20A1/sweeps/y2lghyfk' target=\"_blank\">https://wandb.ai/shreyashgadgil007/CS-6910%20A1/sweeps/y2lghyfk</a>"
            ]
          },
          "metadata": {}
        },
        {
          "output_type": "display_data",
          "data": {
            "text/plain": [
              "<IPython.core.display.HTML object>"
            ],
            "text/html": [
              " View run at <a href='https://wandb.ai/shreyashgadgil007/CS-6910%20A1/runs/e44lq6k1' target=\"_blank\">https://wandb.ai/shreyashgadgil007/CS-6910%20A1/runs/e44lq6k1</a>"
            ]
          },
          "metadata": {}
        },
        {
          "output_type": "stream",
          "name": "stderr",
          "text": [
            "  3%|▎         | 1/30 [00:45<21:56, 45.38s/it]"
          ]
        },
        {
          "output_type": "stream",
          "name": "stdout",
          "text": [
            "Epoch 1 : training_accuracy = 77.73, training_loss = 0.6345,Validation accuracy = 77.28,Validation loss = 0.6462\n"
          ]
        },
        {
          "output_type": "stream",
          "name": "stderr",
          "text": [
            "\r  7%|▋         | 2/30 [01:29<20:55, 44.83s/it]"
          ]
        },
        {
          "output_type": "stream",
          "name": "stdout",
          "text": [
            "Epoch 2 : training_accuracy = 79.43, training_loss = 0.5798,Validation accuracy = 79.25,Validation loss = 0.5910\n"
          ]
        },
        {
          "output_type": "stream",
          "name": "stderr",
          "text": [
            "\r 10%|█         | 3/30 [02:13<19:51, 44.13s/it]"
          ]
        },
        {
          "output_type": "stream",
          "name": "stdout",
          "text": [
            "Epoch 3 : training_accuracy = 80.28, training_loss = 0.5529,Validation accuracy = 80.08,Validation loss = 0.5641\n"
          ]
        },
        {
          "output_type": "stream",
          "name": "stderr",
          "text": [
            "\r 13%|█▎        | 4/30 [02:55<18:46, 43.34s/it]"
          ]
        },
        {
          "output_type": "stream",
          "name": "stdout",
          "text": [
            "Epoch 4 : training_accuracy = 80.90, training_loss = 0.5357,Validation accuracy = 80.72,Validation loss = 0.5468\n"
          ]
        },
        {
          "output_type": "stream",
          "name": "stderr",
          "text": [
            "\r 17%|█▋        | 5/30 [03:37<17:53, 42.93s/it]"
          ]
        },
        {
          "output_type": "stream",
          "name": "stdout",
          "text": [
            "Epoch 5 : training_accuracy = 81.36, training_loss = 0.5232,Validation accuracy = 81.22,Validation loss = 0.5342\n"
          ]
        },
        {
          "output_type": "stream",
          "name": "stderr",
          "text": [
            "\r 20%|██        | 6/30 [04:21<17:15, 43.15s/it]"
          ]
        },
        {
          "output_type": "stream",
          "name": "stdout",
          "text": [
            "Epoch 6 : training_accuracy = 81.69, training_loss = 0.5135,Validation accuracy = 81.45,Validation loss = 0.5244\n"
          ]
        },
        {
          "output_type": "stream",
          "name": "stderr",
          "text": [
            "\r 23%|██▎       | 7/30 [05:04<16:38, 43.41s/it]"
          ]
        },
        {
          "output_type": "stream",
          "name": "stdout",
          "text": [
            "Epoch 7 : training_accuracy = 81.93, training_loss = 0.5056,Validation accuracy = 81.75,Validation loss = 0.5164\n"
          ]
        },
        {
          "output_type": "stream",
          "name": "stderr",
          "text": [
            "\r 27%|██▋       | 8/30 [05:48<15:53, 43.36s/it]"
          ]
        },
        {
          "output_type": "stream",
          "name": "stdout",
          "text": [
            "Epoch 8 : training_accuracy = 82.18, training_loss = 0.4989,Validation accuracy = 81.98,Validation loss = 0.5097\n"
          ]
        },
        {
          "output_type": "stream",
          "name": "stderr",
          "text": [
            "\r 30%|███       | 9/30 [06:31<15:11, 43.42s/it]"
          ]
        },
        {
          "output_type": "stream",
          "name": "stdout",
          "text": [
            "Epoch 9 : training_accuracy = 82.38, training_loss = 0.4932,Validation accuracy = 82.22,Validation loss = 0.5039\n"
          ]
        },
        {
          "output_type": "stream",
          "name": "stderr",
          "text": [
            "\r 33%|███▎      | 10/30 [07:17<14:41, 44.09s/it]"
          ]
        },
        {
          "output_type": "stream",
          "name": "stdout",
          "text": [
            "Epoch 10 : training_accuracy = 82.58, training_loss = 0.4881,Validation accuracy = 82.47,Validation loss = 0.4988\n"
          ]
        },
        {
          "output_type": "stream",
          "name": "stderr",
          "text": [
            "\r 37%|███▋      | 11/30 [08:02<14:02, 44.36s/it]"
          ]
        },
        {
          "output_type": "stream",
          "name": "stdout",
          "text": [
            "Epoch 11 : training_accuracy = 82.73, training_loss = 0.4836,Validation accuracy = 82.55,Validation loss = 0.4942\n"
          ]
        },
        {
          "output_type": "stream",
          "name": "stderr",
          "text": [
            "\r 40%|████      | 12/30 [08:46<13:14, 44.16s/it]"
          ]
        },
        {
          "output_type": "stream",
          "name": "stdout",
          "text": [
            "Epoch 12 : training_accuracy = 82.85, training_loss = 0.4795,Validation accuracy = 82.67,Validation loss = 0.4901\n"
          ]
        },
        {
          "output_type": "stream",
          "name": "stderr",
          "text": [
            "\r 43%|████▎     | 13/30 [09:29<12:25, 43.84s/it]"
          ]
        },
        {
          "output_type": "stream",
          "name": "stdout",
          "text": [
            "Epoch 13 : training_accuracy = 82.99, training_loss = 0.4758,Validation accuracy = 82.77,Validation loss = 0.4864\n"
          ]
        },
        {
          "output_type": "stream",
          "name": "stderr",
          "text": [
            "\r 47%|████▋     | 14/30 [10:13<11:44, 44.01s/it]"
          ]
        },
        {
          "output_type": "stream",
          "name": "stdout",
          "text": [
            "Epoch 14 : training_accuracy = 83.11, training_loss = 0.4724,Validation accuracy = 82.88,Validation loss = 0.4830\n"
          ]
        },
        {
          "output_type": "stream",
          "name": "stderr",
          "text": [
            "\r 50%|█████     | 15/30 [10:57<10:59, 43.96s/it]"
          ]
        },
        {
          "output_type": "stream",
          "name": "stdout",
          "text": [
            "Epoch 15 : training_accuracy = 83.21, training_loss = 0.4692,Validation accuracy = 82.93,Validation loss = 0.4798\n"
          ]
        },
        {
          "output_type": "stream",
          "name": "stderr",
          "text": [
            "\r 53%|█████▎    | 16/30 [11:40<10:12, 43.78s/it]"
          ]
        },
        {
          "output_type": "stream",
          "name": "stdout",
          "text": [
            "Epoch 16 : training_accuracy = 83.33, training_loss = 0.4662,Validation accuracy = 83.08,Validation loss = 0.4768\n"
          ]
        },
        {
          "output_type": "stream",
          "name": "stderr",
          "text": [
            "\r 57%|█████▋    | 17/30 [12:24<09:28, 43.70s/it]"
          ]
        },
        {
          "output_type": "stream",
          "name": "stdout",
          "text": [
            "Epoch 17 : training_accuracy = 83.44, training_loss = 0.4634,Validation accuracy = 83.15,Validation loss = 0.4741\n"
          ]
        },
        {
          "output_type": "stream",
          "name": "stderr",
          "text": [
            "\r 60%|██████    | 18/30 [13:08<08:45, 43.79s/it]"
          ]
        },
        {
          "output_type": "stream",
          "name": "stdout",
          "text": [
            "Epoch 18 : training_accuracy = 83.51, training_loss = 0.4608,Validation accuracy = 83.38,Validation loss = 0.4715\n"
          ]
        },
        {
          "output_type": "stream",
          "name": "stderr",
          "text": [
            "\r 63%|██████▎   | 19/30 [13:52<08:03, 43.92s/it]"
          ]
        },
        {
          "output_type": "stream",
          "name": "stdout",
          "text": [
            "Epoch 19 : training_accuracy = 83.61, training_loss = 0.4583,Validation accuracy = 83.42,Validation loss = 0.4690\n"
          ]
        },
        {
          "output_type": "stream",
          "name": "stderr",
          "text": [
            "\r 67%|██████▋   | 20/30 [14:37<07:22, 44.26s/it]"
          ]
        },
        {
          "output_type": "stream",
          "name": "stdout",
          "text": [
            "Epoch 20 : training_accuracy = 83.71, training_loss = 0.4559,Validation accuracy = 83.47,Validation loss = 0.4667\n"
          ]
        },
        {
          "output_type": "stream",
          "name": "stderr",
          "text": [
            "\r 70%|███████   | 21/30 [15:21<06:37, 44.17s/it]"
          ]
        },
        {
          "output_type": "stream",
          "name": "stdout",
          "text": [
            "Epoch 21 : training_accuracy = 83.82, training_loss = 0.4536,Validation accuracy = 83.57,Validation loss = 0.4645\n"
          ]
        },
        {
          "output_type": "stream",
          "name": "stderr",
          "text": [
            "\r 73%|███████▎  | 22/30 [16:04<05:51, 43.89s/it]"
          ]
        },
        {
          "output_type": "stream",
          "name": "stdout",
          "text": [
            "Epoch 22 : training_accuracy = 83.89, training_loss = 0.4515,Validation accuracy = 83.65,Validation loss = 0.4624\n"
          ]
        },
        {
          "output_type": "stream",
          "name": "stderr",
          "text": [
            "\r 77%|███████▋  | 23/30 [16:47<05:05, 43.70s/it]"
          ]
        },
        {
          "output_type": "stream",
          "name": "stdout",
          "text": [
            "Epoch 23 : training_accuracy = 83.95, training_loss = 0.4494,Validation accuracy = 83.63,Validation loss = 0.4604\n"
          ]
        },
        {
          "output_type": "stream",
          "name": "stderr",
          "text": [
            "\r 80%|████████  | 24/30 [17:31<04:21, 43.61s/it]"
          ]
        },
        {
          "output_type": "stream",
          "name": "stdout",
          "text": [
            "Epoch 24 : training_accuracy = 84.03, training_loss = 0.4474,Validation accuracy = 83.68,Validation loss = 0.4585\n"
          ]
        },
        {
          "output_type": "stream",
          "name": "stderr",
          "text": [
            "\r 83%|████████▎ | 25/30 [18:15<03:39, 43.80s/it]"
          ]
        },
        {
          "output_type": "stream",
          "name": "stdout",
          "text": [
            "Epoch 25 : training_accuracy = 84.09, training_loss = 0.4455,Validation accuracy = 83.67,Validation loss = 0.4567\n"
          ]
        },
        {
          "output_type": "stream",
          "name": "stderr",
          "text": [
            "\r 87%|████████▋ | 26/30 [18:59<02:55, 43.91s/it]"
          ]
        },
        {
          "output_type": "stream",
          "name": "stdout",
          "text": [
            "Epoch 26 : training_accuracy = 84.17, training_loss = 0.4437,Validation accuracy = 83.90,Validation loss = 0.4549\n"
          ]
        },
        {
          "output_type": "stream",
          "name": "stderr",
          "text": [
            "\r 90%|█████████ | 27/30 [19:44<02:12, 44.01s/it]"
          ]
        },
        {
          "output_type": "stream",
          "name": "stdout",
          "text": [
            "Epoch 27 : training_accuracy = 84.23, training_loss = 0.4419,Validation accuracy = 83.90,Validation loss = 0.4532\n"
          ]
        },
        {
          "output_type": "stream",
          "name": "stderr",
          "text": [
            "\r 93%|█████████▎| 28/30 [20:28<01:28, 44.25s/it]"
          ]
        },
        {
          "output_type": "stream",
          "name": "stdout",
          "text": [
            "Epoch 28 : training_accuracy = 84.28, training_loss = 0.4402,Validation accuracy = 83.93,Validation loss = 0.4516\n"
          ]
        },
        {
          "output_type": "stream",
          "name": "stderr",
          "text": [
            "\r 97%|█████████▋| 29/30 [21:14<00:44, 44.58s/it]"
          ]
        },
        {
          "output_type": "stream",
          "name": "stdout",
          "text": [
            "Epoch 29 : training_accuracy = 84.35, training_loss = 0.4385,Validation accuracy = 83.93,Validation loss = 0.4500\n"
          ]
        },
        {
          "output_type": "stream",
          "name": "stderr",
          "text": [
            "100%|██████████| 30/30 [22:02<00:00, 44.07s/it]"
          ]
        },
        {
          "output_type": "stream",
          "name": "stdout",
          "text": [
            "Epoch 30 : training_accuracy = 84.45, training_loss = 0.4369,Validation accuracy = 83.95,Validation loss = 0.4485\n"
          ]
        },
        {
          "output_type": "stream",
          "name": "stderr",
          "text": [
            "\n"
          ]
        },
        {
          "output_type": "display_data",
          "data": {
            "text/plain": [
              "<IPython.core.display.HTML object>"
            ],
            "text/html": [
              "Waiting for W&B process to finish... <strong style=\"color:green\">(success).</strong>"
            ]
          },
          "metadata": {}
        },
        {
          "output_type": "display_data",
          "data": {
            "text/plain": [
              "<IPython.core.display.HTML object>"
            ],
            "text/html": [
              "<style>\n",
              "    table.wandb td:nth-child(1) { padding: 0 10px; text-align: left ; width: auto;} td:nth-child(2) {text-align: left ; width: 100%}\n",
              "    .wandb-row { display: flex; flex-direction: row; flex-wrap: wrap; justify-content: flex-start; width: 100% }\n",
              "    .wandb-col { display: flex; flex-direction: column; flex-basis: 100%; flex: 1; padding: 10px; }\n",
              "    </style>\n",
              "<div class=\"wandb-row\"><div class=\"wandb-col\"><h3>Run history:</h3><br/><table class=\"wandb\"><tr><td>accuracy</td><td>▁▃▄▄▅▅▅▆▆▆▆▆▆▇▇▇▇▇▇▇▇▇▇███████</td></tr><tr><td>steps</td><td>▁▁▁▁▁▁▁▁▁▁▁▁▁▁▁▁▁▁▁▁▁▁▁▁▁▁▁▁▁▁</td></tr><tr><td>train_loss</td><td>█▆▅▅▄▄▃▃▃▃▃▃▂▂▂▂▂▂▂▂▂▂▁▁▁▁▁▁▁▁</td></tr><tr><td>val_accuracy</td><td>▁▃▄▅▅▅▆▆▆▆▇▇▇▇▇▇▇▇▇▇██████████</td></tr><tr><td>val_loss</td><td>█▆▅▄▄▄▃▃▃▃▃▂▂▂▂▂▂▂▂▂▂▁▁▁▁▁▁▁▁▁</td></tr></table><br/></div><div class=\"wandb-col\"><h3>Run summary:</h3><br/><table class=\"wandb\"><tr><td>accuracy</td><td>84.45185</td></tr><tr><td>steps</td><td>30</td></tr><tr><td>train_loss</td><td>0.43692</td></tr><tr><td>val_accuracy</td><td>83.95</td></tr><tr><td>val_loss</td><td>0.44848</td></tr></table><br/></div></div>"
            ]
          },
          "metadata": {}
        },
        {
          "output_type": "display_data",
          "data": {
            "text/plain": [
              "<IPython.core.display.HTML object>"
            ],
            "text/html": [
              " View run <strong style=\"color:#cdcd00\">curious-sweep-1</strong> at: <a href='https://wandb.ai/shreyashgadgil007/CS-6910%20A1/runs/e44lq6k1' target=\"_blank\">https://wandb.ai/shreyashgadgil007/CS-6910%20A1/runs/e44lq6k1</a><br/>Synced 5 W&B file(s), 1 media file(s), 1 artifact file(s) and 0 other file(s)"
            ]
          },
          "metadata": {}
        },
        {
          "output_type": "display_data",
          "data": {
            "text/plain": [
              "<IPython.core.display.HTML object>"
            ],
            "text/html": [
              "Find logs at: <code>./wandb/run-20230319_144115-e44lq6k1/logs</code>"
            ]
          },
          "metadata": {}
        }
      ]
    },
    {
      "cell_type": "markdown",
      "source": [
        "# **Sweep 3**\n",
        "This sweep is done to compare squared error loss and cross-entropy loss for best model obtained. "
      ],
      "metadata": {
        "id": "tZOcA8JngSo9"
      }
    },
    {
      "cell_type": "code",
      "source": [
        "\n",
        "sweep_config = {\n",
        "    'method': 'grid', #grid, random,bayes\n",
        "    'metric': {\n",
        "      'name': 'val_accuracy',\n",
        "      'goal': 'maximize'  \n",
        "    },\n",
        "    'parameters': {\n",
        "        'epochs': {\n",
        "            'values': [30]\n",
        "        },\n",
        "        'learning_rate': {\n",
        "            'values': [0.0001]\n",
        "        },\n",
        "        'loss_function':{\n",
        "            'values':['cross_entropy','square_loss']\n",
        "        },\n",
        "        'initilisation':{\n",
        "            'values':['xavier']\n",
        "        },\n",
        "        'batch_size':{\n",
        "            'values':[32]\n",
        "        },\n",
        "        'optimiser': {\n",
        "            'values': ['nadam']\n",
        "        },\n",
        "        'activation': {\n",
        "            'values': ['tanh']\n",
        "        },\n",
        "        'hidden_layer': {\n",
        "            'values': [\n",
        "                       [256,256,256]]\n",
        "        },\n",
        "        'dropout_rate':{\n",
        "          'values':[0]  \n",
        "                },\n",
        "        \n",
        "        'weight_decay':{\n",
        "            'values':[0.0005]\n",
        "        }\n",
        "        \n",
        "    }\n",
        "}\n",
        "\n",
        "sweep_id = wandb.sweep(sweep_config, entity='shreyashgadgil007', project=\"CS-6910 A1\")\n",
        "\n",
        "def train1():\n",
        "  steps = 10\n",
        "  # Default values for hyper-parameters we're going to sweep over\n",
        "  config_defaults = {\n",
        "      'epochs': 5,\n",
        "      'input_layer': 784,\n",
        "      'output_layer': 10,\n",
        "      'batch_size':64,\n",
        "      'dropout_rate':0,\n",
        "      'weight_decay':0.005,\n",
        "      'learning_rate': 0.0001,\n",
        "      'hidden_layer':[16,16,16],\n",
        "      'optimiser':'mgd',\n",
        "      'activation':'sigmoid',\n",
        "      'initialisation':'xavier',\n",
        "      'loss_function':'cross_entropy'\n",
        "      \n",
        "  }\n",
        "\n",
        "  # Initialize a new wandb run\n",
        "  wandb.init(project='CS-6910 A1', entity='shreyashgadgil007',config=config_defaults)\n",
        "  wandb.run.name = 'b_s:'+str(wandb.config.batch_size)+',lr:'+ str(wandb.config.learning_rate)+',ep:'+str(wandb.config.epochs)+'drop:'+str(wandb.config.dropout_rate)+ ',opt:'+str(wandb.config.optimiser)+ ',hl:'+str(wandb.config.hidden_layer)+ ',act:'+str(wandb.config.activation)+',decay:'+str(wandb.config.weight_decay)+',init:'+str(wandb.config.initialisation)+',loss:'+str(wandb.config.loss_function)\n",
        "\n",
        "  \n",
        "  # Config is a variable that holds and saves hyperparameters and inputs\n",
        "  config = wandb.config\n",
        "  learning_rate = config.learning_rate\n",
        "  epochs = config.epochs\n",
        "  hidden_layer = config.hidden_layer\n",
        "  activation = config.activation\n",
        "  optimiser = config.optimiser\n",
        "  input_layer = config.input_layer\n",
        "  output_layer = config.output_layer\n",
        "  batch_size = config.batch_size\n",
        "  weight_decay = config.weight_decay\n",
        "  loss_function = config.loss_function\n",
        "  initialisation = config.initilisation\n",
        "  dropout_rate = config.dropout_rate\n",
        "  # Model training here\n",
        "  sweep_network    = NeuralNet(input_layer, hidden_layer, output_layer,initialisation,activation,loss_function,dropout_rate)\n",
        "  acc1,acc2,train_loss,val_loss  = sweep_network.train(X_train,Y_train,X_val,Y_val,learning_rate,epochs,optimiser,batch_size,weight_decay,WandB=True)\n",
        "  # print('Acc',acc2)\n",
        "\n",
        "import warnings\n",
        "warnings.filterwarnings(\"ignore\", category=np.VisibleDeprecationWarning)\n",
        "wandb.agent(sweep_id, function=train1, count=2)"
      ],
      "metadata": {
        "colab": {
          "base_uri": "https://localhost:8080/",
          "height": 1000,
          "referenced_widgets": [
            "2ac339daa33542d4a51ab9b4f617b88f",
            "60d6ca419aeb4bcbb1f6399ccffaf50d",
            "1a667168a43b47c6ac60184022d50713",
            "c850318162434a489054839324879a17",
            "9ccd0e04bd044e8bb36b93c5e3cf5ab8",
            "b61950e304d34804a6f8e501e1401163",
            "c5a7da12d61d4f31b112d66b0deee13d",
            "a47ea1f4fa954438bea40a1332ab0b1c"
          ]
        },
        "id": "Yi2hbXjipu0K",
        "outputId": "a1ce81e3-001e-4b97-99c3-e31061fa76f5"
      },
      "execution_count": null,
      "outputs": [
        {
          "metadata": {
            "tags": null
          },
          "name": "stdout",
          "output_type": "stream",
          "text": [
            "Create sweep with ID: owg6l9vh\n",
            "Sweep URL: https://wandb.ai/shreyashgadgil007/CS-6910%20A1/sweeps/owg6l9vh\n"
          ]
        },
        {
          "metadata": {
            "tags": null
          },
          "name": "stderr",
          "output_type": "stream",
          "text": [
            "\u001b[34m\u001b[1mwandb\u001b[0m: Agent Starting Run: ltd79h3f with config:\n",
            "\u001b[34m\u001b[1mwandb\u001b[0m: \tactivation: tanh\n",
            "\u001b[34m\u001b[1mwandb\u001b[0m: \tbatch_size: 32\n",
            "\u001b[34m\u001b[1mwandb\u001b[0m: \tdropout_rate: 0\n",
            "\u001b[34m\u001b[1mwandb\u001b[0m: \tepochs: 30\n",
            "\u001b[34m\u001b[1mwandb\u001b[0m: \thidden_layer: [256, 256, 256]\n",
            "\u001b[34m\u001b[1mwandb\u001b[0m: \tinitilisation: xavier\n",
            "\u001b[34m\u001b[1mwandb\u001b[0m: \tlearning_rate: 0.0001\n",
            "\u001b[34m\u001b[1mwandb\u001b[0m: \tloss_function: cross_entropy\n",
            "\u001b[34m\u001b[1mwandb\u001b[0m: \toptimiser: nadam\n",
            "\u001b[34m\u001b[1mwandb\u001b[0m: \tweight_decay: 0.0005\n",
            "\u001b[34m\u001b[1mwandb\u001b[0m: Currently logged in as: \u001b[33mshreyashgadgil007\u001b[0m. Use \u001b[1m`wandb login --relogin`\u001b[0m to force relogin\n",
            "\u001b[34m\u001b[1mwandb\u001b[0m: \u001b[33mWARNING\u001b[0m Ignored wandb.init() arg project when running a sweep.\n",
            "\u001b[34m\u001b[1mwandb\u001b[0m: \u001b[33mWARNING\u001b[0m Ignored wandb.init() arg entity when running a sweep.\n"
          ]
        },
        {
          "data": {
            "text/html": [
              "Tracking run with wandb version 0.14.0"
            ],
            "text/plain": [
              "<IPython.core.display.HTML object>"
            ]
          },
          "metadata": {},
          "output_type": "display_data"
        },
        {
          "data": {
            "text/html": [
              "Run data is saved locally in <code>/content/wandb/run-20230318_060346-ltd79h3f</code>"
            ],
            "text/plain": [
              "<IPython.core.display.HTML object>"
            ]
          },
          "metadata": {},
          "output_type": "display_data"
        },
        {
          "data": {
            "text/html": [
              "Syncing run <strong><a href='https://wandb.ai/shreyashgadgil007/CS-6910%20A1/runs/ltd79h3f' target=\"_blank\">good-sweep-1</a></strong> to <a href='https://wandb.ai/shreyashgadgil007/CS-6910%20A1' target=\"_blank\">Weights & Biases</a> (<a href='https://wandb.me/run' target=\"_blank\">docs</a>)<br/>Sweep page: <a href='https://wandb.ai/shreyashgadgil007/CS-6910%20A1/sweeps/owg6l9vh' target=\"_blank\">https://wandb.ai/shreyashgadgil007/CS-6910%20A1/sweeps/owg6l9vh</a>"
            ],
            "text/plain": [
              "<IPython.core.display.HTML object>"
            ]
          },
          "metadata": {},
          "output_type": "display_data"
        },
        {
          "data": {
            "text/html": [
              " View project at <a href='https://wandb.ai/shreyashgadgil007/CS-6910%20A1' target=\"_blank\">https://wandb.ai/shreyashgadgil007/CS-6910%20A1</a>"
            ],
            "text/plain": [
              "<IPython.core.display.HTML object>"
            ]
          },
          "metadata": {},
          "output_type": "display_data"
        },
        {
          "data": {
            "text/html": [
              " View sweep at <a href='https://wandb.ai/shreyashgadgil007/CS-6910%20A1/sweeps/owg6l9vh' target=\"_blank\">https://wandb.ai/shreyashgadgil007/CS-6910%20A1/sweeps/owg6l9vh</a>"
            ],
            "text/plain": [
              "<IPython.core.display.HTML object>"
            ]
          },
          "metadata": {},
          "output_type": "display_data"
        },
        {
          "data": {
            "text/html": [
              " View run at <a href='https://wandb.ai/shreyashgadgil007/CS-6910%20A1/runs/ltd79h3f' target=\"_blank\">https://wandb.ai/shreyashgadgil007/CS-6910%20A1/runs/ltd79h3f</a>"
            ],
            "text/plain": [
              "<IPython.core.display.HTML object>"
            ]
          },
          "metadata": {},
          "output_type": "display_data"
        },
        {
          "metadata": {
            "tags": null
          },
          "name": "stderr",
          "output_type": "stream",
          "text": [
            "  3%|▎         | 1/30 [00:46<22:21, 46.27s/it]"
          ]
        },
        {
          "metadata": {
            "tags": null
          },
          "name": "stdout",
          "output_type": "stream",
          "text": [
            "Epoch 1 : training_accuracy = 77.73, training_loss = 0.6345,Validation accuracy = 77.28,Validation loss = 0.6462\n"
          ]
        },
        {
          "metadata": {
            "tags": null
          },
          "name": "stderr",
          "output_type": "stream",
          "text": [
            "\r  7%|▋         | 2/30 [01:33<21:59, 47.11s/it]"
          ]
        },
        {
          "metadata": {
            "tags": null
          },
          "name": "stdout",
          "output_type": "stream",
          "text": [
            "Epoch 2 : training_accuracy = 79.43, training_loss = 0.5798,Validation accuracy = 79.25,Validation loss = 0.5910\n"
          ]
        },
        {
          "metadata": {
            "tags": null
          },
          "name": "stderr",
          "output_type": "stream",
          "text": [
            "\r 10%|█         | 3/30 [02:22<21:31, 47.82s/it]"
          ]
        },
        {
          "metadata": {
            "tags": null
          },
          "name": "stdout",
          "output_type": "stream",
          "text": [
            "Epoch 3 : training_accuracy = 80.28, training_loss = 0.5529,Validation accuracy = 80.08,Validation loss = 0.5641\n"
          ]
        },
        {
          "metadata": {
            "tags": null
          },
          "name": "stderr",
          "output_type": "stream",
          "text": [
            "\r 13%|█▎        | 4/30 [03:09<20:30, 47.33s/it]"
          ]
        },
        {
          "metadata": {
            "tags": null
          },
          "name": "stdout",
          "output_type": "stream",
          "text": [
            "Epoch 4 : training_accuracy = 80.90, training_loss = 0.5357,Validation accuracy = 80.72,Validation loss = 0.5468\n"
          ]
        },
        {
          "metadata": {
            "tags": null
          },
          "name": "stderr",
          "output_type": "stream",
          "text": [
            "\r 17%|█▋        | 5/30 [03:55<19:37, 47.09s/it]"
          ]
        },
        {
          "metadata": {
            "tags": null
          },
          "name": "stdout",
          "output_type": "stream",
          "text": [
            "Epoch 5 : training_accuracy = 81.36, training_loss = 0.5232,Validation accuracy = 81.22,Validation loss = 0.5342\n"
          ]
        },
        {
          "metadata": {
            "tags": null
          },
          "name": "stderr",
          "output_type": "stream",
          "text": [
            "\r 20%|██        | 6/30 [04:45<19:09, 47.88s/it]"
          ]
        },
        {
          "metadata": {
            "tags": null
          },
          "name": "stdout",
          "output_type": "stream",
          "text": [
            "Epoch 6 : training_accuracy = 81.69, training_loss = 0.5135,Validation accuracy = 81.45,Validation loss = 0.5244\n"
          ]
        },
        {
          "metadata": {
            "tags": null
          },
          "name": "stderr",
          "output_type": "stream",
          "text": [
            "\r 23%|██▎       | 7/30 [05:33<18:24, 48.03s/it]"
          ]
        },
        {
          "metadata": {
            "tags": null
          },
          "name": "stdout",
          "output_type": "stream",
          "text": [
            "Epoch 7 : training_accuracy = 81.93, training_loss = 0.5056,Validation accuracy = 81.75,Validation loss = 0.5164\n"
          ]
        },
        {
          "metadata": {
            "tags": null
          },
          "name": "stderr",
          "output_type": "stream",
          "text": [
            "\r 27%|██▋       | 8/30 [06:21<17:35, 47.98s/it]"
          ]
        },
        {
          "metadata": {
            "tags": null
          },
          "name": "stdout",
          "output_type": "stream",
          "text": [
            "Epoch 8 : training_accuracy = 82.18, training_loss = 0.4989,Validation accuracy = 81.98,Validation loss = 0.5097\n"
          ]
        },
        {
          "metadata": {
            "tags": null
          },
          "name": "stderr",
          "output_type": "stream",
          "text": [
            "\r 30%|███       | 9/30 [07:10<16:53, 48.28s/it]"
          ]
        },
        {
          "metadata": {
            "tags": null
          },
          "name": "stdout",
          "output_type": "stream",
          "text": [
            "Epoch 9 : training_accuracy = 82.38, training_loss = 0.4932,Validation accuracy = 82.22,Validation loss = 0.5039\n"
          ]
        },
        {
          "metadata": {
            "tags": null
          },
          "name": "stderr",
          "output_type": "stream",
          "text": [
            "\r 33%|███▎      | 10/30 [07:58<16:02, 48.11s/it]"
          ]
        },
        {
          "metadata": {
            "tags": null
          },
          "name": "stdout",
          "output_type": "stream",
          "text": [
            "Epoch 10 : training_accuracy = 82.58, training_loss = 0.4881,Validation accuracy = 82.47,Validation loss = 0.4988\n"
          ]
        },
        {
          "metadata": {
            "tags": null
          },
          "name": "stderr",
          "output_type": "stream",
          "text": [
            "\r 37%|███▋      | 11/30 [08:47<15:19, 48.41s/it]"
          ]
        },
        {
          "metadata": {
            "tags": null
          },
          "name": "stdout",
          "output_type": "stream",
          "text": [
            "Epoch 11 : training_accuracy = 82.73, training_loss = 0.4836,Validation accuracy = 82.55,Validation loss = 0.4942\n"
          ]
        },
        {
          "metadata": {
            "tags": null
          },
          "name": "stderr",
          "output_type": "stream",
          "text": [
            "\r 40%|████      | 12/30 [09:34<14:23, 47.95s/it]"
          ]
        },
        {
          "metadata": {
            "tags": null
          },
          "name": "stdout",
          "output_type": "stream",
          "text": [
            "Epoch 12 : training_accuracy = 82.85, training_loss = 0.4795,Validation accuracy = 82.67,Validation loss = 0.4901\n"
          ]
        },
        {
          "metadata": {
            "tags": null
          },
          "name": "stderr",
          "output_type": "stream",
          "text": [
            "\r 43%|████▎     | 13/30 [10:22<13:36, 48.03s/it]"
          ]
        },
        {
          "metadata": {
            "tags": null
          },
          "name": "stdout",
          "output_type": "stream",
          "text": [
            "Epoch 13 : training_accuracy = 82.99, training_loss = 0.4758,Validation accuracy = 82.77,Validation loss = 0.4864\n"
          ]
        },
        {
          "metadata": {
            "tags": null
          },
          "name": "stderr",
          "output_type": "stream",
          "text": [
            "\r 47%|████▋     | 14/30 [11:10<12:50, 48.13s/it]"
          ]
        },
        {
          "metadata": {
            "tags": null
          },
          "name": "stdout",
          "output_type": "stream",
          "text": [
            "Epoch 14 : training_accuracy = 83.11, training_loss = 0.4724,Validation accuracy = 82.88,Validation loss = 0.4830\n"
          ]
        },
        {
          "metadata": {
            "tags": null
          },
          "name": "stderr",
          "output_type": "stream",
          "text": [
            "\r 50%|█████     | 15/30 [11:58<11:58, 47.91s/it]"
          ]
        },
        {
          "metadata": {
            "tags": null
          },
          "name": "stdout",
          "output_type": "stream",
          "text": [
            "Epoch 15 : training_accuracy = 83.21, training_loss = 0.4692,Validation accuracy = 82.93,Validation loss = 0.4798\n"
          ]
        },
        {
          "metadata": {
            "tags": null
          },
          "name": "stderr",
          "output_type": "stream",
          "text": [
            "\r 53%|█████▎    | 16/30 [12:47<11:15, 48.25s/it]"
          ]
        },
        {
          "metadata": {
            "tags": null
          },
          "name": "stdout",
          "output_type": "stream",
          "text": [
            "Epoch 16 : training_accuracy = 83.33, training_loss = 0.4662,Validation accuracy = 83.08,Validation loss = 0.4768\n"
          ]
        },
        {
          "metadata": {
            "tags": null
          },
          "name": "stderr",
          "output_type": "stream",
          "text": [
            "\r 57%|█████▋    | 17/30 [13:34<10:22, 47.87s/it]"
          ]
        },
        {
          "metadata": {
            "tags": null
          },
          "name": "stdout",
          "output_type": "stream",
          "text": [
            "Epoch 17 : training_accuracy = 83.44, training_loss = 0.4634,Validation accuracy = 83.15,Validation loss = 0.4741\n"
          ]
        },
        {
          "metadata": {
            "tags": null
          },
          "name": "stderr",
          "output_type": "stream",
          "text": [
            "\r 60%|██████    | 18/30 [14:22<09:34, 47.87s/it]"
          ]
        },
        {
          "metadata": {
            "tags": null
          },
          "name": "stdout",
          "output_type": "stream",
          "text": [
            "Epoch 18 : training_accuracy = 83.51, training_loss = 0.4608,Validation accuracy = 83.38,Validation loss = 0.4715\n"
          ]
        },
        {
          "metadata": {
            "tags": null
          },
          "name": "stderr",
          "output_type": "stream",
          "text": [
            "\r 63%|██████▎   | 19/30 [15:10<08:49, 48.16s/it]"
          ]
        },
        {
          "metadata": {
            "tags": null
          },
          "name": "stdout",
          "output_type": "stream",
          "text": [
            "Epoch 19 : training_accuracy = 83.61, training_loss = 0.4583,Validation accuracy = 83.42,Validation loss = 0.4690\n"
          ]
        },
        {
          "metadata": {
            "tags": null
          },
          "name": "stderr",
          "output_type": "stream",
          "text": [
            "\r 67%|██████▋   | 20/30 [15:57<07:56, 47.67s/it]"
          ]
        },
        {
          "metadata": {
            "tags": null
          },
          "name": "stdout",
          "output_type": "stream",
          "text": [
            "Epoch 20 : training_accuracy = 83.71, training_loss = 0.4559,Validation accuracy = 83.47,Validation loss = 0.4667\n"
          ]
        },
        {
          "metadata": {
            "tags": null
          },
          "name": "stderr",
          "output_type": "stream",
          "text": [
            "\r 70%|███████   | 21/30 [16:44<07:07, 47.48s/it]"
          ]
        },
        {
          "metadata": {
            "tags": null
          },
          "name": "stdout",
          "output_type": "stream",
          "text": [
            "Epoch 21 : training_accuracy = 83.82, training_loss = 0.4536,Validation accuracy = 83.57,Validation loss = 0.4645\n"
          ]
        },
        {
          "metadata": {
            "tags": null
          },
          "name": "stderr",
          "output_type": "stream",
          "text": [
            "\r 73%|███████▎  | 22/30 [17:32<06:22, 47.78s/it]"
          ]
        },
        {
          "metadata": {
            "tags": null
          },
          "name": "stdout",
          "output_type": "stream",
          "text": [
            "Epoch 22 : training_accuracy = 83.89, training_loss = 0.4515,Validation accuracy = 83.65,Validation loss = 0.4624\n"
          ]
        },
        {
          "metadata": {
            "tags": null
          },
          "name": "stderr",
          "output_type": "stream",
          "text": [
            "\r 77%|███████▋  | 23/30 [18:19<05:32, 47.48s/it]"
          ]
        },
        {
          "metadata": {
            "tags": null
          },
          "name": "stdout",
          "output_type": "stream",
          "text": [
            "Epoch 23 : training_accuracy = 83.95, training_loss = 0.4494,Validation accuracy = 83.63,Validation loss = 0.4604\n"
          ]
        },
        {
          "metadata": {
            "tags": null
          },
          "name": "stderr",
          "output_type": "stream",
          "text": [
            "\r 80%|████████  | 24/30 [19:07<04:46, 47.72s/it]"
          ]
        },
        {
          "metadata": {
            "tags": null
          },
          "name": "stdout",
          "output_type": "stream",
          "text": [
            "Epoch 24 : training_accuracy = 84.03, training_loss = 0.4474,Validation accuracy = 83.68,Validation loss = 0.4585\n"
          ]
        },
        {
          "metadata": {
            "tags": null
          },
          "name": "stderr",
          "output_type": "stream",
          "text": [
            "\r 83%|████████▎ | 25/30 [19:56<03:59, 47.92s/it]"
          ]
        },
        {
          "metadata": {
            "tags": null
          },
          "name": "stdout",
          "output_type": "stream",
          "text": [
            "Epoch 25 : training_accuracy = 84.09, training_loss = 0.4455,Validation accuracy = 83.67,Validation loss = 0.4567\n"
          ]
        },
        {
          "metadata": {
            "tags": null
          },
          "name": "stderr",
          "output_type": "stream",
          "text": [
            "\r 87%|████████▋ | 26/30 [20:43<03:10, 47.69s/it]"
          ]
        },
        {
          "metadata": {
            "tags": null
          },
          "name": "stdout",
          "output_type": "stream",
          "text": [
            "Epoch 26 : training_accuracy = 84.17, training_loss = 0.4437,Validation accuracy = 83.90,Validation loss = 0.4549\n"
          ]
        },
        {
          "metadata": {
            "tags": null
          },
          "name": "stderr",
          "output_type": "stream",
          "text": [
            "\r 90%|█████████ | 27/30 [21:31<02:23, 47.86s/it]"
          ]
        },
        {
          "metadata": {
            "tags": null
          },
          "name": "stdout",
          "output_type": "stream",
          "text": [
            "Epoch 27 : training_accuracy = 84.23, training_loss = 0.4419,Validation accuracy = 83.90,Validation loss = 0.4532\n"
          ]
        },
        {
          "output_type": "stream",
          "name": "stderr",
          "text": [
            "\r 93%|█████████▎| 28/30 [22:16<01:33, 46.99s/it]"
          ]
        },
        {
          "output_type": "stream",
          "name": "stdout",
          "text": [
            "Epoch 28 : training_accuracy = 84.28, training_loss = 0.4402,Validation accuracy = 83.93,Validation loss = 0.4516\n"
          ]
        },
        {
          "output_type": "stream",
          "name": "stderr",
          "text": [
            "\r 97%|█████████▋| 29/30 [23:02<00:46, 46.74s/it]"
          ]
        },
        {
          "output_type": "stream",
          "name": "stdout",
          "text": [
            "Epoch 29 : training_accuracy = 84.35, training_loss = 0.4385,Validation accuracy = 83.93,Validation loss = 0.4500\n"
          ]
        },
        {
          "output_type": "stream",
          "name": "stderr",
          "text": [
            "100%|██████████| 30/30 [23:49<00:00, 47.64s/it]"
          ]
        },
        {
          "output_type": "stream",
          "name": "stdout",
          "text": [
            "Epoch 30 : training_accuracy = 84.45, training_loss = 0.4369,Validation accuracy = 83.95,Validation loss = 0.4485\n"
          ]
        },
        {
          "output_type": "stream",
          "name": "stderr",
          "text": [
            "\n"
          ]
        },
        {
          "output_type": "display_data",
          "data": {
            "text/plain": [
              "<IPython.core.display.HTML object>"
            ],
            "text/html": [
              "Waiting for W&B process to finish... <strong style=\"color:green\">(success).</strong>"
            ]
          },
          "metadata": {}
        },
        {
          "output_type": "display_data",
          "data": {
            "text/plain": [
              "VBox(children=(Label(value='0.001 MB of 0.011 MB uploaded (0.000 MB deduped)\\r'), FloatProgress(value=0.094388…"
            ],
            "application/vnd.jupyter.widget-view+json": {
              "version_major": 2,
              "version_minor": 0,
              "model_id": "2ac339daa33542d4a51ab9b4f617b88f"
            }
          },
          "metadata": {}
        },
        {
          "output_type": "display_data",
          "data": {
            "text/plain": [
              "<IPython.core.display.HTML object>"
            ],
            "text/html": [
              "<style>\n",
              "    table.wandb td:nth-child(1) { padding: 0 10px; text-align: left ; width: auto;} td:nth-child(2) {text-align: left ; width: 100%}\n",
              "    .wandb-row { display: flex; flex-direction: row; flex-wrap: wrap; justify-content: flex-start; width: 100% }\n",
              "    .wandb-col { display: flex; flex-direction: column; flex-basis: 100%; flex: 1; padding: 10px; }\n",
              "    </style>\n",
              "<div class=\"wandb-row\"><div class=\"wandb-col\"><h3>Run history:</h3><br/><table class=\"wandb\"><tr><td>accuracy</td><td>▁▃▄▄▅▅▅▆▆▆▆▆▆▇▇▇▇▇▇▇▇▇▇███████</td></tr><tr><td>steps</td><td>▁▁▁▁▁▁▁▁▁▁▁▁▁▁▁▁▁▁▁▁▁▁▁▁▁▁▁▁▁▁</td></tr><tr><td>train_loss</td><td>█▆▅▅▄▄▃▃▃▃▃▃▂▂▂▂▂▂▂▂▂▂▁▁▁▁▁▁▁▁</td></tr><tr><td>val_accuracy</td><td>▁▃▄▅▅▅▆▆▆▆▇▇▇▇▇▇▇▇▇▇██████████</td></tr><tr><td>val_loss</td><td>█▆▅▄▄▄▃▃▃▃▃▂▂▂▂▂▂▂▂▂▂▁▁▁▁▁▁▁▁▁</td></tr></table><br/></div><div class=\"wandb-col\"><h3>Run summary:</h3><br/><table class=\"wandb\"><tr><td>accuracy</td><td>84.45185</td></tr><tr><td>steps</td><td>30</td></tr><tr><td>train_loss</td><td>0.43692</td></tr><tr><td>val_accuracy</td><td>83.95</td></tr><tr><td>val_loss</td><td>0.44848</td></tr></table><br/></div></div>"
            ]
          },
          "metadata": {}
        },
        {
          "output_type": "display_data",
          "data": {
            "text/plain": [
              "<IPython.core.display.HTML object>"
            ],
            "text/html": [
              " View run <strong style=\"color:#cdcd00\">good-sweep-1</strong> at: <a href='https://wandb.ai/shreyashgadgil007/CS-6910%20A1/runs/ltd79h3f' target=\"_blank\">https://wandb.ai/shreyashgadgil007/CS-6910%20A1/runs/ltd79h3f</a><br/>Synced 5 W&B file(s), 0 media file(s), 0 artifact file(s) and 0 other file(s)"
            ]
          },
          "metadata": {}
        },
        {
          "output_type": "display_data",
          "data": {
            "text/plain": [
              "<IPython.core.display.HTML object>"
            ],
            "text/html": [
              "Find logs at: <code>./wandb/run-20230318_060346-ltd79h3f/logs</code>"
            ]
          },
          "metadata": {}
        },
        {
          "output_type": "stream",
          "name": "stderr",
          "text": [
            "\u001b[34m\u001b[1mwandb\u001b[0m: Agent Starting Run: u0xcy3d3 with config:\n",
            "\u001b[34m\u001b[1mwandb\u001b[0m: \tactivation: tanh\n",
            "\u001b[34m\u001b[1mwandb\u001b[0m: \tbatch_size: 32\n",
            "\u001b[34m\u001b[1mwandb\u001b[0m: \tdropout_rate: 0\n",
            "\u001b[34m\u001b[1mwandb\u001b[0m: \tepochs: 30\n",
            "\u001b[34m\u001b[1mwandb\u001b[0m: \thidden_layer: [256, 256, 256]\n",
            "\u001b[34m\u001b[1mwandb\u001b[0m: \tinitilisation: xavier\n",
            "\u001b[34m\u001b[1mwandb\u001b[0m: \tlearning_rate: 0.0001\n",
            "\u001b[34m\u001b[1mwandb\u001b[0m: \tloss_function: square_loss\n",
            "\u001b[34m\u001b[1mwandb\u001b[0m: \toptimiser: nadam\n",
            "\u001b[34m\u001b[1mwandb\u001b[0m: \tweight_decay: 0.0005\n",
            "\u001b[34m\u001b[1mwandb\u001b[0m: \u001b[33mWARNING\u001b[0m Ignored wandb.init() arg project when running a sweep.\n",
            "\u001b[34m\u001b[1mwandb\u001b[0m: \u001b[33mWARNING\u001b[0m Ignored wandb.init() arg entity when running a sweep.\n"
          ]
        },
        {
          "output_type": "display_data",
          "data": {
            "text/plain": [
              "<IPython.core.display.HTML object>"
            ],
            "text/html": [
              "Tracking run with wandb version 0.14.0"
            ]
          },
          "metadata": {}
        },
        {
          "output_type": "display_data",
          "data": {
            "text/plain": [
              "<IPython.core.display.HTML object>"
            ],
            "text/html": [
              "Run data is saved locally in <code>/content/wandb/run-20230318_062751-u0xcy3d3</code>"
            ]
          },
          "metadata": {}
        },
        {
          "output_type": "display_data",
          "data": {
            "text/plain": [
              "<IPython.core.display.HTML object>"
            ],
            "text/html": [
              "Syncing run <strong><a href='https://wandb.ai/shreyashgadgil007/CS-6910%20A1/runs/u0xcy3d3' target=\"_blank\">fresh-sweep-2</a></strong> to <a href='https://wandb.ai/shreyashgadgil007/CS-6910%20A1' target=\"_blank\">Weights & Biases</a> (<a href='https://wandb.me/run' target=\"_blank\">docs</a>)<br/>Sweep page: <a href='https://wandb.ai/shreyashgadgil007/CS-6910%20A1/sweeps/owg6l9vh' target=\"_blank\">https://wandb.ai/shreyashgadgil007/CS-6910%20A1/sweeps/owg6l9vh</a>"
            ]
          },
          "metadata": {}
        },
        {
          "output_type": "display_data",
          "data": {
            "text/plain": [
              "<IPython.core.display.HTML object>"
            ],
            "text/html": [
              " View project at <a href='https://wandb.ai/shreyashgadgil007/CS-6910%20A1' target=\"_blank\">https://wandb.ai/shreyashgadgil007/CS-6910%20A1</a>"
            ]
          },
          "metadata": {}
        },
        {
          "output_type": "display_data",
          "data": {
            "text/plain": [
              "<IPython.core.display.HTML object>"
            ],
            "text/html": [
              " View sweep at <a href='https://wandb.ai/shreyashgadgil007/CS-6910%20A1/sweeps/owg6l9vh' target=\"_blank\">https://wandb.ai/shreyashgadgil007/CS-6910%20A1/sweeps/owg6l9vh</a>"
            ]
          },
          "metadata": {}
        },
        {
          "output_type": "display_data",
          "data": {
            "text/plain": [
              "<IPython.core.display.HTML object>"
            ],
            "text/html": [
              " View run at <a href='https://wandb.ai/shreyashgadgil007/CS-6910%20A1/runs/u0xcy3d3' target=\"_blank\">https://wandb.ai/shreyashgadgil007/CS-6910%20A1/runs/u0xcy3d3</a>"
            ]
          },
          "metadata": {}
        },
        {
          "output_type": "stream",
          "name": "stderr",
          "text": [
            "  3%|▎         | 1/30 [00:45<21:55, 45.35s/it]"
          ]
        },
        {
          "output_type": "stream",
          "name": "stdout",
          "text": [
            "Epoch 1 : training_accuracy = 72.78, training_loss = 0.0000,Validation accuracy = 72.60,Validation loss = 0.0000\n"
          ]
        },
        {
          "output_type": "stream",
          "name": "stderr",
          "text": [
            "\r  7%|▋         | 2/30 [01:32<21:39, 46.41s/it]"
          ]
        },
        {
          "output_type": "stream",
          "name": "stdout",
          "text": [
            "Epoch 2 : training_accuracy = 75.59, training_loss = 0.0000,Validation accuracy = 74.90,Validation loss = 0.0000\n"
          ]
        },
        {
          "output_type": "stream",
          "name": "stderr",
          "text": [
            "\r 10%|█         | 3/30 [02:18<20:45, 46.14s/it]"
          ]
        },
        {
          "output_type": "stream",
          "name": "stdout",
          "text": [
            "Epoch 3 : training_accuracy = 76.70, training_loss = 0.0000,Validation accuracy = 76.00,Validation loss = 0.0000\n"
          ]
        },
        {
          "output_type": "stream",
          "name": "stderr",
          "text": [
            "\r 13%|█▎        | 4/30 [03:05<20:07, 46.43s/it]"
          ]
        },
        {
          "output_type": "stream",
          "name": "stdout",
          "text": [
            "Epoch 4 : training_accuracy = 77.32, training_loss = 0.0000,Validation accuracy = 76.93,Validation loss = 0.0000\n"
          ]
        },
        {
          "output_type": "stream",
          "name": "stderr",
          "text": [
            "\r 17%|█▋        | 5/30 [03:50<19:11, 46.05s/it]"
          ]
        },
        {
          "output_type": "stream",
          "name": "stdout",
          "text": [
            "Epoch 5 : training_accuracy = 77.85, training_loss = 0.0000,Validation accuracy = 77.33,Validation loss = 0.0000\n"
          ]
        },
        {
          "output_type": "stream",
          "name": "stderr",
          "text": [
            "\r 20%|██        | 6/30 [04:37<18:29, 46.23s/it]"
          ]
        },
        {
          "output_type": "stream",
          "name": "stdout",
          "text": [
            "Epoch 6 : training_accuracy = 78.20, training_loss = 0.0000,Validation accuracy = 77.78,Validation loss = 0.0000\n"
          ]
        },
        {
          "output_type": "stream",
          "name": "stderr",
          "text": [
            "\r 23%|██▎       | 7/30 [05:22<17:40, 46.10s/it]"
          ]
        },
        {
          "output_type": "stream",
          "name": "stdout",
          "text": [
            "Epoch 7 : training_accuracy = 78.55, training_loss = 0.0000,Validation accuracy = 78.25,Validation loss = 0.0000\n"
          ]
        },
        {
          "output_type": "stream",
          "name": "stderr",
          "text": [
            "\r 27%|██▋       | 8/30 [06:08<16:53, 46.07s/it]"
          ]
        },
        {
          "output_type": "stream",
          "name": "stdout",
          "text": [
            "Epoch 8 : training_accuracy = 78.80, training_loss = 0.0000,Validation accuracy = 78.60,Validation loss = 0.0000\n"
          ]
        },
        {
          "output_type": "stream",
          "name": "stderr",
          "text": [
            "\r 30%|███       | 9/30 [06:55<16:12, 46.29s/it]"
          ]
        },
        {
          "output_type": "stream",
          "name": "stdout",
          "text": [
            "Epoch 9 : training_accuracy = 79.06, training_loss = 0.0000,Validation accuracy = 78.80,Validation loss = 0.0000\n"
          ]
        },
        {
          "output_type": "stream",
          "name": "stderr",
          "text": [
            "\r 33%|███▎      | 10/30 [07:41<15:20, 46.01s/it]"
          ]
        },
        {
          "output_type": "stream",
          "name": "stdout",
          "text": [
            "Epoch 10 : training_accuracy = 79.24, training_loss = 0.0000,Validation accuracy = 79.07,Validation loss = 0.0000\n"
          ]
        },
        {
          "output_type": "stream",
          "name": "stderr",
          "text": [
            "\r 37%|███▋      | 11/30 [08:27<14:38, 46.25s/it]"
          ]
        },
        {
          "output_type": "stream",
          "name": "stdout",
          "text": [
            "Epoch 11 : training_accuracy = 79.46, training_loss = 0.0000,Validation accuracy = 79.27,Validation loss = 0.0000\n"
          ]
        },
        {
          "output_type": "stream",
          "name": "stderr",
          "text": [
            "\r 40%|████      | 12/30 [09:13<13:47, 45.99s/it]"
          ]
        },
        {
          "output_type": "stream",
          "name": "stdout",
          "text": [
            "Epoch 12 : training_accuracy = 79.59, training_loss = 0.0000,Validation accuracy = 79.40,Validation loss = 0.0000\n"
          ]
        },
        {
          "output_type": "stream",
          "name": "stderr",
          "text": [
            "\r 43%|████▎     | 13/30 [10:00<13:06, 46.26s/it]"
          ]
        },
        {
          "output_type": "stream",
          "name": "stdout",
          "text": [
            "Epoch 13 : training_accuracy = 79.78, training_loss = 0.0000,Validation accuracy = 79.58,Validation loss = 0.0000\n"
          ]
        },
        {
          "output_type": "stream",
          "name": "stderr",
          "text": [
            "\r 47%|████▋     | 14/30 [10:45<12:17, 46.11s/it]"
          ]
        },
        {
          "output_type": "stream",
          "name": "stdout",
          "text": [
            "Epoch 14 : training_accuracy = 79.92, training_loss = 0.0000,Validation accuracy = 79.70,Validation loss = 0.0000\n"
          ]
        },
        {
          "output_type": "stream",
          "name": "stderr",
          "text": [
            "\r 50%|█████     | 15/30 [11:32<11:35, 46.34s/it]"
          ]
        },
        {
          "output_type": "stream",
          "name": "stdout",
          "text": [
            "Epoch 15 : training_accuracy = 80.07, training_loss = 0.0000,Validation accuracy = 79.78,Validation loss = 0.0000\n"
          ]
        },
        {
          "output_type": "stream",
          "name": "stderr",
          "text": [
            "\r 53%|█████▎    | 16/30 [12:18<10:44, 46.06s/it]"
          ]
        },
        {
          "output_type": "stream",
          "name": "stdout",
          "text": [
            "Epoch 16 : training_accuracy = 80.21, training_loss = 0.0000,Validation accuracy = 79.82,Validation loss = 0.0000\n"
          ]
        },
        {
          "output_type": "stream",
          "name": "stderr",
          "text": [
            "\r 57%|█████▋    | 17/30 [13:05<10:03, 46.39s/it]"
          ]
        },
        {
          "output_type": "stream",
          "name": "stdout",
          "text": [
            "Epoch 17 : training_accuracy = 80.31, training_loss = 0.0000,Validation accuracy = 79.82,Validation loss = 0.0000\n"
          ]
        },
        {
          "output_type": "stream",
          "name": "stderr",
          "text": [
            "\r 60%|██████    | 18/30 [13:50<09:12, 46.07s/it]"
          ]
        },
        {
          "output_type": "stream",
          "name": "stdout",
          "text": [
            "Epoch 18 : training_accuracy = 80.46, training_loss = 0.0000,Validation accuracy = 80.02,Validation loss = 0.0000\n"
          ]
        },
        {
          "output_type": "stream",
          "name": "stderr",
          "text": [
            "\r 63%|██████▎   | 19/30 [14:36<08:26, 46.02s/it]"
          ]
        },
        {
          "output_type": "stream",
          "name": "stdout",
          "text": [
            "Epoch 19 : training_accuracy = 80.58, training_loss = 0.0000,Validation accuracy = 80.12,Validation loss = 0.0000\n"
          ]
        },
        {
          "output_type": "stream",
          "name": "stderr",
          "text": [
            "\r 67%|██████▋   | 20/30 [15:22<07:38, 45.88s/it]"
          ]
        },
        {
          "output_type": "stream",
          "name": "stdout",
          "text": [
            "Epoch 20 : training_accuracy = 80.71, training_loss = 0.0000,Validation accuracy = 80.20,Validation loss = 0.0000\n"
          ]
        },
        {
          "output_type": "stream",
          "name": "stderr",
          "text": [
            "\r 70%|███████   | 21/30 [16:07<06:52, 45.80s/it]"
          ]
        },
        {
          "output_type": "stream",
          "name": "stdout",
          "text": [
            "Epoch 21 : training_accuracy = 80.83, training_loss = 0.0000,Validation accuracy = 80.43,Validation loss = 0.0000\n"
          ]
        },
        {
          "output_type": "stream",
          "name": "stderr",
          "text": [
            "\r 73%|███████▎  | 22/30 [16:54<06:08, 46.07s/it]"
          ]
        },
        {
          "output_type": "stream",
          "name": "stdout",
          "text": [
            "Epoch 22 : training_accuracy = 80.92, training_loss = 0.0000,Validation accuracy = 80.55,Validation loss = 0.0000\n"
          ]
        },
        {
          "output_type": "stream",
          "name": "stderr",
          "text": [
            "\r 77%|███████▋  | 23/30 [17:39<05:21, 45.86s/it]"
          ]
        },
        {
          "output_type": "stream",
          "name": "stdout",
          "text": [
            "Epoch 23 : training_accuracy = 81.01, training_loss = 0.0000,Validation accuracy = 80.60,Validation loss = 0.0000\n"
          ]
        },
        {
          "output_type": "stream",
          "name": "stderr",
          "text": [
            "\r 80%|████████  | 24/30 [18:26<04:37, 46.22s/it]"
          ]
        },
        {
          "output_type": "stream",
          "name": "stdout",
          "text": [
            "Epoch 24 : training_accuracy = 81.11, training_loss = 0.0000,Validation accuracy = 80.68,Validation loss = 0.0000\n"
          ]
        },
        {
          "output_type": "stream",
          "name": "stderr",
          "text": [
            "\r 83%|████████▎ | 25/30 [19:12<03:50, 46.06s/it]"
          ]
        },
        {
          "output_type": "stream",
          "name": "stdout",
          "text": [
            "Epoch 25 : training_accuracy = 81.22, training_loss = 0.0000,Validation accuracy = 80.88,Validation loss = 0.0000\n"
          ]
        },
        {
          "output_type": "stream",
          "name": "stderr",
          "text": [
            "\r 87%|████████▋ | 26/30 [19:59<03:05, 46.36s/it]"
          ]
        },
        {
          "output_type": "stream",
          "name": "stdout",
          "text": [
            "Epoch 26 : training_accuracy = 81.30, training_loss = 0.0000,Validation accuracy = 81.00,Validation loss = 0.0000\n"
          ]
        },
        {
          "output_type": "stream",
          "name": "stderr",
          "text": [
            "\r 90%|█████████ | 27/30 [20:45<02:18, 46.29s/it]"
          ]
        },
        {
          "output_type": "stream",
          "name": "stdout",
          "text": [
            "Epoch 27 : training_accuracy = 81.36, training_loss = 0.0000,Validation accuracy = 81.07,Validation loss = 0.0000\n"
          ]
        },
        {
          "output_type": "stream",
          "name": "stderr",
          "text": [
            "\r 93%|█████████▎| 28/30 [21:32<01:32, 46.38s/it]"
          ]
        },
        {
          "output_type": "stream",
          "name": "stdout",
          "text": [
            "Epoch 28 : training_accuracy = 81.47, training_loss = 0.0000,Validation accuracy = 81.07,Validation loss = 0.0000\n"
          ]
        },
        {
          "output_type": "stream",
          "name": "stderr",
          "text": [
            "\r 97%|█████████▋| 29/30 [22:18<00:46, 46.31s/it]"
          ]
        },
        {
          "output_type": "stream",
          "name": "stdout",
          "text": [
            "Epoch 29 : training_accuracy = 81.59, training_loss = 0.0000,Validation accuracy = 81.15,Validation loss = 0.0000\n"
          ]
        },
        {
          "output_type": "stream",
          "name": "stderr",
          "text": [
            "100%|██████████| 30/30 [23:06<00:00, 46.21s/it]"
          ]
        },
        {
          "output_type": "stream",
          "name": "stdout",
          "text": [
            "Epoch 30 : training_accuracy = 81.68, training_loss = 0.0000,Validation accuracy = 81.23,Validation loss = 0.0000\n"
          ]
        },
        {
          "output_type": "stream",
          "name": "stderr",
          "text": [
            "\n"
          ]
        },
        {
          "output_type": "display_data",
          "data": {
            "text/plain": [
              "<IPython.core.display.HTML object>"
            ],
            "text/html": [
              "Waiting for W&B process to finish... <strong style=\"color:green\">(success).</strong>"
            ]
          },
          "metadata": {}
        },
        {
          "output_type": "display_data",
          "data": {
            "text/plain": [
              "<IPython.core.display.HTML object>"
            ],
            "text/html": [
              "<style>\n",
              "    table.wandb td:nth-child(1) { padding: 0 10px; text-align: left ; width: auto;} td:nth-child(2) {text-align: left ; width: 100%}\n",
              "    .wandb-row { display: flex; flex-direction: row; flex-wrap: wrap; justify-content: flex-start; width: 100% }\n",
              "    .wandb-col { display: flex; flex-direction: column; flex-basis: 100%; flex: 1; padding: 10px; }\n",
              "    </style>\n",
              "<div class=\"wandb-row\"><div class=\"wandb-col\"><h3>Run history:</h3><br/><table class=\"wandb\"><tr><td>accuracy</td><td>▁▃▄▅▅▅▆▆▆▆▆▆▇▇▇▇▇▇▇▇▇▇▇███████</td></tr><tr><td>steps</td><td>▁▁▁▁▁▁▁▁▁▁▁▁▁▁▁▁▁▁▁▁▁▁▁▁▁▁▁▁▁▁</td></tr><tr><td>train_loss</td><td>▃▂▁▁▃█▂▃▁▁▂▁▂▃▁▄▂▁▁▁▂▂▃▁▁█▁▁▁▁</td></tr><tr><td>val_accuracy</td><td>▁▃▄▅▅▅▆▆▆▆▆▇▇▇▇▇▇▇▇▇▇▇▇███████</td></tr><tr><td>val_loss</td><td>█▄▂▁▁▂▃▁▁▁▂▁▂▁▁▁▁▁▁▃▃▃▂▂▁▂▁▂▂▂</td></tr></table><br/></div><div class=\"wandb-col\"><h3>Run summary:</h3><br/><table class=\"wandb\"><tr><td>accuracy</td><td>81.67778</td></tr><tr><td>steps</td><td>30</td></tr><tr><td>train_loss</td><td>0.0</td></tr><tr><td>val_accuracy</td><td>81.23333</td></tr><tr><td>val_loss</td><td>0.0</td></tr></table><br/></div></div>"
            ]
          },
          "metadata": {}
        },
        {
          "output_type": "display_data",
          "data": {
            "text/plain": [
              "<IPython.core.display.HTML object>"
            ],
            "text/html": [
              " View run <strong style=\"color:#cdcd00\">fresh-sweep-2</strong> at: <a href='https://wandb.ai/shreyashgadgil007/CS-6910%20A1/runs/u0xcy3d3' target=\"_blank\">https://wandb.ai/shreyashgadgil007/CS-6910%20A1/runs/u0xcy3d3</a><br/>Synced 5 W&B file(s), 0 media file(s), 0 artifact file(s) and 0 other file(s)"
            ]
          },
          "metadata": {}
        },
        {
          "output_type": "display_data",
          "data": {
            "text/plain": [
              "<IPython.core.display.HTML object>"
            ],
            "text/html": [
              "Find logs at: <code>./wandb/run-20230318_062751-u0xcy3d3/logs</code>"
            ]
          },
          "metadata": {}
        }
      ]
    },
    {
      "cell_type": "markdown",
      "source": [
        "# **Preparing MNIST dataset**\n"
      ],
      "metadata": {
        "id": "e2Bs1bZFqSQn"
      }
    },
    {
      "cell_type": "code",
      "source": [
        "from keras.datasets import mnist\n",
        "def dataset_preprocess():\n",
        "  #change the code below to accept different dataset\n",
        "  (X_1, Y_1), (X_test, Y_test) = mnist.load_data()\n",
        "  \n",
        "  #importing dataset again and normalizing\n",
        "  X_1 = X_1.reshape(X_1.shape[0],-1)/255.0\n",
        "  X_test = X_test.reshape(X_test.shape[0],-1)/255.0\n",
        "\n",
        "  #training and validation split as specified in the question 10%\n",
        "  X_train, X_val, Y_train, Y_val= train_test_split(X_1,Y_1,test_size=0.1,random_state=0)\n",
        "  \n",
        "  #one hot encoding\n",
        "  Y_train_encoded=np.zeros((Y_train.shape[0],10))\n",
        "  for i in range(len(Y_train)):\n",
        "    Y_train_encoded[i][Y_train[i]]=1\n",
        "\n",
        "  Y_val_encoded=np.zeros((Y_val.shape[0],10))\n",
        "  for i in range(len(Y_val)):\n",
        "    Y_val_encoded[i][Y_val[i]]=1\n",
        "\n",
        "  Y_test_encoded=np.zeros((Y_test.shape[0],10))\n",
        "  for i in range(len(Y_test)):\n",
        "    Y_test_encoded[i][Y_test[i]]=1\n",
        "\n",
        "  return X_train.T,X_test.T,X_val.T,Y_train.T,Y_val.T,Y_test.T,Y_train_encoded.T,Y_val_encoded.T,Y_test_encoded.T\n",
        "\n",
        "#Below variables will be used in the entire code\n",
        "X_train,X_test,X_val,Y_train,Y_val,Y_test,Y_train_encoded,Y_val_encoded,Y_test_encoded=dataset_preprocess()\n",
        "print(Y_val_encoded[0])\n",
        "print(X_test.shape)\n",
        "print(Y_train_encoded.shape)\n",
        "print(X_train.shape)\n",
        "print(Y_test_encoded.shape)\n"
      ],
      "metadata": {
        "colab": {
          "base_uri": "https://localhost:8080/"
        },
        "id": "ExG9fZhA1XMC",
        "outputId": "d0143e44-f435-46b8-ce30-090058c408e0"
      },
      "execution_count": null,
      "outputs": [
        {
          "output_type": "stream",
          "name": "stdout",
          "text": [
            "[0. 0. 0. ... 0. 0. 0.]\n",
            "(784, 10000)\n",
            "(10, 54000)\n",
            "(784, 54000)\n",
            "(10, 10000)\n"
          ]
        }
      ]
    },
    {
      "cell_type": "markdown",
      "source": [
        "# **Sweep 4**\n",
        "Done to find out accuracy on MNIST dataset"
      ],
      "metadata": {
        "id": "_7o5_T7-ggmP"
      }
    },
    {
      "cell_type": "code",
      "source": [
        "sweep_config = {\n",
        "    'method': 'grid', #grid, random,bayes\n",
        "    'metric': {\n",
        "      'name': 'val_accuracy',\n",
        "      'goal': 'maximize'  \n",
        "    },\n",
        "    'parameters': {\n",
        "        'epochs': {\n",
        "            'values': [30]\n",
        "        },\n",
        "        'learning_rate': {\n",
        "            'values': [0.0001]\n",
        "        },\n",
        "        'loss_function':{\n",
        "            'values':['cross_entropy']\n",
        "        },\n",
        "        'initilisation':{\n",
        "            'values':['xavier']\n",
        "        },\n",
        "        'batch_size':{\n",
        "            'values':[32]\n",
        "        },\n",
        "        'optimiser': {\n",
        "            'values': ['nadam','adam','rmsprop']\n",
        "        },\n",
        "        'activation': {\n",
        "            'values': ['tanh']\n",
        "        },\n",
        "        'hidden_layer': {\n",
        "            'values': [\n",
        "                       [256,256,256]]\n",
        "        },\n",
        "        \n",
        "        'weight_decay':{\n",
        "            'values':[0.0005]\n",
        "            \n",
        "        },\n",
        "        'dropout_rate':{\n",
        "          'values':[0]  \n",
        "                }\n",
        "        \n",
        "    }\n",
        "}\n",
        "\n",
        "sweep_id = wandb.sweep(sweep_config, entity='shreyashgadgil007', project=\"CS-6910 A1\")\n",
        "\n",
        "def train1():\n",
        "  steps = 10\n",
        "  # Default values for hyper-parameters we're going to sweep over\n",
        "  config_defaults = {\n",
        "      'epochs': 5,\n",
        "      'input_layer': 784,\n",
        "      'output_layer': 10,\n",
        "      'batch_size':64,\n",
        "      'dropout_rate':0,\n",
        "      'weight_decay':0.005,\n",
        "      'learning_rate': 0.0001,\n",
        "      'hidden_layer':[16,16,16],\n",
        "      'optimiser':'mgd',\n",
        "      'activation':'sigmoid',\n",
        "      'initialisation':'xavier',\n",
        "      'loss_function':'cross_entropy'\n",
        "      \n",
        "  }\n",
        "\n",
        "  # Initialize a new wandb run\n",
        "  wandb.init(project='CS-6910 A1', entity='shreyashgadgil007',config=config_defaults)\n",
        "  wandb.run.name = 'b_s:'+str(wandb.config.batch_size)+',lr:'+ str(wandb.config.learning_rate)+'drop:'+str(wandb.config.dropout_rate)+',ep:'+str(wandb.config.epochs)+ ',opt:'+str(wandb.config.optimiser)+ ',hl:'+str(wandb.config.hidden_layer)+ ',act:'+str(wandb.config.activation)+',decay:'+str(wandb.config.weight_decay)+',init:'+str(wandb.config.initialisation)+',loss:'+str(wandb.config.loss_function)\n",
        "\n",
        "  \n",
        "  # Config is a variable that holds and saves hyperparameters and inputs\n",
        "  config = wandb.config\n",
        "  learning_rate = config.learning_rate\n",
        "  epochs = int(config.epochs)\n",
        "  hidden_layer = config.hidden_layer\n",
        "  activation = config.activation\n",
        "  optimiser = config.optimiser\n",
        "  input_layer = config.input_layer\n",
        "  output_layer = config.output_layer\n",
        "  batch_size = config.batch_size\n",
        "  weight_decay = config.weight_decay\n",
        "  loss_function = config.loss_function\n",
        "  initialisation = config.initilisation\n",
        "  dropout_rate = config.dropout_rate\n",
        "  # Model training here\n",
        "  sweep_network    = NeuralNet(input_layer, hidden_layer, output_layer,initialisation,activation,loss_function,dropout_rate)\n",
        "  acc1,acc2,train_loss,val_loss  = sweep_network.train(X_train,Y_train,X_val,Y_val,learning_rate,epochs,optimiser,batch_size,weight_decay,WandB=True)\n",
        "  # print('Acc',acc2)\n",
        "\n",
        "import warnings\n",
        "warnings.filterwarnings(\"ignore\", category=np.VisibleDeprecationWarning)\n",
        "wandb.agent(sweep_id, function=train1, count=3)"
      ],
      "metadata": {
        "colab": {
          "base_uri": "https://localhost:8080/",
          "height": 1000,
          "referenced_widgets": [
            "312cf2e620b742878bbc06209e948446",
            "5dc9d7347ff5435eae26ad5de95b3327",
            "ca9ab3d39d2a4f3f8793197366bc88e9",
            "6a28b4713f784349adbd369468245abb",
            "c94ff0c5f4c54606a609fffcc2bc706a",
            "6432a2ff941d4a14b67e3c3e3f95a01d",
            "0b61dafcb94a457498a9a166bb698cd4",
            "fb590936a3514de6a37fb3d11a3061f6"
          ]
        },
        "id": "CatepfSF14dN",
        "outputId": "222185d0-84f3-43d0-88f6-be36e630ee13"
      },
      "execution_count": null,
      "outputs": [
        {
          "output_type": "stream",
          "name": "stdout",
          "text": [
            "Create sweep with ID: bn0r36dt\n",
            "Sweep URL: https://wandb.ai/shreyashgadgil007/CS-6910%20A1/sweeps/bn0r36dt\n"
          ]
        },
        {
          "output_type": "stream",
          "name": "stderr",
          "text": [
            "\u001b[34m\u001b[1mwandb\u001b[0m: Agent Starting Run: zpdgi9v0 with config:\n",
            "\u001b[34m\u001b[1mwandb\u001b[0m: \tactivation: tanh\n",
            "\u001b[34m\u001b[1mwandb\u001b[0m: \tbatch_size: 32\n",
            "\u001b[34m\u001b[1mwandb\u001b[0m: \tdropout_rate: 0\n",
            "\u001b[34m\u001b[1mwandb\u001b[0m: \tepochs: 30\n",
            "\u001b[34m\u001b[1mwandb\u001b[0m: \thidden_layer: [256, 256, 256]\n",
            "\u001b[34m\u001b[1mwandb\u001b[0m: \tinitilisation: xavier\n",
            "\u001b[34m\u001b[1mwandb\u001b[0m: \tlearning_rate: 0.0001\n",
            "\u001b[34m\u001b[1mwandb\u001b[0m: \tloss_function: cross_entropy\n",
            "\u001b[34m\u001b[1mwandb\u001b[0m: \toptimiser: nadam\n",
            "\u001b[34m\u001b[1mwandb\u001b[0m: \tweight_decay: 0.0005\n",
            "\u001b[34m\u001b[1mwandb\u001b[0m: Currently logged in as: \u001b[33mshreyashgadgil007\u001b[0m. Use \u001b[1m`wandb login --relogin`\u001b[0m to force relogin\n",
            "\u001b[34m\u001b[1mwandb\u001b[0m: \u001b[33mWARNING\u001b[0m Ignored wandb.init() arg project when running a sweep.\n",
            "\u001b[34m\u001b[1mwandb\u001b[0m: \u001b[33mWARNING\u001b[0m Ignored wandb.init() arg entity when running a sweep.\n"
          ]
        },
        {
          "output_type": "display_data",
          "data": {
            "text/plain": [
              "<IPython.core.display.HTML object>"
            ],
            "text/html": [
              "Tracking run with wandb version 0.14.0"
            ]
          },
          "metadata": {}
        },
        {
          "output_type": "display_data",
          "data": {
            "text/plain": [
              "<IPython.core.display.HTML object>"
            ],
            "text/html": [
              "Run data is saved locally in <code>/content/wandb/run-20230318_080138-zpdgi9v0</code>"
            ]
          },
          "metadata": {}
        },
        {
          "output_type": "display_data",
          "data": {
            "text/plain": [
              "<IPython.core.display.HTML object>"
            ],
            "text/html": [
              "Syncing run <strong><a href='https://wandb.ai/shreyashgadgil007/CS-6910%20A1/runs/zpdgi9v0' target=\"_blank\">fallen-sweep-1</a></strong> to <a href='https://wandb.ai/shreyashgadgil007/CS-6910%20A1' target=\"_blank\">Weights & Biases</a> (<a href='https://wandb.me/run' target=\"_blank\">docs</a>)<br/>Sweep page: <a href='https://wandb.ai/shreyashgadgil007/CS-6910%20A1/sweeps/bn0r36dt' target=\"_blank\">https://wandb.ai/shreyashgadgil007/CS-6910%20A1/sweeps/bn0r36dt</a>"
            ]
          },
          "metadata": {}
        },
        {
          "output_type": "display_data",
          "data": {
            "text/plain": [
              "<IPython.core.display.HTML object>"
            ],
            "text/html": [
              " View project at <a href='https://wandb.ai/shreyashgadgil007/CS-6910%20A1' target=\"_blank\">https://wandb.ai/shreyashgadgil007/CS-6910%20A1</a>"
            ]
          },
          "metadata": {}
        },
        {
          "output_type": "display_data",
          "data": {
            "text/plain": [
              "<IPython.core.display.HTML object>"
            ],
            "text/html": [
              " View sweep at <a href='https://wandb.ai/shreyashgadgil007/CS-6910%20A1/sweeps/bn0r36dt' target=\"_blank\">https://wandb.ai/shreyashgadgil007/CS-6910%20A1/sweeps/bn0r36dt</a>"
            ]
          },
          "metadata": {}
        },
        {
          "output_type": "display_data",
          "data": {
            "text/plain": [
              "<IPython.core.display.HTML object>"
            ],
            "text/html": [
              " View run at <a href='https://wandb.ai/shreyashgadgil007/CS-6910%20A1/runs/zpdgi9v0' target=\"_blank\">https://wandb.ai/shreyashgadgil007/CS-6910%20A1/runs/zpdgi9v0</a>"
            ]
          },
          "metadata": {}
        },
        {
          "output_type": "stream",
          "name": "stderr",
          "text": [
            "  3%|▎         | 1/30 [00:47<22:59, 47.58s/it]"
          ]
        },
        {
          "output_type": "stream",
          "name": "stdout",
          "text": [
            "Epoch 1 : training_accuracy = 83.89, training_loss = 0.5415,Validation accuracy = 84.03,Validation loss = 0.5319\n"
          ]
        },
        {
          "output_type": "stream",
          "name": "stderr",
          "text": [
            "\r  7%|▋         | 2/30 [01:34<21:55, 46.97s/it]"
          ]
        },
        {
          "output_type": "stream",
          "name": "stdout",
          "text": [
            "Epoch 2 : training_accuracy = 86.71, training_loss = 0.4541,Validation accuracy = 86.58,Validation loss = 0.4464\n"
          ]
        },
        {
          "output_type": "stream",
          "name": "stderr",
          "text": [
            "\r 10%|█         | 3/30 [02:20<21:02, 46.77s/it]"
          ]
        },
        {
          "output_type": "stream",
          "name": "stdout",
          "text": [
            "Epoch 3 : training_accuracy = 87.90, training_loss = 0.4142,Validation accuracy = 88.00,Validation loss = 0.4078\n"
          ]
        },
        {
          "output_type": "stream",
          "name": "stderr",
          "text": [
            "\r 13%|█▎        | 4/30 [03:06<20:09, 46.51s/it]"
          ]
        },
        {
          "output_type": "stream",
          "name": "stdout",
          "text": [
            "Epoch 4 : training_accuracy = 88.66, training_loss = 0.3898,Validation accuracy = 88.75,Validation loss = 0.3845\n"
          ]
        },
        {
          "output_type": "stream",
          "name": "stderr",
          "text": [
            "\r 17%|█▋        | 5/30 [03:52<19:14, 46.19s/it]"
          ]
        },
        {
          "output_type": "stream",
          "name": "stdout",
          "text": [
            "Epoch 5 : training_accuracy = 89.12, training_loss = 0.3726,Validation accuracy = 89.22,Validation loss = 0.3682\n"
          ]
        },
        {
          "output_type": "stream",
          "name": "stderr",
          "text": [
            "\r 20%|██        | 6/30 [04:37<18:19, 45.83s/it]"
          ]
        },
        {
          "output_type": "stream",
          "name": "stdout",
          "text": [
            "Epoch 6 : training_accuracy = 89.46, training_loss = 0.3595,Validation accuracy = 89.50,Validation loss = 0.3560\n"
          ]
        },
        {
          "output_type": "stream",
          "name": "stderr",
          "text": [
            "\r 23%|██▎       | 7/30 [05:22<17:30, 45.69s/it]"
          ]
        },
        {
          "output_type": "stream",
          "name": "stdout",
          "text": [
            "Epoch 7 : training_accuracy = 89.81, training_loss = 0.3490,Validation accuracy = 89.63,Validation loss = 0.3463\n"
          ]
        },
        {
          "output_type": "stream",
          "name": "stderr",
          "text": [
            "\r 27%|██▋       | 8/30 [06:09<16:54, 46.09s/it]"
          ]
        },
        {
          "output_type": "stream",
          "name": "stdout",
          "text": [
            "Epoch 8 : training_accuracy = 90.07, training_loss = 0.3402,Validation accuracy = 89.87,Validation loss = 0.3383\n"
          ]
        },
        {
          "output_type": "stream",
          "name": "stderr",
          "text": [
            "\r 30%|███       | 9/30 [06:55<16:01, 45.80s/it]"
          ]
        },
        {
          "output_type": "stream",
          "name": "stdout",
          "text": [
            "Epoch 9 : training_accuracy = 90.28, training_loss = 0.3327,Validation accuracy = 90.22,Validation loss = 0.3315\n"
          ]
        },
        {
          "output_type": "stream",
          "name": "stderr",
          "text": [
            "\r 33%|███▎      | 10/30 [07:40<15:12, 45.62s/it]"
          ]
        },
        {
          "output_type": "stream",
          "name": "stdout",
          "text": [
            "Epoch 10 : training_accuracy = 90.49, training_loss = 0.3261,Validation accuracy = 90.25,Validation loss = 0.3255\n"
          ]
        },
        {
          "output_type": "stream",
          "name": "stderr",
          "text": [
            "\r 37%|███▋      | 11/30 [08:26<14:29, 45.78s/it]"
          ]
        },
        {
          "output_type": "stream",
          "name": "stdout",
          "text": [
            "Epoch 11 : training_accuracy = 90.65, training_loss = 0.3202,Validation accuracy = 90.50,Validation loss = 0.3203\n"
          ]
        },
        {
          "output_type": "stream",
          "name": "stderr",
          "text": [
            "\r 40%|████      | 12/30 [09:12<13:43, 45.74s/it]"
          ]
        },
        {
          "output_type": "stream",
          "name": "stdout",
          "text": [
            "Epoch 12 : training_accuracy = 90.80, training_loss = 0.3149,Validation accuracy = 90.48,Validation loss = 0.3156\n"
          ]
        },
        {
          "output_type": "stream",
          "name": "stderr",
          "text": [
            "\r 43%|████▎     | 13/30 [09:59<13:06, 46.28s/it]"
          ]
        },
        {
          "output_type": "stream",
          "name": "stdout",
          "text": [
            "Epoch 13 : training_accuracy = 90.91, training_loss = 0.3100,Validation accuracy = 90.62,Validation loss = 0.3113\n"
          ]
        },
        {
          "output_type": "stream",
          "name": "stderr",
          "text": [
            "\r 47%|████▋     | 14/30 [10:44<12:14, 45.91s/it]"
          ]
        },
        {
          "output_type": "stream",
          "name": "stdout",
          "text": [
            "Epoch 14 : training_accuracy = 91.06, training_loss = 0.3056,Validation accuracy = 90.77,Validation loss = 0.3074\n"
          ]
        },
        {
          "output_type": "stream",
          "name": "stderr",
          "text": [
            "\r 50%|█████     | 15/30 [11:29<11:24, 45.67s/it]"
          ]
        },
        {
          "output_type": "stream",
          "name": "stdout",
          "text": [
            "Epoch 15 : training_accuracy = 91.16, training_loss = 0.3014,Validation accuracy = 90.83,Validation loss = 0.3038\n"
          ]
        },
        {
          "output_type": "stream",
          "name": "stderr",
          "text": [
            "\r 53%|█████▎    | 16/30 [12:14<10:37, 45.54s/it]"
          ]
        },
        {
          "output_type": "stream",
          "name": "stdout",
          "text": [
            "Epoch 16 : training_accuracy = 91.27, training_loss = 0.2975,Validation accuracy = 90.93,Validation loss = 0.3004\n"
          ]
        },
        {
          "output_type": "stream",
          "name": "stderr",
          "text": [
            "\r 57%|█████▋    | 17/30 [13:00<09:51, 45.51s/it]"
          ]
        },
        {
          "output_type": "stream",
          "name": "stdout",
          "text": [
            "Epoch 17 : training_accuracy = 91.40, training_loss = 0.2939,Validation accuracy = 91.05,Validation loss = 0.2972\n"
          ]
        },
        {
          "output_type": "stream",
          "name": "stderr",
          "text": [
            "\r 60%|██████    | 18/30 [13:48<09:14, 46.20s/it]"
          ]
        },
        {
          "output_type": "stream",
          "name": "stdout",
          "text": [
            "Epoch 18 : training_accuracy = 91.51, training_loss = 0.2904,Validation accuracy = 91.20,Validation loss = 0.2942\n"
          ]
        },
        {
          "output_type": "stream",
          "name": "stderr",
          "text": [
            "\r 63%|██████▎   | 19/30 [14:32<08:23, 45.77s/it]"
          ]
        },
        {
          "output_type": "stream",
          "name": "stdout",
          "text": [
            "Epoch 19 : training_accuracy = 91.61, training_loss = 0.2871,Validation accuracy = 91.22,Validation loss = 0.2914\n"
          ]
        },
        {
          "output_type": "stream",
          "name": "stderr",
          "text": [
            "\r 67%|██████▋   | 20/30 [15:17<07:34, 45.45s/it]"
          ]
        },
        {
          "output_type": "stream",
          "name": "stdout",
          "text": [
            "Epoch 20 : training_accuracy = 91.69, training_loss = 0.2840,Validation accuracy = 91.33,Validation loss = 0.2887\n"
          ]
        },
        {
          "output_type": "stream",
          "name": "stderr",
          "text": [
            "\r 70%|███████   | 21/30 [16:04<06:51, 45.74s/it]"
          ]
        },
        {
          "output_type": "stream",
          "name": "stdout",
          "text": [
            "Epoch 21 : training_accuracy = 91.78, training_loss = 0.2810,Validation accuracy = 91.40,Validation loss = 0.2862\n"
          ]
        },
        {
          "output_type": "stream",
          "name": "stderr",
          "text": [
            "\r 73%|███████▎  | 22/30 [16:50<06:07, 45.99s/it]"
          ]
        },
        {
          "output_type": "stream",
          "name": "stdout",
          "text": [
            "Epoch 22 : training_accuracy = 91.88, training_loss = 0.2781,Validation accuracy = 91.50,Validation loss = 0.2838\n"
          ]
        },
        {
          "output_type": "stream",
          "name": "stderr",
          "text": [
            "\r 77%|███████▋  | 23/30 [17:36<05:21, 45.87s/it]"
          ]
        },
        {
          "output_type": "stream",
          "name": "stdout",
          "text": [
            "Epoch 23 : training_accuracy = 91.96, training_loss = 0.2753,Validation accuracy = 91.57,Validation loss = 0.2814\n"
          ]
        },
        {
          "output_type": "stream",
          "name": "stderr",
          "text": [
            "\r 80%|████████  | 24/30 [18:21<04:33, 45.59s/it]"
          ]
        },
        {
          "output_type": "stream",
          "name": "stdout",
          "text": [
            "Epoch 24 : training_accuracy = 92.04, training_loss = 0.2727,Validation accuracy = 91.63,Validation loss = 0.2792\n"
          ]
        },
        {
          "output_type": "stream",
          "name": "stderr",
          "text": [
            "\r 83%|████████▎ | 25/30 [19:06<03:46, 45.38s/it]"
          ]
        },
        {
          "output_type": "stream",
          "name": "stdout",
          "text": [
            "Epoch 25 : training_accuracy = 92.11, training_loss = 0.2701,Validation accuracy = 91.68,Validation loss = 0.2770\n"
          ]
        },
        {
          "output_type": "stream",
          "name": "stderr",
          "text": [
            "\r 87%|████████▋ | 26/30 [19:51<03:02, 45.51s/it]"
          ]
        },
        {
          "output_type": "stream",
          "name": "stdout",
          "text": [
            "Epoch 26 : training_accuracy = 92.20, training_loss = 0.2676,Validation accuracy = 91.72,Validation loss = 0.2749\n"
          ]
        },
        {
          "output_type": "stream",
          "name": "stderr",
          "text": [
            "\r 90%|█████████ | 27/30 [20:38<02:17, 45.87s/it]"
          ]
        },
        {
          "output_type": "stream",
          "name": "stdout",
          "text": [
            "Epoch 27 : training_accuracy = 92.26, training_loss = 0.2652,Validation accuracy = 91.80,Validation loss = 0.2729\n"
          ]
        },
        {
          "output_type": "stream",
          "name": "stderr",
          "text": [
            "\r 93%|█████████▎| 28/30 [21:25<01:32, 46.04s/it]"
          ]
        },
        {
          "output_type": "stream",
          "name": "stdout",
          "text": [
            "Epoch 28 : training_accuracy = 92.34, training_loss = 0.2628,Validation accuracy = 91.88,Validation loss = 0.2709\n"
          ]
        },
        {
          "output_type": "stream",
          "name": "stderr",
          "text": [
            "\r 97%|█████████▋| 29/30 [22:09<00:45, 45.63s/it]"
          ]
        },
        {
          "output_type": "stream",
          "name": "stdout",
          "text": [
            "Epoch 29 : training_accuracy = 92.41, training_loss = 0.2605,Validation accuracy = 91.90,Validation loss = 0.2691\n"
          ]
        },
        {
          "output_type": "stream",
          "name": "stderr",
          "text": [
            "100%|██████████| 30/30 [22:56<00:00, 45.87s/it]"
          ]
        },
        {
          "output_type": "stream",
          "name": "stdout",
          "text": [
            "Epoch 30 : training_accuracy = 92.47, training_loss = 0.2583,Validation accuracy = 92.00,Validation loss = 0.2672\n"
          ]
        },
        {
          "output_type": "stream",
          "name": "stderr",
          "text": [
            "\n"
          ]
        },
        {
          "output_type": "display_data",
          "data": {
            "text/plain": [
              "<IPython.core.display.HTML object>"
            ],
            "text/html": [
              "Waiting for W&B process to finish... <strong style=\"color:green\">(success).</strong>"
            ]
          },
          "metadata": {}
        },
        {
          "output_type": "display_data",
          "data": {
            "text/plain": [
              "<IPython.core.display.HTML object>"
            ],
            "text/html": [
              "<style>\n",
              "    table.wandb td:nth-child(1) { padding: 0 10px; text-align: left ; width: auto;} td:nth-child(2) {text-align: left ; width: 100%}\n",
              "    .wandb-row { display: flex; flex-direction: row; flex-wrap: wrap; justify-content: flex-start; width: 100% }\n",
              "    .wandb-col { display: flex; flex-direction: column; flex-basis: 100%; flex: 1; padding: 10px; }\n",
              "    </style>\n",
              "<div class=\"wandb-row\"><div class=\"wandb-col\"><h3>Run history:</h3><br/><table class=\"wandb\"><tr><td>accuracy</td><td>▁▃▄▅▅▆▆▆▆▆▇▇▇▇▇▇▇▇▇▇▇█████████</td></tr><tr><td>steps</td><td>▁▁▁▁▁▁▁▁▁▁▁▁▁▁▁▁▁▁▁▁▁▁▁▁▁▁▁▁▁▁</td></tr><tr><td>train_loss</td><td>█▆▅▄▄▄▃▃▃▃▃▂▂▂▂▂▂▂▂▂▂▁▁▁▁▁▁▁▁▁</td></tr><tr><td>val_accuracy</td><td>▁▃▄▅▆▆▆▆▆▆▇▇▇▇▇▇▇▇▇▇▇█████████</td></tr><tr><td>val_loss</td><td>█▆▅▄▄▃▃▃▃▃▂▂▂▂▂▂▂▂▂▂▂▁▁▁▁▁▁▁▁▁</td></tr></table><br/></div><div class=\"wandb-col\"><h3>Run summary:</h3><br/><table class=\"wandb\"><tr><td>accuracy</td><td>92.46667</td></tr><tr><td>steps</td><td>30</td></tr><tr><td>train_loss</td><td>0.2583</td></tr><tr><td>val_accuracy</td><td>92.0</td></tr><tr><td>val_loss</td><td>0.26721</td></tr></table><br/></div></div>"
            ]
          },
          "metadata": {}
        },
        {
          "output_type": "display_data",
          "data": {
            "text/plain": [
              "<IPython.core.display.HTML object>"
            ],
            "text/html": [
              " View run <strong style=\"color:#cdcd00\">fallen-sweep-1</strong> at: <a href='https://wandb.ai/shreyashgadgil007/CS-6910%20A1/runs/zpdgi9v0' target=\"_blank\">https://wandb.ai/shreyashgadgil007/CS-6910%20A1/runs/zpdgi9v0</a><br/>Synced 5 W&B file(s), 0 media file(s), 0 artifact file(s) and 0 other file(s)"
            ]
          },
          "metadata": {}
        },
        {
          "output_type": "display_data",
          "data": {
            "text/plain": [
              "<IPython.core.display.HTML object>"
            ],
            "text/html": [
              "Find logs at: <code>./wandb/run-20230318_080138-zpdgi9v0/logs</code>"
            ]
          },
          "metadata": {}
        },
        {
          "output_type": "stream",
          "name": "stderr",
          "text": [
            "\u001b[34m\u001b[1mwandb\u001b[0m: Sweep Agent: Waiting for job.\n",
            "\u001b[34m\u001b[1mwandb\u001b[0m: Job received.\n",
            "\u001b[34m\u001b[1mwandb\u001b[0m: Agent Starting Run: jggiseyp with config:\n",
            "\u001b[34m\u001b[1mwandb\u001b[0m: \tactivation: tanh\n",
            "\u001b[34m\u001b[1mwandb\u001b[0m: \tbatch_size: 32\n",
            "\u001b[34m\u001b[1mwandb\u001b[0m: \tdropout_rate: 0\n",
            "\u001b[34m\u001b[1mwandb\u001b[0m: \tepochs: 30\n",
            "\u001b[34m\u001b[1mwandb\u001b[0m: \thidden_layer: [256, 256, 256]\n",
            "\u001b[34m\u001b[1mwandb\u001b[0m: \tinitilisation: xavier\n",
            "\u001b[34m\u001b[1mwandb\u001b[0m: \tlearning_rate: 0.0001\n",
            "\u001b[34m\u001b[1mwandb\u001b[0m: \tloss_function: cross_entropy\n",
            "\u001b[34m\u001b[1mwandb\u001b[0m: \toptimiser: adam\n",
            "\u001b[34m\u001b[1mwandb\u001b[0m: \tweight_decay: 0.0005\n",
            "\u001b[34m\u001b[1mwandb\u001b[0m: \u001b[33mWARNING\u001b[0m Ignored wandb.init() arg project when running a sweep.\n",
            "\u001b[34m\u001b[1mwandb\u001b[0m: \u001b[33mWARNING\u001b[0m Ignored wandb.init() arg entity when running a sweep.\n"
          ]
        },
        {
          "output_type": "display_data",
          "data": {
            "text/plain": [
              "<IPython.core.display.HTML object>"
            ],
            "text/html": [
              "Tracking run with wandb version 0.14.0"
            ]
          },
          "metadata": {}
        },
        {
          "output_type": "display_data",
          "data": {
            "text/plain": [
              "<IPython.core.display.HTML object>"
            ],
            "text/html": [
              "Run data is saved locally in <code>/content/wandb/run-20230318_082456-jggiseyp</code>"
            ]
          },
          "metadata": {}
        },
        {
          "output_type": "display_data",
          "data": {
            "text/plain": [
              "<IPython.core.display.HTML object>"
            ],
            "text/html": [
              "Syncing run <strong><a href='https://wandb.ai/shreyashgadgil007/CS-6910%20A1/runs/jggiseyp' target=\"_blank\">spring-sweep-2</a></strong> to <a href='https://wandb.ai/shreyashgadgil007/CS-6910%20A1' target=\"_blank\">Weights & Biases</a> (<a href='https://wandb.me/run' target=\"_blank\">docs</a>)<br/>Sweep page: <a href='https://wandb.ai/shreyashgadgil007/CS-6910%20A1/sweeps/bn0r36dt' target=\"_blank\">https://wandb.ai/shreyashgadgil007/CS-6910%20A1/sweeps/bn0r36dt</a>"
            ]
          },
          "metadata": {}
        },
        {
          "output_type": "display_data",
          "data": {
            "text/plain": [
              "<IPython.core.display.HTML object>"
            ],
            "text/html": [
              " View project at <a href='https://wandb.ai/shreyashgadgil007/CS-6910%20A1' target=\"_blank\">https://wandb.ai/shreyashgadgil007/CS-6910%20A1</a>"
            ]
          },
          "metadata": {}
        },
        {
          "output_type": "display_data",
          "data": {
            "text/plain": [
              "<IPython.core.display.HTML object>"
            ],
            "text/html": [
              " View sweep at <a href='https://wandb.ai/shreyashgadgil007/CS-6910%20A1/sweeps/bn0r36dt' target=\"_blank\">https://wandb.ai/shreyashgadgil007/CS-6910%20A1/sweeps/bn0r36dt</a>"
            ]
          },
          "metadata": {}
        },
        {
          "output_type": "display_data",
          "data": {
            "text/plain": [
              "<IPython.core.display.HTML object>"
            ],
            "text/html": [
              " View run at <a href='https://wandb.ai/shreyashgadgil007/CS-6910%20A1/runs/jggiseyp' target=\"_blank\">https://wandb.ai/shreyashgadgil007/CS-6910%20A1/runs/jggiseyp</a>"
            ]
          },
          "metadata": {}
        },
        {
          "output_type": "stream",
          "name": "stderr",
          "text": [
            "  3%|▎         | 1/30 [00:43<20:49, 43.08s/it]"
          ]
        },
        {
          "output_type": "stream",
          "name": "stdout",
          "text": [
            "Epoch 1 : training_accuracy = 83.85, training_loss = 0.5421,Validation accuracy = 84.05,Validation loss = 0.5324\n"
          ]
        },
        {
          "output_type": "stream",
          "name": "stderr",
          "text": [
            "\r  7%|▋         | 2/30 [01:25<19:59, 42.84s/it]"
          ]
        },
        {
          "output_type": "stream",
          "name": "stdout",
          "text": [
            "Epoch 2 : training_accuracy = 86.68, training_loss = 0.4544,Validation accuracy = 86.58,Validation loss = 0.4467\n"
          ]
        },
        {
          "output_type": "stream",
          "name": "stderr",
          "text": [
            "\r 10%|█         | 3/30 [02:08<19:17, 42.87s/it]"
          ]
        },
        {
          "output_type": "stream",
          "name": "stdout",
          "text": [
            "Epoch 3 : training_accuracy = 87.89, training_loss = 0.4144,Validation accuracy = 87.98,Validation loss = 0.4080\n"
          ]
        },
        {
          "output_type": "stream",
          "name": "stderr",
          "text": [
            "\r 13%|█▎        | 4/30 [02:51<18:33, 42.81s/it]"
          ]
        },
        {
          "output_type": "stream",
          "name": "stdout",
          "text": [
            "Epoch 4 : training_accuracy = 88.63, training_loss = 0.3899,Validation accuracy = 88.75,Validation loss = 0.3846\n"
          ]
        },
        {
          "output_type": "stream",
          "name": "stderr",
          "text": [
            "\r 17%|█▋        | 5/30 [03:33<17:47, 42.71s/it]"
          ]
        },
        {
          "output_type": "stream",
          "name": "stdout",
          "text": [
            "Epoch 5 : training_accuracy = 89.11, training_loss = 0.3727,Validation accuracy = 89.22,Validation loss = 0.3683\n"
          ]
        },
        {
          "output_type": "stream",
          "name": "stderr",
          "text": [
            "\r 20%|██        | 6/30 [04:16<17:02, 42.60s/it]"
          ]
        },
        {
          "output_type": "stream",
          "name": "stdout",
          "text": [
            "Epoch 6 : training_accuracy = 89.46, training_loss = 0.3596,Validation accuracy = 89.47,Validation loss = 0.3561\n"
          ]
        },
        {
          "output_type": "stream",
          "name": "stderr",
          "text": [
            "\r 23%|██▎       | 7/30 [04:58<16:18, 42.56s/it]"
          ]
        },
        {
          "output_type": "stream",
          "name": "stdout",
          "text": [
            "Epoch 7 : training_accuracy = 89.81, training_loss = 0.3491,Validation accuracy = 89.63,Validation loss = 0.3464\n"
          ]
        },
        {
          "output_type": "stream",
          "name": "stderr",
          "text": [
            "\r 27%|██▋       | 8/30 [05:41<15:36, 42.55s/it]"
          ]
        },
        {
          "output_type": "stream",
          "name": "stdout",
          "text": [
            "Epoch 8 : training_accuracy = 90.07, training_loss = 0.3403,Validation accuracy = 89.92,Validation loss = 0.3384\n"
          ]
        },
        {
          "output_type": "stream",
          "name": "stderr",
          "text": [
            "\r 30%|███       | 9/30 [06:23<14:54, 42.58s/it]"
          ]
        },
        {
          "output_type": "stream",
          "name": "stdout",
          "text": [
            "Epoch 9 : training_accuracy = 90.28, training_loss = 0.3328,Validation accuracy = 90.22,Validation loss = 0.3315\n"
          ]
        },
        {
          "output_type": "stream",
          "name": "stderr",
          "text": [
            "\r 33%|███▎      | 10/30 [07:06<14:11, 42.57s/it]"
          ]
        },
        {
          "output_type": "stream",
          "name": "stdout",
          "text": [
            "Epoch 10 : training_accuracy = 90.49, training_loss = 0.3262,Validation accuracy = 90.27,Validation loss = 0.3256\n"
          ]
        },
        {
          "output_type": "stream",
          "name": "stderr",
          "text": [
            "\r 37%|███▋      | 11/30 [07:49<13:28, 42.57s/it]"
          ]
        },
        {
          "output_type": "stream",
          "name": "stdout",
          "text": [
            "Epoch 11 : training_accuracy = 90.65, training_loss = 0.3203,Validation accuracy = 90.50,Validation loss = 0.3203\n"
          ]
        },
        {
          "output_type": "stream",
          "name": "stderr",
          "text": [
            "\r 40%|████      | 12/30 [08:32<12:48, 42.68s/it]"
          ]
        },
        {
          "output_type": "stream",
          "name": "stdout",
          "text": [
            "Epoch 12 : training_accuracy = 90.80, training_loss = 0.3150,Validation accuracy = 90.47,Validation loss = 0.3156\n"
          ]
        },
        {
          "output_type": "stream",
          "name": "stderr",
          "text": [
            "\r 43%|████▎     | 13/30 [09:14<12:04, 42.64s/it]"
          ]
        },
        {
          "output_type": "stream",
          "name": "stdout",
          "text": [
            "Epoch 13 : training_accuracy = 90.92, training_loss = 0.3101,Validation accuracy = 90.62,Validation loss = 0.3114\n"
          ]
        },
        {
          "output_type": "stream",
          "name": "stderr",
          "text": [
            "\r 47%|████▋     | 14/30 [09:57<11:24, 42.79s/it]"
          ]
        },
        {
          "output_type": "stream",
          "name": "stdout",
          "text": [
            "Epoch 14 : training_accuracy = 91.06, training_loss = 0.3056,Validation accuracy = 90.77,Validation loss = 0.3074\n"
          ]
        },
        {
          "output_type": "stream",
          "name": "stderr",
          "text": [
            "\r 50%|█████     | 15/30 [10:40<10:40, 42.69s/it]"
          ]
        },
        {
          "output_type": "stream",
          "name": "stdout",
          "text": [
            "Epoch 15 : training_accuracy = 91.17, training_loss = 0.3015,Validation accuracy = 90.83,Validation loss = 0.3038\n"
          ]
        },
        {
          "output_type": "stream",
          "name": "stderr",
          "text": [
            "\r 53%|█████▎    | 16/30 [11:22<09:56, 42.59s/it]"
          ]
        },
        {
          "output_type": "stream",
          "name": "stdout",
          "text": [
            "Epoch 16 : training_accuracy = 91.27, training_loss = 0.2976,Validation accuracy = 90.93,Validation loss = 0.3004\n"
          ]
        },
        {
          "output_type": "stream",
          "name": "stderr",
          "text": [
            "\r 57%|█████▋    | 17/30 [12:04<09:12, 42.50s/it]"
          ]
        },
        {
          "output_type": "stream",
          "name": "stdout",
          "text": [
            "Epoch 17 : training_accuracy = 91.39, training_loss = 0.2939,Validation accuracy = 91.05,Validation loss = 0.2973\n"
          ]
        },
        {
          "output_type": "stream",
          "name": "stderr",
          "text": [
            "\r 60%|██████    | 18/30 [12:47<08:29, 42.46s/it]"
          ]
        },
        {
          "output_type": "stream",
          "name": "stdout",
          "text": [
            "Epoch 18 : training_accuracy = 91.51, training_loss = 0.2905,Validation accuracy = 91.18,Validation loss = 0.2943\n"
          ]
        },
        {
          "output_type": "stream",
          "name": "stderr",
          "text": [
            "\r 63%|██████▎   | 19/30 [13:30<07:48, 42.59s/it]"
          ]
        },
        {
          "output_type": "stream",
          "name": "stdout",
          "text": [
            "Epoch 19 : training_accuracy = 91.61, training_loss = 0.2872,Validation accuracy = 91.22,Validation loss = 0.2915\n"
          ]
        },
        {
          "output_type": "stream",
          "name": "stderr",
          "text": [
            "\r 67%|██████▋   | 20/30 [14:12<07:05, 42.54s/it]"
          ]
        },
        {
          "output_type": "stream",
          "name": "stdout",
          "text": [
            "Epoch 20 : training_accuracy = 91.69, training_loss = 0.2840,Validation accuracy = 91.33,Validation loss = 0.2888\n"
          ]
        },
        {
          "output_type": "stream",
          "name": "stderr",
          "text": [
            "\r 70%|███████   | 21/30 [14:54<06:22, 42.46s/it]"
          ]
        },
        {
          "output_type": "stream",
          "name": "stdout",
          "text": [
            "Epoch 21 : training_accuracy = 91.77, training_loss = 0.2810,Validation accuracy = 91.43,Validation loss = 0.2862\n"
          ]
        },
        {
          "output_type": "stream",
          "name": "stderr",
          "text": [
            "\r 73%|███████▎  | 22/30 [15:36<05:39, 42.39s/it]"
          ]
        },
        {
          "output_type": "stream",
          "name": "stdout",
          "text": [
            "Epoch 22 : training_accuracy = 91.87, training_loss = 0.2781,Validation accuracy = 91.50,Validation loss = 0.2838\n"
          ]
        },
        {
          "output_type": "stream",
          "name": "stderr",
          "text": [
            "\r 77%|███████▋  | 23/30 [16:19<04:57, 42.51s/it]"
          ]
        },
        {
          "output_type": "stream",
          "name": "stdout",
          "text": [
            "Epoch 23 : training_accuracy = 91.96, training_loss = 0.2754,Validation accuracy = 91.55,Validation loss = 0.2814\n"
          ]
        },
        {
          "output_type": "stream",
          "name": "stderr",
          "text": [
            "\r 80%|████████  | 24/30 [17:01<04:14, 42.37s/it]"
          ]
        },
        {
          "output_type": "stream",
          "name": "stdout",
          "text": [
            "Epoch 24 : training_accuracy = 92.04, training_loss = 0.2727,Validation accuracy = 91.63,Validation loss = 0.2792\n"
          ]
        },
        {
          "output_type": "stream",
          "name": "stderr",
          "text": [
            "\r 83%|████████▎ | 25/30 [17:44<03:31, 42.36s/it]"
          ]
        },
        {
          "output_type": "stream",
          "name": "stdout",
          "text": [
            "Epoch 25 : training_accuracy = 92.11, training_loss = 0.2701,Validation accuracy = 91.68,Validation loss = 0.2770\n"
          ]
        },
        {
          "output_type": "stream",
          "name": "stderr",
          "text": [
            "\r 87%|████████▋ | 26/30 [18:26<02:49, 42.41s/it]"
          ]
        },
        {
          "output_type": "stream",
          "name": "stdout",
          "text": [
            "Epoch 26 : training_accuracy = 92.20, training_loss = 0.2676,Validation accuracy = 91.72,Validation loss = 0.2749\n"
          ]
        },
        {
          "output_type": "stream",
          "name": "stderr",
          "text": [
            "\r 90%|█████████ | 27/30 [19:09<02:07, 42.41s/it]"
          ]
        },
        {
          "output_type": "stream",
          "name": "stdout",
          "text": [
            "Epoch 27 : training_accuracy = 92.26, training_loss = 0.2652,Validation accuracy = 91.80,Validation loss = 0.2729\n"
          ]
        },
        {
          "output_type": "stream",
          "name": "stderr",
          "text": [
            "\r 93%|█████████▎| 28/30 [19:51<01:24, 42.37s/it]"
          ]
        },
        {
          "output_type": "stream",
          "name": "stdout",
          "text": [
            "Epoch 28 : training_accuracy = 92.34, training_loss = 0.2628,Validation accuracy = 91.88,Validation loss = 0.2710\n"
          ]
        },
        {
          "output_type": "stream",
          "name": "stderr",
          "text": [
            "\r 97%|█████████▋| 29/30 [20:33<00:42, 42.28s/it]"
          ]
        },
        {
          "output_type": "stream",
          "name": "stdout",
          "text": [
            "Epoch 29 : training_accuracy = 92.41, training_loss = 0.2606,Validation accuracy = 91.92,Validation loss = 0.2691\n"
          ]
        },
        {
          "output_type": "stream",
          "name": "stderr",
          "text": [
            "100%|██████████| 30/30 [21:15<00:00, 42.53s/it]"
          ]
        },
        {
          "output_type": "stream",
          "name": "stdout",
          "text": [
            "Epoch 30 : training_accuracy = 92.47, training_loss = 0.2583,Validation accuracy = 91.98,Validation loss = 0.2672\n"
          ]
        },
        {
          "output_type": "stream",
          "name": "stderr",
          "text": [
            "\n"
          ]
        },
        {
          "output_type": "display_data",
          "data": {
            "text/plain": [
              "<IPython.core.display.HTML object>"
            ],
            "text/html": [
              "Waiting for W&B process to finish... <strong style=\"color:green\">(success).</strong>"
            ]
          },
          "metadata": {}
        },
        {
          "output_type": "display_data",
          "data": {
            "text/plain": [
              "VBox(children=(Label(value='0.001 MB of 0.001 MB uploaded (0.000 MB deduped)\\r'), FloatProgress(value=1.0, max…"
            ],
            "application/vnd.jupyter.widget-view+json": {
              "version_major": 2,
              "version_minor": 0,
              "model_id": "312cf2e620b742878bbc06209e948446"
            }
          },
          "metadata": {}
        },
        {
          "output_type": "display_data",
          "data": {
            "text/plain": [
              "<IPython.core.display.HTML object>"
            ],
            "text/html": [
              "<style>\n",
              "    table.wandb td:nth-child(1) { padding: 0 10px; text-align: left ; width: auto;} td:nth-child(2) {text-align: left ; width: 100%}\n",
              "    .wandb-row { display: flex; flex-direction: row; flex-wrap: wrap; justify-content: flex-start; width: 100% }\n",
              "    .wandb-col { display: flex; flex-direction: column; flex-basis: 100%; flex: 1; padding: 10px; }\n",
              "    </style>\n",
              "<div class=\"wandb-row\"><div class=\"wandb-col\"><h3>Run history:</h3><br/><table class=\"wandb\"><tr><td>accuracy</td><td>▁▃▄▅▅▆▆▆▆▆▇▇▇▇▇▇▇▇▇▇▇█████████</td></tr><tr><td>steps</td><td>▁▁▁▁▁▁▁▁▁▁▁▁▁▁▁▁▁▁▁▁▁▁▁▁▁▁▁▁▁▁</td></tr><tr><td>train_loss</td><td>█▆▅▄▄▃▃▃▃▃▃▂▂▂▂▂▂▂▂▂▂▁▁▁▁▁▁▁▁▁</td></tr><tr><td>val_accuracy</td><td>▁▃▄▅▆▆▆▆▆▆▇▇▇▇▇▇▇▇▇▇██████████</td></tr><tr><td>val_loss</td><td>█▆▅▄▄▃▃▃▃▃▂▂▂▂▂▂▂▂▂▂▂▁▁▁▁▁▁▁▁▁</td></tr></table><br/></div><div class=\"wandb-col\"><h3>Run summary:</h3><br/><table class=\"wandb\"><tr><td>accuracy</td><td>92.47037</td></tr><tr><td>steps</td><td>30</td></tr><tr><td>train_loss</td><td>0.25833</td></tr><tr><td>val_accuracy</td><td>91.98333</td></tr><tr><td>val_loss</td><td>0.26722</td></tr></table><br/></div></div>"
            ]
          },
          "metadata": {}
        },
        {
          "output_type": "display_data",
          "data": {
            "text/plain": [
              "<IPython.core.display.HTML object>"
            ],
            "text/html": [
              " View run <strong style=\"color:#cdcd00\">spring-sweep-2</strong> at: <a href='https://wandb.ai/shreyashgadgil007/CS-6910%20A1/runs/jggiseyp' target=\"_blank\">https://wandb.ai/shreyashgadgil007/CS-6910%20A1/runs/jggiseyp</a><br/>Synced 5 W&B file(s), 0 media file(s), 0 artifact file(s) and 0 other file(s)"
            ]
          },
          "metadata": {}
        },
        {
          "output_type": "display_data",
          "data": {
            "text/plain": [
              "<IPython.core.display.HTML object>"
            ],
            "text/html": [
              "Find logs at: <code>./wandb/run-20230318_082456-jggiseyp/logs</code>"
            ]
          },
          "metadata": {}
        },
        {
          "output_type": "stream",
          "name": "stderr",
          "text": [
            "\u001b[34m\u001b[1mwandb\u001b[0m: Agent Starting Run: ui00tebn with config:\n",
            "\u001b[34m\u001b[1mwandb\u001b[0m: \tactivation: tanh\n",
            "\u001b[34m\u001b[1mwandb\u001b[0m: \tbatch_size: 32\n",
            "\u001b[34m\u001b[1mwandb\u001b[0m: \tdropout_rate: 0\n",
            "\u001b[34m\u001b[1mwandb\u001b[0m: \tepochs: 30\n",
            "\u001b[34m\u001b[1mwandb\u001b[0m: \thidden_layer: [256, 256, 256]\n",
            "\u001b[34m\u001b[1mwandb\u001b[0m: \tinitilisation: xavier\n",
            "\u001b[34m\u001b[1mwandb\u001b[0m: \tlearning_rate: 0.0001\n",
            "\u001b[34m\u001b[1mwandb\u001b[0m: \tloss_function: cross_entropy\n",
            "\u001b[34m\u001b[1mwandb\u001b[0m: \toptimiser: rmsprop\n",
            "\u001b[34m\u001b[1mwandb\u001b[0m: \tweight_decay: 0.0005\n",
            "\u001b[34m\u001b[1mwandb\u001b[0m: \u001b[33mWARNING\u001b[0m Ignored wandb.init() arg project when running a sweep.\n",
            "\u001b[34m\u001b[1mwandb\u001b[0m: \u001b[33mWARNING\u001b[0m Ignored wandb.init() arg entity when running a sweep.\n"
          ]
        },
        {
          "output_type": "display_data",
          "data": {
            "text/plain": [
              "<IPython.core.display.HTML object>"
            ],
            "text/html": [
              "Tracking run with wandb version 0.14.0"
            ]
          },
          "metadata": {}
        },
        {
          "output_type": "display_data",
          "data": {
            "text/plain": [
              "<IPython.core.display.HTML object>"
            ],
            "text/html": [
              "Run data is saved locally in <code>/content/wandb/run-20230318_084626-ui00tebn</code>"
            ]
          },
          "metadata": {}
        },
        {
          "output_type": "display_data",
          "data": {
            "text/plain": [
              "<IPython.core.display.HTML object>"
            ],
            "text/html": [
              "Syncing run <strong><a href='https://wandb.ai/shreyashgadgil007/CS-6910%20A1/runs/ui00tebn' target=\"_blank\">bumbling-sweep-3</a></strong> to <a href='https://wandb.ai/shreyashgadgil007/CS-6910%20A1' target=\"_blank\">Weights & Biases</a> (<a href='https://wandb.me/run' target=\"_blank\">docs</a>)<br/>Sweep page: <a href='https://wandb.ai/shreyashgadgil007/CS-6910%20A1/sweeps/bn0r36dt' target=\"_blank\">https://wandb.ai/shreyashgadgil007/CS-6910%20A1/sweeps/bn0r36dt</a>"
            ]
          },
          "metadata": {}
        },
        {
          "output_type": "display_data",
          "data": {
            "text/plain": [
              "<IPython.core.display.HTML object>"
            ],
            "text/html": [
              " View project at <a href='https://wandb.ai/shreyashgadgil007/CS-6910%20A1' target=\"_blank\">https://wandb.ai/shreyashgadgil007/CS-6910%20A1</a>"
            ]
          },
          "metadata": {}
        },
        {
          "output_type": "display_data",
          "data": {
            "text/plain": [
              "<IPython.core.display.HTML object>"
            ],
            "text/html": [
              " View sweep at <a href='https://wandb.ai/shreyashgadgil007/CS-6910%20A1/sweeps/bn0r36dt' target=\"_blank\">https://wandb.ai/shreyashgadgil007/CS-6910%20A1/sweeps/bn0r36dt</a>"
            ]
          },
          "metadata": {}
        },
        {
          "output_type": "display_data",
          "data": {
            "text/plain": [
              "<IPython.core.display.HTML object>"
            ],
            "text/html": [
              " View run at <a href='https://wandb.ai/shreyashgadgil007/CS-6910%20A1/runs/ui00tebn' target=\"_blank\">https://wandb.ai/shreyashgadgil007/CS-6910%20A1/runs/ui00tebn</a>"
            ]
          },
          "metadata": {}
        },
        {
          "output_type": "stream",
          "name": "stderr",
          "text": [
            "  3%|▎         | 1/30 [00:37<18:17, 37.83s/it]"
          ]
        },
        {
          "output_type": "stream",
          "name": "stdout",
          "text": [
            "Epoch 1 : training_accuracy = 79.87, training_loss = 0.6649,Validation accuracy = 80.15,Validation loss = 0.6552\n"
          ]
        },
        {
          "output_type": "stream",
          "name": "stderr",
          "text": [
            "\r  7%|▋         | 2/30 [01:13<17:07, 36.68s/it]"
          ]
        },
        {
          "output_type": "stream",
          "name": "stdout",
          "text": [
            "Epoch 2 : training_accuracy = 84.21, training_loss = 0.5249,Validation accuracy = 84.32,Validation loss = 0.5171\n"
          ]
        },
        {
          "output_type": "stream",
          "name": "stderr",
          "text": [
            "\r 10%|█         | 3/30 [01:51<16:46, 37.28s/it]"
          ]
        },
        {
          "output_type": "stream",
          "name": "stdout",
          "text": [
            "Epoch 3 : training_accuracy = 86.16, training_loss = 0.4618,Validation accuracy = 86.28,Validation loss = 0.4551\n"
          ]
        },
        {
          "output_type": "stream",
          "name": "stderr",
          "text": [
            "\r 13%|█▎        | 4/30 [02:28<16:01, 36.97s/it]"
          ]
        },
        {
          "output_type": "stream",
          "name": "stdout",
          "text": [
            "Epoch 4 : training_accuracy = 87.30, training_loss = 0.4236,Validation accuracy = 87.40,Validation loss = 0.4180\n"
          ]
        },
        {
          "output_type": "stream",
          "name": "stderr",
          "text": [
            "\r 17%|█▋        | 5/30 [03:05<15:30, 37.22s/it]"
          ]
        },
        {
          "output_type": "stream",
          "name": "stdout",
          "text": [
            "Epoch 5 : training_accuracy = 88.11, training_loss = 0.3972,Validation accuracy = 88.28,Validation loss = 0.3927\n"
          ]
        },
        {
          "output_type": "stream",
          "name": "stderr",
          "text": [
            "\r 20%|██        | 6/30 [03:43<14:57, 37.41s/it]"
          ]
        },
        {
          "output_type": "stream",
          "name": "stdout",
          "text": [
            "Epoch 6 : training_accuracy = 88.68, training_loss = 0.3773,Validation accuracy = 88.95,Validation loss = 0.3739\n"
          ]
        },
        {
          "output_type": "stream",
          "name": "stderr",
          "text": [
            "\r 23%|██▎       | 7/30 [04:19<14:12, 37.06s/it]"
          ]
        },
        {
          "output_type": "stream",
          "name": "stdout",
          "text": [
            "Epoch 7 : training_accuracy = 89.17, training_loss = 0.3614,Validation accuracy = 89.33,Validation loss = 0.3591\n"
          ]
        },
        {
          "output_type": "stream",
          "name": "stderr",
          "text": [
            "\r 27%|██▋       | 8/30 [04:57<13:39, 37.26s/it]"
          ]
        },
        {
          "output_type": "stream",
          "name": "stdout",
          "text": [
            "Epoch 8 : training_accuracy = 89.62, training_loss = 0.3483,Validation accuracy = 89.50,Validation loss = 0.3471\n"
          ]
        },
        {
          "output_type": "stream",
          "name": "stderr",
          "text": [
            "\r 30%|███       | 9/30 [05:34<13:02, 37.25s/it]"
          ]
        },
        {
          "output_type": "stream",
          "name": "stdout",
          "text": [
            "Epoch 9 : training_accuracy = 89.98, training_loss = 0.3371,Validation accuracy = 89.87,Validation loss = 0.3370\n"
          ]
        },
        {
          "output_type": "stream",
          "name": "stderr",
          "text": [
            "\r 33%|███▎      | 10/30 [06:12<12:25, 37.28s/it]"
          ]
        },
        {
          "output_type": "stream",
          "name": "stdout",
          "text": [
            "Epoch 10 : training_accuracy = 90.31, training_loss = 0.3274,Validation accuracy = 90.28,Validation loss = 0.3284\n"
          ]
        },
        {
          "output_type": "stream",
          "name": "stderr",
          "text": [
            "\r 37%|███▋      | 11/30 [06:50<11:51, 37.43s/it]"
          ]
        },
        {
          "output_type": "stream",
          "name": "stdout",
          "text": [
            "Epoch 11 : training_accuracy = 90.59, training_loss = 0.3188,Validation accuracy = 90.43,Validation loss = 0.3208\n"
          ]
        },
        {
          "output_type": "stream",
          "name": "stderr",
          "text": [
            "\r 40%|████      | 12/30 [07:26<11:07, 37.08s/it]"
          ]
        },
        {
          "output_type": "stream",
          "name": "stdout",
          "text": [
            "Epoch 12 : training_accuracy = 90.84, training_loss = 0.3110,Validation accuracy = 90.53,Validation loss = 0.3141\n"
          ]
        },
        {
          "output_type": "stream",
          "name": "stderr",
          "text": [
            "\r 43%|████▎     | 13/30 [08:04<10:35, 37.39s/it]"
          ]
        },
        {
          "output_type": "stream",
          "name": "stdout",
          "text": [
            "Epoch 13 : training_accuracy = 91.01, training_loss = 0.3040,Validation accuracy = 90.77,Validation loss = 0.3080\n"
          ]
        },
        {
          "output_type": "stream",
          "name": "stderr",
          "text": [
            "\r 47%|████▋     | 14/30 [08:41<09:59, 37.44s/it]"
          ]
        },
        {
          "output_type": "stream",
          "name": "stdout",
          "text": [
            "Epoch 14 : training_accuracy = 91.22, training_loss = 0.2976,Validation accuracy = 90.97,Validation loss = 0.3025\n"
          ]
        },
        {
          "output_type": "stream",
          "name": "stderr",
          "text": [
            "\r 50%|█████     | 15/30 [09:17<09:14, 36.99s/it]"
          ]
        },
        {
          "output_type": "stream",
          "name": "stdout",
          "text": [
            "Epoch 15 : training_accuracy = 91.40, training_loss = 0.2917,Validation accuracy = 91.08,Validation loss = 0.2975\n"
          ]
        },
        {
          "output_type": "stream",
          "name": "stderr",
          "text": [
            "\r 53%|█████▎    | 16/30 [09:54<08:35, 36.83s/it]"
          ]
        },
        {
          "output_type": "stream",
          "name": "stdout",
          "text": [
            "Epoch 16 : training_accuracy = 91.57, training_loss = 0.2862,Validation accuracy = 91.22,Validation loss = 0.2928\n"
          ]
        },
        {
          "output_type": "stream",
          "name": "stderr",
          "text": [
            "\r 57%|█████▋    | 17/30 [10:30<07:55, 36.61s/it]"
          ]
        },
        {
          "output_type": "stream",
          "name": "stdout",
          "text": [
            "Epoch 17 : training_accuracy = 91.78, training_loss = 0.2810,Validation accuracy = 91.27,Validation loss = 0.2885\n"
          ]
        },
        {
          "output_type": "stream",
          "name": "stderr",
          "text": [
            "\r 60%|██████    | 18/30 [11:05<07:14, 36.19s/it]"
          ]
        },
        {
          "output_type": "stream",
          "name": "stdout",
          "text": [
            "Epoch 18 : training_accuracy = 91.93, training_loss = 0.2762,Validation accuracy = 91.33,Validation loss = 0.2845\n"
          ]
        },
        {
          "output_type": "stream",
          "name": "stderr",
          "text": [
            "\r 63%|██████▎   | 19/30 [11:41<06:36, 36.09s/it]"
          ]
        },
        {
          "output_type": "stream",
          "name": "stdout",
          "text": [
            "Epoch 19 : training_accuracy = 92.07, training_loss = 0.2716,Validation accuracy = 91.43,Validation loss = 0.2807\n"
          ]
        },
        {
          "output_type": "stream",
          "name": "stderr",
          "text": [
            "\r 67%|██████▋   | 20/30 [12:17<06:00, 36.08s/it]"
          ]
        },
        {
          "output_type": "stream",
          "name": "stdout",
          "text": [
            "Epoch 20 : training_accuracy = 92.19, training_loss = 0.2673,Validation accuracy = 91.63,Validation loss = 0.2772\n"
          ]
        },
        {
          "output_type": "stream",
          "name": "stderr",
          "text": [
            "\r 70%|███████   | 21/30 [12:52<05:21, 35.67s/it]"
          ]
        },
        {
          "output_type": "stream",
          "name": "stdout",
          "text": [
            "Epoch 21 : training_accuracy = 92.30, training_loss = 0.2632,Validation accuracy = 91.72,Validation loss = 0.2738\n"
          ]
        },
        {
          "output_type": "stream",
          "name": "stderr",
          "text": [
            "\r 73%|███████▎  | 22/30 [13:28<04:46, 35.87s/it]"
          ]
        },
        {
          "output_type": "stream",
          "name": "stdout",
          "text": [
            "Epoch 22 : training_accuracy = 92.43, training_loss = 0.2593,Validation accuracy = 91.80,Validation loss = 0.2707\n"
          ]
        },
        {
          "output_type": "stream",
          "name": "stderr",
          "text": [
            "\r 77%|███████▋  | 23/30 [14:04<04:11, 35.99s/it]"
          ]
        },
        {
          "output_type": "stream",
          "name": "stdout",
          "text": [
            "Epoch 23 : training_accuracy = 92.52, training_loss = 0.2556,Validation accuracy = 91.83,Validation loss = 0.2676\n"
          ]
        },
        {
          "output_type": "stream",
          "name": "stderr",
          "text": [
            "\r 80%|████████  | 24/30 [14:39<03:33, 35.62s/it]"
          ]
        },
        {
          "output_type": "stream",
          "name": "stdout",
          "text": [
            "Epoch 24 : training_accuracy = 92.62, training_loss = 0.2520,Validation accuracy = 91.97,Validation loss = 0.2647\n"
          ]
        },
        {
          "output_type": "stream",
          "name": "stderr",
          "text": [
            "\r 83%|████████▎ | 25/30 [15:15<02:58, 35.76s/it]"
          ]
        },
        {
          "output_type": "stream",
          "name": "stdout",
          "text": [
            "Epoch 25 : training_accuracy = 92.70, training_loss = 0.2485,Validation accuracy = 92.02,Validation loss = 0.2620\n"
          ]
        },
        {
          "output_type": "stream",
          "name": "stderr",
          "text": [
            "\r 87%|████████▋ | 26/30 [15:51<02:23, 35.81s/it]"
          ]
        },
        {
          "output_type": "stream",
          "name": "stdout",
          "text": [
            "Epoch 26 : training_accuracy = 92.83, training_loss = 0.2452,Validation accuracy = 92.12,Validation loss = 0.2594\n"
          ]
        },
        {
          "output_type": "stream",
          "name": "stderr",
          "text": [
            "\r 90%|█████████ | 27/30 [16:26<01:46, 35.59s/it]"
          ]
        },
        {
          "output_type": "stream",
          "name": "stdout",
          "text": [
            "Epoch 27 : training_accuracy = 92.90, training_loss = 0.2421,Validation accuracy = 92.12,Validation loss = 0.2568\n"
          ]
        },
        {
          "output_type": "stream",
          "name": "stderr",
          "text": [
            "\r 93%|█████████▎| 28/30 [17:02<01:11, 35.64s/it]"
          ]
        },
        {
          "output_type": "stream",
          "name": "stdout",
          "text": [
            "Epoch 28 : training_accuracy = 93.01, training_loss = 0.2390,Validation accuracy = 92.17,Validation loss = 0.2544\n"
          ]
        },
        {
          "output_type": "stream",
          "name": "stderr",
          "text": [
            "\r 97%|█████████▋| 29/30 [17:38<00:35, 35.79s/it]"
          ]
        },
        {
          "output_type": "stream",
          "name": "stdout",
          "text": [
            "Epoch 29 : training_accuracy = 93.09, training_loss = 0.2360,Validation accuracy = 92.17,Validation loss = 0.2521\n"
          ]
        },
        {
          "output_type": "stream",
          "name": "stderr",
          "text": [
            "100%|██████████| 30/30 [18:14<00:00, 36.48s/it]"
          ]
        },
        {
          "output_type": "stream",
          "name": "stdout",
          "text": [
            "Epoch 30 : training_accuracy = 93.16, training_loss = 0.2331,Validation accuracy = 92.32,Validation loss = 0.2498\n"
          ]
        },
        {
          "output_type": "stream",
          "name": "stderr",
          "text": [
            "\n"
          ]
        },
        {
          "output_type": "display_data",
          "data": {
            "text/plain": [
              "<IPython.core.display.HTML object>"
            ],
            "text/html": [
              "Waiting for W&B process to finish... <strong style=\"color:green\">(success).</strong>"
            ]
          },
          "metadata": {}
        },
        {
          "output_type": "display_data",
          "data": {
            "text/plain": [
              "<IPython.core.display.HTML object>"
            ],
            "text/html": [
              "<style>\n",
              "    table.wandb td:nth-child(1) { padding: 0 10px; text-align: left ; width: auto;} td:nth-child(2) {text-align: left ; width: 100%}\n",
              "    .wandb-row { display: flex; flex-direction: row; flex-wrap: wrap; justify-content: flex-start; width: 100% }\n",
              "    .wandb-col { display: flex; flex-direction: column; flex-basis: 100%; flex: 1; padding: 10px; }\n",
              "    </style>\n",
              "<div class=\"wandb-row\"><div class=\"wandb-col\"><h3>Run history:</h3><br/><table class=\"wandb\"><tr><td>accuracy</td><td>▁▃▄▅▅▆▆▆▆▆▇▇▇▇▇▇▇▇▇▇██████████</td></tr><tr><td>steps</td><td>▁▁▁▁▁▁▁▁▁▁▁▁▁▁▁▁▁▁▁▁▁▁▁▁▁▁▁▁▁▁</td></tr><tr><td>train_loss</td><td>█▆▅▄▄▃▃▃▃▃▂▂▂▂▂▂▂▂▂▂▁▁▁▁▁▁▁▁▁▁</td></tr><tr><td>val_accuracy</td><td>▁▃▅▅▆▆▆▆▇▇▇▇▇▇▇▇▇▇▇███████████</td></tr><tr><td>val_loss</td><td>█▆▅▄▃▃▃▃▃▂▂▂▂▂▂▂▂▂▂▁▁▁▁▁▁▁▁▁▁▁</td></tr></table><br/></div><div class=\"wandb-col\"><h3>Run summary:</h3><br/><table class=\"wandb\"><tr><td>accuracy</td><td>93.16481</td></tr><tr><td>steps</td><td>30</td></tr><tr><td>train_loss</td><td>0.23313</td></tr><tr><td>val_accuracy</td><td>92.31667</td></tr><tr><td>val_loss</td><td>0.24982</td></tr></table><br/></div></div>"
            ]
          },
          "metadata": {}
        },
        {
          "output_type": "display_data",
          "data": {
            "text/plain": [
              "<IPython.core.display.HTML object>"
            ],
            "text/html": [
              " View run <strong style=\"color:#cdcd00\">bumbling-sweep-3</strong> at: <a href='https://wandb.ai/shreyashgadgil007/CS-6910%20A1/runs/ui00tebn' target=\"_blank\">https://wandb.ai/shreyashgadgil007/CS-6910%20A1/runs/ui00tebn</a><br/>Synced 5 W&B file(s), 0 media file(s), 0 artifact file(s) and 0 other file(s)"
            ]
          },
          "metadata": {}
        },
        {
          "output_type": "display_data",
          "data": {
            "text/plain": [
              "<IPython.core.display.HTML object>"
            ],
            "text/html": [
              "Find logs at: <code>./wandb/run-20230318_084626-ui00tebn/logs</code>"
            ]
          },
          "metadata": {}
        }
      ]
    }
  ]
}